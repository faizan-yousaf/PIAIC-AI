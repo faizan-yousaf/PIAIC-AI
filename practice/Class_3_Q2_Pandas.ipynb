{
 "cells": [
  {
   "cell_type": "markdown",
   "id": "e9f49cec",
   "metadata": {},
   "source": [
    "# Pandas:\n",
    "* Contains data structures & data manipulation tools to make `data cleaning and analysis` fast and easy in python\n",
    "* Designed for working with `tabuler` and `heterogeneous` (different data type) data\n",
    "* On the other hand, Numpy is used for woriking on `homogeneous` (same data type) data\n",
    "* We can do `data cleaning, Normalization & transformation` in Pandas"
   ]
  },
  {
   "cell_type": "code",
   "execution_count": 2,
   "id": "b0320bab",
   "metadata": {},
   "outputs": [],
   "source": [
    "#importing pandas:\n",
    "import pandas as pd"
   ]
  },
  {
   "cell_type": "markdown",
   "id": "e73d77fc",
   "metadata": {},
   "source": [
    "# --> In pandas we have:\n",
    "* Series :-      \"A series of data (1 dimensional)\"\n",
    "* DataFrames :-  \"A tabular data (2 dimensional)\""
   ]
  },
  {
   "cell_type": "code",
   "execution_count": 2,
   "id": "53afebac",
   "metadata": {},
   "outputs": [
    {
     "data": {
      "text/plain": [
       "0    1.0\n",
       "1    4.0\n",
       "2    7.0\n",
       "3    2.0\n",
       "4   -4.3\n",
       "dtype: float64"
      ]
     },
     "execution_count": 2,
     "metadata": {},
     "output_type": "execute_result"
    }
   ],
   "source": [
    "# to create a pandas series:\n",
    "s = pd.Series([1,4,7,2,-4.3])\n",
    "s"
   ]
  },
  {
   "cell_type": "code",
   "execution_count": 4,
   "id": "b523b5f3",
   "metadata": {},
   "outputs": [
    {
     "data": {
      "text/plain": [
       "array([ 1. ,  4. ,  7. ,  2. , -4.3])"
      ]
     },
     "execution_count": 4,
     "metadata": {},
     "output_type": "execute_result"
    }
   ],
   "source": [
    "# to get values of pandas series:\n",
    "s.values"
   ]
  },
  {
   "cell_type": "code",
   "execution_count": 5,
   "id": "821d45b6",
   "metadata": {},
   "outputs": [
    {
     "data": {
      "text/plain": [
       "RangeIndex(start=0, stop=5, step=1)"
      ]
     },
     "execution_count": 5,
     "metadata": {},
     "output_type": "execute_result"
    }
   ],
   "source": [
    "# to get the index of pandas series:\n",
    "s.index"
   ]
  },
  {
   "cell_type": "code",
   "execution_count": 22,
   "id": "bc59f54c",
   "metadata": {},
   "outputs": [
    {
     "data": {
      "text/plain": [
       "dtype('float64')"
      ]
     },
     "execution_count": 22,
     "metadata": {},
     "output_type": "execute_result"
    }
   ],
   "source": [
    "# to check data type:\n",
    "s.dtype"
   ]
  },
  {
   "cell_type": "markdown",
   "id": "4ad8bb6a",
   "metadata": {},
   "source": [
    "### we can assign manual indexes: "
   ]
  },
  {
   "cell_type": "code",
   "execution_count": 7,
   "id": "47f93b7b",
   "metadata": {},
   "outputs": [
    {
     "data": {
      "text/plain": [
       "0     2.0\n",
       "1    53.0\n",
       "2    76.0\n",
       "3     9.0\n",
       "4    12.3\n",
       "dtype: float64"
      ]
     },
     "execution_count": 7,
     "metadata": {},
     "output_type": "execute_result"
    }
   ],
   "source": [
    "obj1 = pd.Series([2,53,76,9,12.3])\n",
    "obj1"
   ]
  },
  {
   "cell_type": "code",
   "execution_count": 10,
   "id": "6315bd73",
   "metadata": {},
   "outputs": [],
   "source": [
    "obj1 = pd.Series([2,53,76,9,12.3], index = ('a','b','c','d','e'))"
   ]
  },
  {
   "cell_type": "code",
   "execution_count": 11,
   "id": "289a90d1",
   "metadata": {},
   "outputs": [
    {
     "data": {
      "text/plain": [
       "a     2.0\n",
       "b    53.0\n",
       "c    76.0\n",
       "d     9.0\n",
       "e    12.3\n",
       "dtype: float64"
      ]
     },
     "execution_count": 11,
     "metadata": {},
     "output_type": "execute_result"
    }
   ],
   "source": [
    "obj1"
   ]
  },
  {
   "cell_type": "markdown",
   "id": "f46e59c7",
   "metadata": {},
   "source": [
    "### we can determine the data type of our Series by:"
   ]
  },
  {
   "cell_type": "code",
   "execution_count": 16,
   "id": "a49fc315",
   "metadata": {},
   "outputs": [],
   "source": [
    "obj1 = pd.Series([2,53,76,9,12], index = (1,2,3,4,5), dtype = float)"
   ]
  },
  {
   "cell_type": "code",
   "execution_count": 17,
   "id": "19377981",
   "metadata": {},
   "outputs": [
    {
     "data": {
      "text/plain": [
       "1     2.0\n",
       "2    53.0\n",
       "3    76.0\n",
       "4     9.0\n",
       "5    12.0\n",
       "dtype: float64"
      ]
     },
     "execution_count": 17,
     "metadata": {},
     "output_type": "execute_result"
    }
   ],
   "source": [
    "obj1"
   ]
  },
  {
   "cell_type": "code",
   "execution_count": 19,
   "id": "8375c2a6",
   "metadata": {},
   "outputs": [
    {
     "data": {
      "text/plain": [
       "array([ 2., 53., 76.,  9., 12.])"
      ]
     },
     "execution_count": 19,
     "metadata": {},
     "output_type": "execute_result"
    }
   ],
   "source": [
    "obj1.values"
   ]
  },
  {
   "cell_type": "code",
   "execution_count": 20,
   "id": "fba47bb1",
   "metadata": {},
   "outputs": [
    {
     "data": {
      "text/plain": [
       "Int64Index([1, 2, 3, 4, 5], dtype='int64')"
      ]
     },
     "execution_count": 20,
     "metadata": {},
     "output_type": "execute_result"
    }
   ],
   "source": [
    "obj1.index"
   ]
  },
  {
   "cell_type": "code",
   "execution_count": 21,
   "id": "673ddcdf",
   "metadata": {},
   "outputs": [
    {
     "data": {
      "text/plain": [
       "dtype('float64')"
      ]
     },
     "execution_count": 21,
     "metadata": {},
     "output_type": "execute_result"
    }
   ],
   "source": [
    "obj1.dtype"
   ]
  },
  {
   "cell_type": "code",
   "execution_count": 27,
   "id": "3afb234c",
   "metadata": {},
   "outputs": [],
   "source": [
    "obj1 = pd.Series(['ali', 'hamza', 'umair', 'zahoor', 'waqar'], index = [1,2,3,4,5], dtype = object)"
   ]
  },
  {
   "cell_type": "code",
   "execution_count": 28,
   "id": "a85f29cf",
   "metadata": {},
   "outputs": [
    {
     "data": {
      "text/plain": [
       "1       ali\n",
       "2     hamza\n",
       "3     umair\n",
       "4    zahoor\n",
       "5     waqar\n",
       "dtype: object"
      ]
     },
     "execution_count": 28,
     "metadata": {},
     "output_type": "execute_result"
    }
   ],
   "source": [
    "obj1\n"
   ]
  },
  {
   "cell_type": "markdown",
   "id": "71dd6336",
   "metadata": {},
   "source": [
    "# we can make comparisons of our data:"
   ]
  },
  {
   "cell_type": "code",
   "execution_count": 29,
   "id": "48998c5c",
   "metadata": {},
   "outputs": [],
   "source": [
    "age = pd.Series([21,54,32], index = ['ali', 'hamza', 'ahmed'], dtype = object)"
   ]
  },
  {
   "cell_type": "code",
   "execution_count": 30,
   "id": "b09b7813",
   "metadata": {},
   "outputs": [
    {
     "data": {
      "text/plain": [
       "ali      21\n",
       "hamza    54\n",
       "ahmed    32\n",
       "dtype: object"
      ]
     },
     "execution_count": 30,
     "metadata": {},
     "output_type": "execute_result"
    }
   ],
   "source": [
    "age"
   ]
  },
  {
   "cell_type": "code",
   "execution_count": 31,
   "id": "59cc0b6a",
   "metadata": {},
   "outputs": [
    {
     "data": {
      "text/plain": [
       "ali      False\n",
       "hamza     True\n",
       "ahmed    False\n",
       "dtype: bool"
      ]
     },
     "execution_count": 31,
     "metadata": {},
     "output_type": "execute_result"
    }
   ],
   "source": [
    "age>50"
   ]
  },
  {
   "cell_type": "markdown",
   "id": "626ab519",
   "metadata": {},
   "source": [
    "# Filtering:\n",
    "* to get the exact values:\n",
    "    "
   ]
  },
  {
   "cell_type": "code",
   "execution_count": 32,
   "id": "f460abfc",
   "metadata": {},
   "outputs": [
    {
     "data": {
      "text/plain": [
       "hamza    54\n",
       "dtype: object"
      ]
     },
     "execution_count": 32,
     "metadata": {},
     "output_type": "execute_result"
    }
   ],
   "source": [
    "age[age>50] # filtering"
   ]
  },
  {
   "cell_type": "markdown",
   "id": "983d838c",
   "metadata": {},
   "source": [
    "# to get specific values from the series:"
   ]
  },
  {
   "cell_type": "code",
   "execution_count": 33,
   "id": "5225770a",
   "metadata": {},
   "outputs": [
    {
     "data": {
      "text/plain": [
       "21"
      ]
     },
     "execution_count": 33,
     "metadata": {},
     "output_type": "execute_result"
    }
   ],
   "source": [
    "age['ali'] #fancy indexing"
   ]
  },
  {
   "cell_type": "code",
   "execution_count": 34,
   "id": "1081db7e",
   "metadata": {},
   "outputs": [
    {
     "data": {
      "text/plain": [
       "ali      21\n",
       "hamza    54\n",
       "dtype: object"
      ]
     },
     "execution_count": 34,
     "metadata": {},
     "output_type": "execute_result"
    }
   ],
   "source": [
    "age[['ali', 'hamza']]"
   ]
  },
  {
   "cell_type": "code",
   "execution_count": null,
   "id": "95280430",
   "metadata": {},
   "outputs": [],
   "source": [
    "age = se"
   ]
  },
  {
   "cell_type": "code",
   "execution_count": 35,
   "id": "34250116",
   "metadata": {},
   "outputs": [
    {
     "data": {
      "text/plain": [
       "1       ali\n",
       "2     hamza\n",
       "3     umair\n",
       "4    zahoor\n",
       "5     waqar\n",
       "dtype: object"
      ]
     },
     "execution_count": 35,
     "metadata": {},
     "output_type": "execute_result"
    }
   ],
   "source": [
    "obj1"
   ]
  },
  {
   "cell_type": "markdown",
   "id": "d7cf5cd7",
   "metadata": {},
   "source": [
    "### we can reassign values also:\n",
    "    "
   ]
  },
  {
   "cell_type": "code",
   "execution_count": 40,
   "id": "5e1b80e9",
   "metadata": {},
   "outputs": [
    {
     "data": {
      "text/plain": [
       "ali      21\n",
       "hamza    54\n",
       "ahmed    32\n",
       "dtype: object"
      ]
     },
     "execution_count": 40,
     "metadata": {},
     "output_type": "execute_result"
    }
   ],
   "source": [
    "age\n"
   ]
  },
  {
   "cell_type": "code",
   "execution_count": 43,
   "id": "cfbc711e",
   "metadata": {},
   "outputs": [],
   "source": [
    "age['hamza', 'ahmed'] = 24, 18"
   ]
  },
  {
   "cell_type": "code",
   "execution_count": 44,
   "id": "c2e7c8a1",
   "metadata": {},
   "outputs": [
    {
     "data": {
      "text/plain": [
       "ali      21\n",
       "hamza    24\n",
       "ahmed    18\n",
       "dtype: object"
      ]
     },
     "execution_count": 44,
     "metadata": {},
     "output_type": "execute_result"
    }
   ],
   "source": [
    "age"
   ]
  },
  {
   "cell_type": "markdown",
   "id": "61106628",
   "metadata": {},
   "source": [
    "# We can add series using \"+\" but :\n",
    "   * only those values will be added whose keys are same \n",
    "     * i.e `'ahmed' 20 + 'ahmed' 10 = 'ahmed' 30`\n",
    "     \n",
    "   * keys with different names will have values NaN (Not a Number)\n",
    "       * NaN   `*,+,-,/`  with anything will be `NaN`"
   ]
  },
  {
   "cell_type": "code",
   "execution_count": 49,
   "id": "3f375e85",
   "metadata": {},
   "outputs": [],
   "source": [
    "age1 = pd.Series([21,54,32], index =  ['ali', 'hamza', 'ahmed'])\n",
    "age2 = pd.Series([10,10,10], index = ['faizan', 'umair', 'ahmed'])"
   ]
  },
  {
   "cell_type": "code",
   "execution_count": 50,
   "id": "5b18d1d8",
   "metadata": {
    "scrolled": true
   },
   "outputs": [
    {
     "data": {
      "text/plain": [
       "ahmed     42.0\n",
       "ali        NaN\n",
       "faizan     NaN\n",
       "hamza      NaN\n",
       "umair      NaN\n",
       "dtype: float64"
      ]
     },
     "execution_count": 50,
     "metadata": {},
     "output_type": "execute_result"
    }
   ],
   "source": [
    "age1+age2"
   ]
  },
  {
   "cell_type": "code",
   "execution_count": null,
   "id": "1359d009",
   "metadata": {},
   "outputs": [],
   "source": [
    "age1 = pd.Series([21,54,32], index =  ['ali', 'hamza', 'ahmed'])\n",
    "age2 = pd.Series([10,10,10], index = ['ali', 'hamza', 'ahmed'])"
   ]
  },
  {
   "cell_type": "code",
   "execution_count": 48,
   "id": "55021e46",
   "metadata": {},
   "outputs": [
    {
     "data": {
      "text/plain": [
       "ali      31\n",
       "hamza    64\n",
       "ahmed    42\n",
       "dtype: int64"
      ]
     },
     "execution_count": 48,
     "metadata": {},
     "output_type": "execute_result"
    }
   ],
   "source": [
    "age1+age2"
   ]
  },
  {
   "cell_type": "markdown",
   "id": "3cc24556",
   "metadata": {},
   "source": [
    "# creating Series from dictionary:"
   ]
  },
  {
   "cell_type": "code",
   "execution_count": 61,
   "id": "e4f09fd4",
   "metadata": {},
   "outputs": [
    {
     "data": {
      "text/plain": [
       "Names       [faizan, hamza, toseef, mateen]\n",
       "Degree                     [CS, SE, SE, CS]\n",
       "Semester                       [2, 8, 4, 4]\n",
       "age                        [21, 26, 23, 25]\n",
       "dtype: object"
      ]
     },
     "execution_count": 61,
     "metadata": {},
     "output_type": "execute_result"
    }
   ],
   "source": [
    "obj2 = pd.Series({\n",
    "    \"Names\": [\"faizan\", \"hamza\", \"toseef\", \"mateen\"],\n",
    "    \"Degree\": [\"CS\", \"SE\", \"SE\", \"CS\"],\n",
    "    \"Semester\": [2,8,4,4],\n",
    "    \"age\" : [21,26,23,25]\n",
    "    \n",
    "})\n",
    "obj2"
   ]
  },
  {
   "cell_type": "markdown",
   "id": "fc87b2bc",
   "metadata": {},
   "source": [
    "### .isnull method in series:\n"
   ]
  },
  {
   "cell_type": "code",
   "execution_count": 86,
   "id": "59a43771",
   "metadata": {},
   "outputs": [
    {
     "data": {
      "text/plain": [
       "Names       [faizan, hamza, toseef, mateen]\n",
       "Degree                   [CS, SE, SE, None]\n",
       "Semester                       [2, 8, 4, 4]\n",
       "age                      [21, 26, None, 25]\n",
       "address                                None\n",
       "dtype: object"
      ]
     },
     "execution_count": 86,
     "metadata": {},
     "output_type": "execute_result"
    }
   ],
   "source": [
    "students = pd.Series({\n",
    "    \"Names\": [\"faizan\", \"hamza\", \"toseef\", \"mateen\"],\n",
    "    \"Degree\": [\"CS\", \"SE\", \"SE\", None],\n",
    "    \"Semester\": [2,8,4,4],\n",
    "    \"age\" : [21,26,None,25],\n",
    "    \"address\": None \n",
    "})\n",
    "students"
   ]
  },
  {
   "cell_type": "code",
   "execution_count": 87,
   "id": "5713ed75",
   "metadata": {},
   "outputs": [
    {
     "data": {
      "text/plain": [
       "Names       False\n",
       "Degree      False\n",
       "Semester    False\n",
       "age         False\n",
       "address      True\n",
       "dtype: bool"
      ]
     },
     "execution_count": 87,
     "metadata": {},
     "output_type": "execute_result"
    }
   ],
   "source": [
    "pd.isnull(students)"
   ]
  },
  {
   "cell_type": "code",
   "execution_count": 88,
   "id": "5ae04bd8",
   "metadata": {},
   "outputs": [
    {
     "data": {
      "text/plain": [
       "Names       False\n",
       "Degree      False\n",
       "Semester    False\n",
       "age         False\n",
       "address      True\n",
       "dtype: bool"
      ]
     },
     "execution_count": 88,
     "metadata": {},
     "output_type": "execute_result"
    }
   ],
   "source": [
    "students.isnull()"
   ]
  },
  {
   "cell_type": "markdown",
   "id": "abf3e42a",
   "metadata": {},
   "source": [
    "# assiging values to the none values"
   ]
  },
  {
   "cell_type": "code",
   "execution_count": 89,
   "id": "0b2697e5",
   "metadata": {},
   "outputs": [
    {
     "data": {
      "text/plain": [
       "Names       [faizan, hamza, toseef, mateen]\n",
       "Degree                   [CS, SE, SE, None]\n",
       "Semester                       [2, 8, 4, 4]\n",
       "age                      [21, 26, None, 25]\n",
       "address                                None\n",
       "dtype: object"
      ]
     },
     "execution_count": 89,
     "metadata": {},
     "output_type": "execute_result"
    }
   ],
   "source": [
    "students"
   ]
  },
  {
   "cell_type": "code",
   "execution_count": 90,
   "id": "7c1413ca",
   "metadata": {},
   "outputs": [],
   "source": [
    "#Address\n",
    "\n",
    "students[\"address\"] = [\"Kwl\", \"fsd\", \"isb\", \"mlt\"]"
   ]
  },
  {
   "cell_type": "code",
   "execution_count": 91,
   "id": "a87916e8",
   "metadata": {},
   "outputs": [
    {
     "data": {
      "text/plain": [
       "Names       [faizan, hamza, toseef, mateen]\n",
       "Degree                   [CS, SE, SE, None]\n",
       "Semester                       [2, 8, 4, 4]\n",
       "age                      [21, 26, None, 25]\n",
       "address                [Kwl, fsd, isb, mlt]\n",
       "dtype: object"
      ]
     },
     "execution_count": 91,
     "metadata": {},
     "output_type": "execute_result"
    }
   ],
   "source": [
    "students"
   ]
  },
  {
   "cell_type": "code",
   "execution_count": 92,
   "id": "ad8a049a",
   "metadata": {},
   "outputs": [
    {
     "data": {
      "text/plain": [
       "Names       [faizan, hamza, toseef, mateen]\n",
       "Degree                   [CS, SE, SE, None]\n",
       "Semester                       [2, 8, 4, 4]\n",
       "age                        [21, 26, 30, 25]\n",
       "address                [Kwl, fsd, isb, mlt]\n",
       "dtype: object"
      ]
     },
     "execution_count": 92,
     "metadata": {},
     "output_type": "execute_result"
    }
   ],
   "source": [
    "#Age\n",
    "\n",
    "students['age'][2] = 30\n",
    "students"
   ]
  },
  {
   "cell_type": "code",
   "execution_count": 93,
   "id": "7d0df0ca",
   "metadata": {},
   "outputs": [
    {
     "data": {
      "text/plain": [
       "Names       [faizan, hamza, toseef, mateen]\n",
       "Degree                     [CS, SE, SE, CS]\n",
       "Semester                       [2, 8, 4, 4]\n",
       "age                        [21, 26, 30, 25]\n",
       "address                [Kwl, fsd, isb, mlt]\n",
       "dtype: object"
      ]
     },
     "execution_count": 93,
     "metadata": {},
     "output_type": "execute_result"
    }
   ],
   "source": [
    "#Degree \n",
    "\n",
    "students[\"Degree\"][3] = \"CS\"\n",
    "students"
   ]
  },
  {
   "cell_type": "markdown",
   "id": "77f3241c",
   "metadata": {},
   "source": [
    "### ==> Now we don't have any Null value in our data"
   ]
  },
  {
   "cell_type": "markdown",
   "id": "2dc59f3c",
   "metadata": {},
   "source": [
    "### Most of Numpy methods are same in pandas i.e mean,cumsum, cumprod etc"
   ]
  },
  {
   "cell_type": "code",
   "execution_count": 97,
   "id": "f375fe67",
   "metadata": {},
   "outputs": [
    {
     "data": {
      "text/plain": [
       "ali      21\n",
       "hamza    24\n",
       "ahmed    18\n",
       "dtype: object"
      ]
     },
     "execution_count": 97,
     "metadata": {},
     "output_type": "execute_result"
    }
   ],
   "source": [
    "age"
   ]
  },
  {
   "cell_type": "code",
   "execution_count": 99,
   "id": "f4d2944b",
   "metadata": {},
   "outputs": [
    {
     "data": {
      "text/plain": [
       "21.0"
      ]
     },
     "execution_count": 99,
     "metadata": {},
     "output_type": "execute_result"
    }
   ],
   "source": [
    "age.mean()"
   ]
  },
  {
   "cell_type": "code",
   "execution_count": 100,
   "id": "27748a9b",
   "metadata": {},
   "outputs": [
    {
     "data": {
      "text/plain": [
       "ali      21\n",
       "hamza    45\n",
       "ahmed    63\n",
       "dtype: object"
      ]
     },
     "execution_count": 100,
     "metadata": {},
     "output_type": "execute_result"
    }
   ],
   "source": [
    "age.cumsum()"
   ]
  },
  {
   "cell_type": "code",
   "execution_count": 101,
   "id": "a2b7abe8",
   "metadata": {},
   "outputs": [
    {
     "data": {
      "text/plain": [
       "ali        21\n",
       "hamza     504\n",
       "ahmed    9072\n",
       "dtype: object"
      ]
     },
     "execution_count": 101,
     "metadata": {},
     "output_type": "execute_result"
    }
   ],
   "source": [
    "age.cumprod()"
   ]
  },
  {
   "cell_type": "markdown",
   "id": "e8cd9c15",
   "metadata": {},
   "source": [
    "### to show more than one variable in one cell:\n",
    "   * display()"
   ]
  },
  {
   "cell_type": "code",
   "execution_count": 105,
   "id": "02271f07",
   "metadata": {},
   "outputs": [
    {
     "data": {
      "text/plain": [
       "ali      21\n",
       "hamza    54\n",
       "ahmed    32\n",
       "dtype: int64"
      ]
     },
     "metadata": {},
     "output_type": "display_data"
    },
    {
     "data": {
      "text/plain": [
       "faizan    10\n",
       "umair     10\n",
       "ahmed     10\n",
       "dtype: int64"
      ]
     },
     "metadata": {},
     "output_type": "display_data"
    },
    {
     "data": {
      "text/plain": [
       "Names       [faizan, hamza, toseef, mateen]\n",
       "Degree                     [CS, SE, SE, CS]\n",
       "Semester                       [2, 8, 4, 4]\n",
       "age                        [21, 26, 23, 25]\n",
       "dtype: object"
      ]
     },
     "metadata": {},
     "output_type": "display_data"
    }
   ],
   "source": [
    "display(age1)\n",
    "display(age2)\n",
    "display(obj2)"
   ]
  },
  {
   "cell_type": "markdown",
   "id": "472f888f",
   "metadata": {},
   "source": [
    "# DataFrames in pandas:\n",
    "  * Tabular data (2 dimensional)"
   ]
  },
  {
   "cell_type": "code",
   "execution_count": 4,
   "id": "9e928f5a",
   "metadata": {},
   "outputs": [
    {
     "data": {
      "text/html": [
       "<div>\n",
       "<style scoped>\n",
       "    .dataframe tbody tr th:only-of-type {\n",
       "        vertical-align: middle;\n",
       "    }\n",
       "\n",
       "    .dataframe tbody tr th {\n",
       "        vertical-align: top;\n",
       "    }\n",
       "\n",
       "    .dataframe thead th {\n",
       "        text-align: right;\n",
       "    }\n",
       "</style>\n",
       "<table border=\"1\" class=\"dataframe\">\n",
       "  <thead>\n",
       "    <tr style=\"text-align: right;\">\n",
       "      <th></th>\n",
       "      <th>Names</th>\n",
       "      <th>Degree</th>\n",
       "      <th>Age</th>\n",
       "      <th>CGPA</th>\n",
       "    </tr>\n",
       "  </thead>\n",
       "  <tbody>\n",
       "    <tr>\n",
       "      <th>0</th>\n",
       "      <td>Faizan</td>\n",
       "      <td>CS</td>\n",
       "      <td>20</td>\n",
       "      <td>3.4</td>\n",
       "    </tr>\n",
       "    <tr>\n",
       "      <th>1</th>\n",
       "      <td>Ali</td>\n",
       "      <td>IT</td>\n",
       "      <td>24</td>\n",
       "      <td>3.9</td>\n",
       "    </tr>\n",
       "    <tr>\n",
       "      <th>2</th>\n",
       "      <td>Hisham</td>\n",
       "      <td>CS</td>\n",
       "      <td>32</td>\n",
       "      <td>3.2</td>\n",
       "    </tr>\n",
       "  </tbody>\n",
       "</table>\n",
       "</div>"
      ],
      "text/plain": [
       "    Names Degree  Age  CGPA\n",
       "0  Faizan     CS   20   3.4\n",
       "1     Ali     IT   24   3.9\n",
       "2  Hisham     CS   32   3.2"
      ]
     },
     "execution_count": 4,
     "metadata": {},
     "output_type": "execute_result"
    }
   ],
   "source": [
    "std = pd.DataFrame({\n",
    "    \"Names\" : [\"Faizan\",\"Ali\", \"Hisham\"],\n",
    "    \"Degree\" : [\"CS\", \"IT\", \"CS\"],\n",
    "    \"Age\" : [20, 24,32],\n",
    "    \"CGPA\" : [3.4,3.9,3.2]\n",
    "})\n",
    "std"
   ]
  },
  {
   "cell_type": "code",
   "execution_count": 126,
   "id": "a4b0ab27",
   "metadata": {},
   "outputs": [
    {
     "data": {
      "text/plain": [
       "Index(['Names', 'Degree', 'Age', 'CGPA'], dtype='object')"
      ]
     },
     "execution_count": 126,
     "metadata": {},
     "output_type": "execute_result"
    }
   ],
   "source": [
    "std.columns"
   ]
  },
  {
   "cell_type": "code",
   "execution_count": 127,
   "id": "1541b594",
   "metadata": {},
   "outputs": [
    {
     "data": {
      "text/plain": [
       "0    Faizan\n",
       "1       Ali\n",
       "2    Hisham\n",
       "Name: Names, dtype: object"
      ]
     },
     "execution_count": 127,
     "metadata": {},
     "output_type": "execute_result"
    }
   ],
   "source": [
    "std['Names']"
   ]
  },
  {
   "cell_type": "code",
   "execution_count": 128,
   "id": "9154210f",
   "metadata": {},
   "outputs": [
    {
     "data": {
      "text/html": [
       "<div>\n",
       "<style scoped>\n",
       "    .dataframe tbody tr th:only-of-type {\n",
       "        vertical-align: middle;\n",
       "    }\n",
       "\n",
       "    .dataframe tbody tr th {\n",
       "        vertical-align: top;\n",
       "    }\n",
       "\n",
       "    .dataframe thead th {\n",
       "        text-align: right;\n",
       "    }\n",
       "</style>\n",
       "<table border=\"1\" class=\"dataframe\">\n",
       "  <thead>\n",
       "    <tr style=\"text-align: right;\">\n",
       "      <th></th>\n",
       "      <th>Names</th>\n",
       "      <th>Age</th>\n",
       "      <th>Degree</th>\n",
       "    </tr>\n",
       "  </thead>\n",
       "  <tbody>\n",
       "    <tr>\n",
       "      <th>0</th>\n",
       "      <td>Faizan</td>\n",
       "      <td>20</td>\n",
       "      <td>CS</td>\n",
       "    </tr>\n",
       "    <tr>\n",
       "      <th>1</th>\n",
       "      <td>Ali</td>\n",
       "      <td>24</td>\n",
       "      <td>IT</td>\n",
       "    </tr>\n",
       "    <tr>\n",
       "      <th>2</th>\n",
       "      <td>Hisham</td>\n",
       "      <td>32</td>\n",
       "      <td>CS</td>\n",
       "    </tr>\n",
       "  </tbody>\n",
       "</table>\n",
       "</div>"
      ],
      "text/plain": [
       "    Names  Age Degree\n",
       "0  Faizan   20     CS\n",
       "1     Ali   24     IT\n",
       "2  Hisham   32     CS"
      ]
     },
     "execution_count": 128,
     "metadata": {},
     "output_type": "execute_result"
    }
   ],
   "source": [
    "std[[\"Names\", 'Age', \"Degree\"]]"
   ]
  },
  {
   "cell_type": "code",
   "execution_count": 129,
   "id": "ac28ce80",
   "metadata": {},
   "outputs": [
    {
     "data": {
      "text/html": [
       "<div>\n",
       "<style scoped>\n",
       "    .dataframe tbody tr th:only-of-type {\n",
       "        vertical-align: middle;\n",
       "    }\n",
       "\n",
       "    .dataframe tbody tr th {\n",
       "        vertical-align: top;\n",
       "    }\n",
       "\n",
       "    .dataframe thead th {\n",
       "        text-align: right;\n",
       "    }\n",
       "</style>\n",
       "<table border=\"1\" class=\"dataframe\">\n",
       "  <thead>\n",
       "    <tr style=\"text-align: right;\">\n",
       "      <th></th>\n",
       "      <th>Names</th>\n",
       "      <th>Degree</th>\n",
       "      <th>Age</th>\n",
       "      <th>CGPA</th>\n",
       "    </tr>\n",
       "  </thead>\n",
       "  <tbody>\n",
       "    <tr>\n",
       "      <th>0</th>\n",
       "      <td>Faizan</td>\n",
       "      <td>CS</td>\n",
       "      <td>20</td>\n",
       "      <td>3.4</td>\n",
       "    </tr>\n",
       "    <tr>\n",
       "      <th>2</th>\n",
       "      <td>Hisham</td>\n",
       "      <td>CS</td>\n",
       "      <td>32</td>\n",
       "      <td>3.2</td>\n",
       "    </tr>\n",
       "  </tbody>\n",
       "</table>\n",
       "</div>"
      ],
      "text/plain": [
       "    Names Degree  Age  CGPA\n",
       "0  Faizan     CS   20   3.4\n",
       "2  Hisham     CS   32   3.2"
      ]
     },
     "execution_count": 129,
     "metadata": {},
     "output_type": "execute_result"
    }
   ],
   "source": [
    "std[std[\"Degree\"] == \"CS\"]"
   ]
  },
  {
   "cell_type": "code",
   "execution_count": 130,
   "id": "cee895c2",
   "metadata": {},
   "outputs": [
    {
     "data": {
      "text/html": [
       "<div>\n",
       "<style scoped>\n",
       "    .dataframe tbody tr th:only-of-type {\n",
       "        vertical-align: middle;\n",
       "    }\n",
       "\n",
       "    .dataframe tbody tr th {\n",
       "        vertical-align: top;\n",
       "    }\n",
       "\n",
       "    .dataframe thead th {\n",
       "        text-align: right;\n",
       "    }\n",
       "</style>\n",
       "<table border=\"1\" class=\"dataframe\">\n",
       "  <thead>\n",
       "    <tr style=\"text-align: right;\">\n",
       "      <th></th>\n",
       "      <th>Names</th>\n",
       "      <th>Degree</th>\n",
       "      <th>Age</th>\n",
       "      <th>CGPA</th>\n",
       "    </tr>\n",
       "  </thead>\n",
       "  <tbody>\n",
       "    <tr>\n",
       "      <th>2</th>\n",
       "      <td>Hisham</td>\n",
       "      <td>CS</td>\n",
       "      <td>32</td>\n",
       "      <td>3.2</td>\n",
       "    </tr>\n",
       "  </tbody>\n",
       "</table>\n",
       "</div>"
      ],
      "text/plain": [
       "    Names Degree  Age  CGPA\n",
       "2  Hisham     CS   32   3.2"
      ]
     },
     "execution_count": 130,
     "metadata": {},
     "output_type": "execute_result"
    }
   ],
   "source": [
    "std[std[\"Age\"]>30]"
   ]
  },
  {
   "cell_type": "code",
   "execution_count": 133,
   "id": "f5995668",
   "metadata": {},
   "outputs": [
    {
     "data": {
      "text/plain": [
       "<AxesSubplot:>"
      ]
     },
     "execution_count": 133,
     "metadata": {},
     "output_type": "execute_result"
    },
    {
     "data": {
      "image/png": "[encoded data removed]",
      "text/plain": [
       "<Figure size 432x288 with 1 Axes>"
      ]
     },
     "metadata": {
      "needs_background": "light"
     },
     "output_type": "display_data"
    }
   ],
   "source": [
    "#matplotlib inline\n",
    "std.plot()"
   ]
  },
  {
   "cell_type": "code",
   "execution_count": 134,
   "id": "5fe2681c",
   "metadata": {
    "scrolled": true
   },
   "outputs": [
    {
     "data": {
      "text/plain": [
       "0    20\n",
       "1    24\n",
       "2    32\n",
       "Name: Age, dtype: int64"
      ]
     },
     "execution_count": 134,
     "metadata": {},
     "output_type": "execute_result"
    }
   ],
   "source": [
    "std.Age"
   ]
  },
  {
   "cell_type": "markdown",
   "id": "de2886f4",
   "metadata": {},
   "source": [
    "## OR"
   ]
  },
  {
   "cell_type": "code",
   "execution_count": 135,
   "id": "9a476509",
   "metadata": {},
   "outputs": [
    {
     "data": {
      "text/plain": [
       "0    20\n",
       "1    24\n",
       "2    32\n",
       "Name: Age, dtype: int64"
      ]
     },
     "execution_count": 135,
     "metadata": {},
     "output_type": "execute_result"
    }
   ],
   "source": [
    "std[\"Age\"]"
   ]
  },
  {
   "cell_type": "code",
   "execution_count": 139,
   "id": "6b811c78",
   "metadata": {},
   "outputs": [],
   "source": [
    "import numpy as np\n",
    "std[\"semester\"] = np.arange(1,4)"
   ]
  },
  {
   "cell_type": "code",
   "execution_count": 140,
   "id": "cb8afbbe",
   "metadata": {},
   "outputs": [
    {
     "data": {
      "text/html": [
       "<div>\n",
       "<style scoped>\n",
       "    .dataframe tbody tr th:only-of-type {\n",
       "        vertical-align: middle;\n",
       "    }\n",
       "\n",
       "    .dataframe tbody tr th {\n",
       "        vertical-align: top;\n",
       "    }\n",
       "\n",
       "    .dataframe thead th {\n",
       "        text-align: right;\n",
       "    }\n",
       "</style>\n",
       "<table border=\"1\" class=\"dataframe\">\n",
       "  <thead>\n",
       "    <tr style=\"text-align: right;\">\n",
       "      <th></th>\n",
       "      <th>Names</th>\n",
       "      <th>Degree</th>\n",
       "      <th>Age</th>\n",
       "      <th>CGPA</th>\n",
       "      <th>semester</th>\n",
       "    </tr>\n",
       "  </thead>\n",
       "  <tbody>\n",
       "    <tr>\n",
       "      <th>0</th>\n",
       "      <td>Faizan</td>\n",
       "      <td>CS</td>\n",
       "      <td>20</td>\n",
       "      <td>3.4</td>\n",
       "      <td>1</td>\n",
       "    </tr>\n",
       "    <tr>\n",
       "      <th>1</th>\n",
       "      <td>Ali</td>\n",
       "      <td>IT</td>\n",
       "      <td>24</td>\n",
       "      <td>3.9</td>\n",
       "      <td>2</td>\n",
       "    </tr>\n",
       "    <tr>\n",
       "      <th>2</th>\n",
       "      <td>Hisham</td>\n",
       "      <td>CS</td>\n",
       "      <td>32</td>\n",
       "      <td>3.2</td>\n",
       "      <td>3</td>\n",
       "    </tr>\n",
       "  </tbody>\n",
       "</table>\n",
       "</div>"
      ],
      "text/plain": [
       "    Names Degree  Age  CGPA  semester\n",
       "0  Faizan     CS   20   3.4         1\n",
       "1     Ali     IT   24   3.9         2\n",
       "2  Hisham     CS   32   3.2         3"
      ]
     },
     "execution_count": 140,
     "metadata": {},
     "output_type": "execute_result"
    }
   ],
   "source": [
    "std"
   ]
  },
  {
   "cell_type": "code",
   "execution_count": 143,
   "id": "01d37a0f",
   "metadata": {},
   "outputs": [
    {
     "data": {
      "text/html": [
       "<div>\n",
       "<style scoped>\n",
       "    .dataframe tbody tr th:only-of-type {\n",
       "        vertical-align: middle;\n",
       "    }\n",
       "\n",
       "    .dataframe tbody tr th {\n",
       "        vertical-align: top;\n",
       "    }\n",
       "\n",
       "    .dataframe thead th {\n",
       "        text-align: right;\n",
       "    }\n",
       "</style>\n",
       "<table border=\"1\" class=\"dataframe\">\n",
       "  <thead>\n",
       "    <tr style=\"text-align: right;\">\n",
       "      <th></th>\n",
       "      <th>Names</th>\n",
       "      <th>Age</th>\n",
       "      <th>Degree</th>\n",
       "      <th>semester</th>\n",
       "      <th>CGPA</th>\n",
       "    </tr>\n",
       "  </thead>\n",
       "  <tbody>\n",
       "    <tr>\n",
       "      <th>0</th>\n",
       "      <td>Faizan</td>\n",
       "      <td>20</td>\n",
       "      <td>CS</td>\n",
       "      <td>1</td>\n",
       "      <td>3.4</td>\n",
       "    </tr>\n",
       "    <tr>\n",
       "      <th>1</th>\n",
       "      <td>Ali</td>\n",
       "      <td>24</td>\n",
       "      <td>IT</td>\n",
       "      <td>2</td>\n",
       "      <td>3.9</td>\n",
       "    </tr>\n",
       "    <tr>\n",
       "      <th>2</th>\n",
       "      <td>Hisham</td>\n",
       "      <td>32</td>\n",
       "      <td>CS</td>\n",
       "      <td>3</td>\n",
       "      <td>3.2</td>\n",
       "    </tr>\n",
       "  </tbody>\n",
       "</table>\n",
       "</div>"
      ],
      "text/plain": [
       "    Names  Age Degree  semester  CGPA\n",
       "0  Faizan   20     CS         1   3.4\n",
       "1     Ali   24     IT         2   3.9\n",
       "2  Hisham   32     CS         3   3.2"
      ]
     },
     "execution_count": 143,
     "metadata": {},
     "output_type": "execute_result"
    }
   ],
   "source": [
    "std[['Names', 'Age', 'Degree', 'semester', 'CGPA']]"
   ]
  },
  {
   "cell_type": "code",
   "execution_count": 3,
   "id": "035370d4",
   "metadata": {},
   "outputs": [],
   "source": [
    "doctors = pd.DataFrame ({\n",
    "    \"names\" : ['ali', 'hamza', 'waheed'],\n",
    "    'qualifications' : ['MS', 'phD', 'Phil']\n",
    "}, index = ['d1', 'd2', 'd3'])\n"
   ]
  },
  {
   "cell_type": "code",
   "execution_count": 153,
   "id": "6e554544",
   "metadata": {},
   "outputs": [
    {
     "data": {
      "text/html": [
       "<div>\n",
       "<style scoped>\n",
       "    .dataframe tbody tr th:only-of-type {\n",
       "        vertical-align: middle;\n",
       "    }\n",
       "\n",
       "    .dataframe tbody tr th {\n",
       "        vertical-align: top;\n",
       "    }\n",
       "\n",
       "    .dataframe thead th {\n",
       "        text-align: right;\n",
       "    }\n",
       "</style>\n",
       "<table border=\"1\" class=\"dataframe\">\n",
       "  <thead>\n",
       "    <tr style=\"text-align: right;\">\n",
       "      <th></th>\n",
       "      <th>names</th>\n",
       "      <th>qualifications</th>\n",
       "    </tr>\n",
       "  </thead>\n",
       "  <tbody>\n",
       "    <tr>\n",
       "      <th>d1</th>\n",
       "      <td>ali</td>\n",
       "      <td>MS</td>\n",
       "    </tr>\n",
       "    <tr>\n",
       "      <th>d2</th>\n",
       "      <td>hamza</td>\n",
       "      <td>phD</td>\n",
       "    </tr>\n",
       "    <tr>\n",
       "      <th>d3</th>\n",
       "      <td>waheed</td>\n",
       "      <td>Phil</td>\n",
       "    </tr>\n",
       "  </tbody>\n",
       "</table>\n",
       "</div>"
      ],
      "text/plain": [
       "     names qualifications\n",
       "d1     ali             MS\n",
       "d2   hamza            phD\n",
       "d3  waheed           Phil"
      ]
     },
     "execution_count": 153,
     "metadata": {},
     "output_type": "execute_result"
    }
   ],
   "source": [
    "doctors"
   ]
  },
  {
   "cell_type": "markdown",
   "id": "964f49b2",
   "metadata": {},
   "source": [
    "# .loc and iloc:\n",
    "* loc:- accessing row-wise data using indexes i.e index ki value use krna.\n",
    "* iloc:- accessing row-wise data using index location i.e index use krna 0,1,2,3 etc"
   ]
  },
  {
   "cell_type": "code",
   "execution_count": 154,
   "id": "474d16de",
   "metadata": {},
   "outputs": [
    {
     "data": {
      "text/plain": [
       "names             ali\n",
       "qualifications     MS\n",
       "Name: d1, dtype: object"
      ]
     },
     "execution_count": 154,
     "metadata": {},
     "output_type": "execute_result"
    }
   ],
   "source": [
    "doctors.loc['d1']"
   ]
  },
  {
   "cell_type": "code",
   "execution_count": 155,
   "id": "ee8766a2",
   "metadata": {},
   "outputs": [
    {
     "data": {
      "text/plain": [
       "names             ali\n",
       "qualifications     MS\n",
       "Name: d1, dtype: object"
      ]
     },
     "execution_count": 155,
     "metadata": {},
     "output_type": "execute_result"
    }
   ],
   "source": [
    "doctors.iloc[0]"
   ]
  },
  {
   "cell_type": "code",
   "execution_count": 158,
   "id": "cd92c6fe",
   "metadata": {},
   "outputs": [
    {
     "data": {
      "text/html": [
       "<div>\n",
       "<style scoped>\n",
       "    .dataframe tbody tr th:only-of-type {\n",
       "        vertical-align: middle;\n",
       "    }\n",
       "\n",
       "    .dataframe tbody tr th {\n",
       "        vertical-align: top;\n",
       "    }\n",
       "\n",
       "    .dataframe thead th {\n",
       "        text-align: right;\n",
       "    }\n",
       "</style>\n",
       "<table border=\"1\" class=\"dataframe\">\n",
       "  <thead>\n",
       "    <tr style=\"text-align: right;\">\n",
       "      <th></th>\n",
       "      <th>names</th>\n",
       "      <th>qualifications</th>\n",
       "    </tr>\n",
       "  </thead>\n",
       "  <tbody>\n",
       "    <tr>\n",
       "      <th>d1</th>\n",
       "      <td>ali</td>\n",
       "      <td>MS</td>\n",
       "    </tr>\n",
       "    <tr>\n",
       "      <th>d2</th>\n",
       "      <td>hamza</td>\n",
       "      <td>phD</td>\n",
       "    </tr>\n",
       "    <tr>\n",
       "      <th>d3</th>\n",
       "      <td>waheed</td>\n",
       "      <td>Phil</td>\n",
       "    </tr>\n",
       "  </tbody>\n",
       "</table>\n",
       "</div>"
      ],
      "text/plain": [
       "     names qualifications\n",
       "d1     ali             MS\n",
       "d2   hamza            phD\n",
       "d3  waheed           Phil"
      ]
     },
     "execution_count": 158,
     "metadata": {},
     "output_type": "execute_result"
    }
   ],
   "source": [
    "doctors.iloc[0:4,0:3]"
   ]
  },
  {
   "cell_type": "code",
   "execution_count": 160,
   "id": "87d98486",
   "metadata": {},
   "outputs": [
    {
     "data": {
      "text/plain": [
       "d1      ali\n",
       "d2    hamza\n",
       "Name: names, dtype: object"
      ]
     },
     "execution_count": 160,
     "metadata": {},
     "output_type": "execute_result"
    }
   ],
   "source": [
    "doctors.iloc[0:2]['names']"
   ]
  },
  {
   "cell_type": "markdown",
   "id": "ee53b485",
   "metadata": {},
   "source": [
    "## Adding and Deleting columns:\n",
    "    "
   ]
  },
  {
   "cell_type": "code",
   "execution_count": 161,
   "id": "a4e45e85",
   "metadata": {},
   "outputs": [
    {
     "data": {
      "text/html": [
       "<div>\n",
       "<style scoped>\n",
       "    .dataframe tbody tr th:only-of-type {\n",
       "        vertical-align: middle;\n",
       "    }\n",
       "\n",
       "    .dataframe tbody tr th {\n",
       "        vertical-align: top;\n",
       "    }\n",
       "\n",
       "    .dataframe thead th {\n",
       "        text-align: right;\n",
       "    }\n",
       "</style>\n",
       "<table border=\"1\" class=\"dataframe\">\n",
       "  <thead>\n",
       "    <tr style=\"text-align: right;\">\n",
       "      <th></th>\n",
       "      <th>names</th>\n",
       "      <th>qualifications</th>\n",
       "    </tr>\n",
       "  </thead>\n",
       "  <tbody>\n",
       "    <tr>\n",
       "      <th>d1</th>\n",
       "      <td>ali</td>\n",
       "      <td>MS</td>\n",
       "    </tr>\n",
       "    <tr>\n",
       "      <th>d2</th>\n",
       "      <td>hamza</td>\n",
       "      <td>phD</td>\n",
       "    </tr>\n",
       "    <tr>\n",
       "      <th>d3</th>\n",
       "      <td>waheed</td>\n",
       "      <td>Phil</td>\n",
       "    </tr>\n",
       "  </tbody>\n",
       "</table>\n",
       "</div>"
      ],
      "text/plain": [
       "     names qualifications\n",
       "d1     ali             MS\n",
       "d2   hamza            phD\n",
       "d3  waheed           Phil"
      ]
     },
     "execution_count": 161,
     "metadata": {},
     "output_type": "execute_result"
    }
   ],
   "source": [
    "doctors\n"
   ]
  },
  {
   "cell_type": "markdown",
   "id": "60ade6cd",
   "metadata": {},
   "source": [
    "# deleting columns:"
   ]
  },
  {
   "cell_type": "code",
   "execution_count": 164,
   "id": "e50cb75e",
   "metadata": {},
   "outputs": [],
   "source": [
    "del doctors['names']"
   ]
  },
  {
   "cell_type": "code",
   "execution_count": 165,
   "id": "5e4df372",
   "metadata": {},
   "outputs": [
    {
     "data": {
      "text/html": [
       "<div>\n",
       "<style scoped>\n",
       "    .dataframe tbody tr th:only-of-type {\n",
       "        vertical-align: middle;\n",
       "    }\n",
       "\n",
       "    .dataframe tbody tr th {\n",
       "        vertical-align: top;\n",
       "    }\n",
       "\n",
       "    .dataframe thead th {\n",
       "        text-align: right;\n",
       "    }\n",
       "</style>\n",
       "<table border=\"1\" class=\"dataframe\">\n",
       "  <thead>\n",
       "    <tr style=\"text-align: right;\">\n",
       "      <th></th>\n",
       "      <th>qualifications</th>\n",
       "    </tr>\n",
       "  </thead>\n",
       "  <tbody>\n",
       "    <tr>\n",
       "      <th>d1</th>\n",
       "      <td>MS</td>\n",
       "    </tr>\n",
       "    <tr>\n",
       "      <th>d2</th>\n",
       "      <td>phD</td>\n",
       "    </tr>\n",
       "    <tr>\n",
       "      <th>d3</th>\n",
       "      <td>Phil</td>\n",
       "    </tr>\n",
       "  </tbody>\n",
       "</table>\n",
       "</div>"
      ],
      "text/plain": [
       "   qualifications\n",
       "d1             MS\n",
       "d2            phD\n",
       "d3           Phil"
      ]
     },
     "execution_count": 165,
     "metadata": {},
     "output_type": "execute_result"
    }
   ],
   "source": [
    "doctors"
   ]
  },
  {
   "cell_type": "markdown",
   "id": "6bc1e991",
   "metadata": {},
   "source": [
    "# Creating columns:"
   ]
  },
  {
   "cell_type": "code",
   "execution_count": 166,
   "id": "59e07ffb",
   "metadata": {},
   "outputs": [],
   "source": [
    "doctors['names'] =\"testing names\""
   ]
  },
  {
   "cell_type": "code",
   "execution_count": 167,
   "id": "4d254004",
   "metadata": {},
   "outputs": [
    {
     "data": {
      "text/html": [
       "<div>\n",
       "<style scoped>\n",
       "    .dataframe tbody tr th:only-of-type {\n",
       "        vertical-align: middle;\n",
       "    }\n",
       "\n",
       "    .dataframe tbody tr th {\n",
       "        vertical-align: top;\n",
       "    }\n",
       "\n",
       "    .dataframe thead th {\n",
       "        text-align: right;\n",
       "    }\n",
       "</style>\n",
       "<table border=\"1\" class=\"dataframe\">\n",
       "  <thead>\n",
       "    <tr style=\"text-align: right;\">\n",
       "      <th></th>\n",
       "      <th>qualifications</th>\n",
       "      <th>names</th>\n",
       "    </tr>\n",
       "  </thead>\n",
       "  <tbody>\n",
       "    <tr>\n",
       "      <th>d1</th>\n",
       "      <td>MS</td>\n",
       "      <td>testing names</td>\n",
       "    </tr>\n",
       "    <tr>\n",
       "      <th>d2</th>\n",
       "      <td>phD</td>\n",
       "      <td>testing names</td>\n",
       "    </tr>\n",
       "    <tr>\n",
       "      <th>d3</th>\n",
       "      <td>Phil</td>\n",
       "      <td>testing names</td>\n",
       "    </tr>\n",
       "  </tbody>\n",
       "</table>\n",
       "</div>"
      ],
      "text/plain": [
       "   qualifications          names\n",
       "d1             MS  testing names\n",
       "d2            phD  testing names\n",
       "d3           Phil  testing names"
      ]
     },
     "execution_count": 167,
     "metadata": {},
     "output_type": "execute_result"
    }
   ],
   "source": [
    "doctors"
   ]
  },
  {
   "cell_type": "markdown",
   "id": "92bb7c67",
   "metadata": {},
   "source": [
    "# Transpose of a DataFrame"
   ]
  },
  {
   "cell_type": "code",
   "execution_count": 174,
   "id": "663c225b",
   "metadata": {},
   "outputs": [
    {
     "data": {
      "text/html": [
       "<div>\n",
       "<style scoped>\n",
       "    .dataframe tbody tr th:only-of-type {\n",
       "        vertical-align: middle;\n",
       "    }\n",
       "\n",
       "    .dataframe tbody tr th {\n",
       "        vertical-align: top;\n",
       "    }\n",
       "\n",
       "    .dataframe thead th {\n",
       "        text-align: right;\n",
       "    }\n",
       "</style>\n",
       "<table border=\"1\" class=\"dataframe\">\n",
       "  <thead>\n",
       "    <tr style=\"text-align: right;\">\n",
       "      <th></th>\n",
       "      <th>Names</th>\n",
       "      <th>Degree</th>\n",
       "      <th>Age</th>\n",
       "      <th>CGPA</th>\n",
       "      <th>semester</th>\n",
       "    </tr>\n",
       "  </thead>\n",
       "  <tbody>\n",
       "    <tr>\n",
       "      <th>0</th>\n",
       "      <td>Faizan</td>\n",
       "      <td>CS</td>\n",
       "      <td>20</td>\n",
       "      <td>3.4</td>\n",
       "      <td>1</td>\n",
       "    </tr>\n",
       "    <tr>\n",
       "      <th>1</th>\n",
       "      <td>Ali</td>\n",
       "      <td>IT</td>\n",
       "      <td>24</td>\n",
       "      <td>3.9</td>\n",
       "      <td>2</td>\n",
       "    </tr>\n",
       "    <tr>\n",
       "      <th>2</th>\n",
       "      <td>Hisham</td>\n",
       "      <td>CS</td>\n",
       "      <td>32</td>\n",
       "      <td>3.2</td>\n",
       "      <td>3</td>\n",
       "    </tr>\n",
       "  </tbody>\n",
       "</table>\n",
       "</div>"
      ],
      "text/plain": [
       "    Names Degree  Age  CGPA  semester\n",
       "0  Faizan     CS   20   3.4         1\n",
       "1     Ali     IT   24   3.9         2\n",
       "2  Hisham     CS   32   3.2         3"
      ]
     },
     "execution_count": 174,
     "metadata": {},
     "output_type": "execute_result"
    }
   ],
   "source": [
    "std"
   ]
  },
  {
   "cell_type": "code",
   "execution_count": 175,
   "id": "4105c5e3",
   "metadata": {},
   "outputs": [
    {
     "data": {
      "text/html": [
       "<div>\n",
       "<style scoped>\n",
       "    .dataframe tbody tr th:only-of-type {\n",
       "        vertical-align: middle;\n",
       "    }\n",
       "\n",
       "    .dataframe tbody tr th {\n",
       "        vertical-align: top;\n",
       "    }\n",
       "\n",
       "    .dataframe thead th {\n",
       "        text-align: right;\n",
       "    }\n",
       "</style>\n",
       "<table border=\"1\" class=\"dataframe\">\n",
       "  <thead>\n",
       "    <tr style=\"text-align: right;\">\n",
       "      <th></th>\n",
       "      <th>0</th>\n",
       "      <th>1</th>\n",
       "      <th>2</th>\n",
       "    </tr>\n",
       "  </thead>\n",
       "  <tbody>\n",
       "    <tr>\n",
       "      <th>Names</th>\n",
       "      <td>Faizan</td>\n",
       "      <td>Ali</td>\n",
       "      <td>Hisham</td>\n",
       "    </tr>\n",
       "    <tr>\n",
       "      <th>Degree</th>\n",
       "      <td>CS</td>\n",
       "      <td>IT</td>\n",
       "      <td>CS</td>\n",
       "    </tr>\n",
       "    <tr>\n",
       "      <th>Age</th>\n",
       "      <td>20</td>\n",
       "      <td>24</td>\n",
       "      <td>32</td>\n",
       "    </tr>\n",
       "    <tr>\n",
       "      <th>CGPA</th>\n",
       "      <td>3.4</td>\n",
       "      <td>3.9</td>\n",
       "      <td>3.2</td>\n",
       "    </tr>\n",
       "    <tr>\n",
       "      <th>semester</th>\n",
       "      <td>1</td>\n",
       "      <td>2</td>\n",
       "      <td>3</td>\n",
       "    </tr>\n",
       "  </tbody>\n",
       "</table>\n",
       "</div>"
      ],
      "text/plain": [
       "               0    1       2\n",
       "Names     Faizan  Ali  Hisham\n",
       "Degree        CS   IT      CS\n",
       "Age           20   24      32\n",
       "CGPA         3.4  3.9     3.2\n",
       "semester       1    2       3"
      ]
     },
     "execution_count": 175,
     "metadata": {},
     "output_type": "execute_result"
    }
   ],
   "source": [
    "std.T"
   ]
  },
  {
   "cell_type": "code",
   "execution_count": 176,
   "id": "80a966ea",
   "metadata": {},
   "outputs": [
    {
     "data": {
      "text/html": [
       "<div>\n",
       "<style scoped>\n",
       "    .dataframe tbody tr th:only-of-type {\n",
       "        vertical-align: middle;\n",
       "    }\n",
       "\n",
       "    .dataframe tbody tr th {\n",
       "        vertical-align: top;\n",
       "    }\n",
       "\n",
       "    .dataframe thead th {\n",
       "        text-align: right;\n",
       "    }\n",
       "</style>\n",
       "<table border=\"1\" class=\"dataframe\">\n",
       "  <thead>\n",
       "    <tr style=\"text-align: right;\">\n",
       "      <th></th>\n",
       "      <th>Names</th>\n",
       "      <th>Degree</th>\n",
       "      <th>Age</th>\n",
       "      <th>CGPA</th>\n",
       "      <th>semester</th>\n",
       "    </tr>\n",
       "  </thead>\n",
       "  <tbody>\n",
       "    <tr>\n",
       "      <th>0</th>\n",
       "      <td>Faizan</td>\n",
       "      <td>CS</td>\n",
       "      <td>20</td>\n",
       "      <td>3.4</td>\n",
       "      <td>1</td>\n",
       "    </tr>\n",
       "    <tr>\n",
       "      <th>1</th>\n",
       "      <td>Ali</td>\n",
       "      <td>IT</td>\n",
       "      <td>24</td>\n",
       "      <td>3.9</td>\n",
       "      <td>2</td>\n",
       "    </tr>\n",
       "    <tr>\n",
       "      <th>2</th>\n",
       "      <td>Hisham</td>\n",
       "      <td>CS</td>\n",
       "      <td>32</td>\n",
       "      <td>3.2</td>\n",
       "      <td>3</td>\n",
       "    </tr>\n",
       "  </tbody>\n",
       "</table>\n",
       "</div>"
      ],
      "text/plain": [
       "    Names Degree  Age  CGPA  semester\n",
       "0  Faizan     CS   20   3.4         1\n",
       "1     Ali     IT   24   3.9         2\n",
       "2  Hisham     CS   32   3.2         3"
      ]
     },
     "execution_count": 176,
     "metadata": {},
     "output_type": "execute_result"
    }
   ],
   "source": [
    "std"
   ]
  },
  {
   "cell_type": "code",
   "execution_count": 178,
   "id": "90eb8695",
   "metadata": {},
   "outputs": [
    {
     "data": {
      "text/html": [
       "<div>\n",
       "<style scoped>\n",
       "    .dataframe tbody tr th:only-of-type {\n",
       "        vertical-align: middle;\n",
       "    }\n",
       "\n",
       "    .dataframe tbody tr th {\n",
       "        vertical-align: top;\n",
       "    }\n",
       "\n",
       "    .dataframe thead th {\n",
       "        text-align: right;\n",
       "    }\n",
       "</style>\n",
       "<table border=\"1\" class=\"dataframe\">\n",
       "  <thead>\n",
       "    <tr style=\"text-align: right;\">\n",
       "      <th></th>\n",
       "      <th>Names</th>\n",
       "      <th>Degree</th>\n",
       "      <th>Age</th>\n",
       "      <th>CGPA</th>\n",
       "      <th>semester</th>\n",
       "    </tr>\n",
       "  </thead>\n",
       "  <tbody>\n",
       "    <tr>\n",
       "      <th>0</th>\n",
       "      <td>Faizan</td>\n",
       "      <td>CS</td>\n",
       "      <td>20</td>\n",
       "      <td>3.4</td>\n",
       "      <td>1</td>\n",
       "    </tr>\n",
       "    <tr>\n",
       "      <th>1</th>\n",
       "      <td>Ali</td>\n",
       "      <td>IT</td>\n",
       "      <td>24</td>\n",
       "      <td>3.9</td>\n",
       "      <td>2</td>\n",
       "    </tr>\n",
       "    <tr>\n",
       "      <th>2</th>\n",
       "      <td>Hisham</td>\n",
       "      <td>CS</td>\n",
       "      <td>32</td>\n",
       "      <td>3.2</td>\n",
       "      <td>3</td>\n",
       "    </tr>\n",
       "  </tbody>\n",
       "</table>\n",
       "</div>"
      ],
      "text/plain": [
       "    Names Degree  Age  CGPA  semester\n",
       "0  Faizan     CS   20   3.4         1\n",
       "1     Ali     IT   24   3.9         2\n",
       "2  Hisham     CS   32   3.2         3"
      ]
     },
     "execution_count": 178,
     "metadata": {},
     "output_type": "execute_result"
    }
   ],
   "source": [
    "std"
   ]
  },
  {
   "cell_type": "code",
   "execution_count": 180,
   "id": "cc240637",
   "metadata": {},
   "outputs": [
    {
     "data": {
      "text/html": [
       "<div>\n",
       "<style scoped>\n",
       "    .dataframe tbody tr th:only-of-type {\n",
       "        vertical-align: middle;\n",
       "    }\n",
       "\n",
       "    .dataframe tbody tr th {\n",
       "        vertical-align: top;\n",
       "    }\n",
       "\n",
       "    .dataframe thead th {\n",
       "        text-align: right;\n",
       "    }\n",
       "</style>\n",
       "<table border=\"1\" class=\"dataframe\">\n",
       "  <thead>\n",
       "    <tr style=\"text-align: right;\">\n",
       "      <th></th>\n",
       "      <th>Names</th>\n",
       "      <th>Degree</th>\n",
       "      <th>Age</th>\n",
       "      <th>CGPA</th>\n",
       "      <th>semester</th>\n",
       "    </tr>\n",
       "  </thead>\n",
       "  <tbody>\n",
       "    <tr>\n",
       "      <th>0</th>\n",
       "      <td>Faizan</td>\n",
       "      <td>CS</td>\n",
       "      <td>20</td>\n",
       "      <td>3.4</td>\n",
       "      <td>1</td>\n",
       "    </tr>\n",
       "    <tr>\n",
       "      <th>1</th>\n",
       "      <td>Ali</td>\n",
       "      <td>IT</td>\n",
       "      <td>24</td>\n",
       "      <td>3.9</td>\n",
       "      <td>2</td>\n",
       "    </tr>\n",
       "    <tr>\n",
       "      <th>2</th>\n",
       "      <td>Hisham</td>\n",
       "      <td>CS</td>\n",
       "      <td>32</td>\n",
       "      <td>3.2</td>\n",
       "      <td>3</td>\n",
       "    </tr>\n",
       "  </tbody>\n",
       "</table>\n",
       "</div>"
      ],
      "text/plain": [
       "    Names Degree  Age  CGPA  semester\n",
       "0  Faizan     CS   20   3.4         1\n",
       "1     Ali     IT   24   3.9         2\n",
       "2  Hisham     CS   32   3.2         3"
      ]
     },
     "execution_count": 180,
     "metadata": {},
     "output_type": "execute_result"
    }
   ],
   "source": [
    "std[0:3] # slicing in a DataFrame"
   ]
  },
  {
   "cell_type": "code",
   "execution_count": 181,
   "id": "fe3ead46",
   "metadata": {},
   "outputs": [
    {
     "data": {
      "text/html": [
       "<div>\n",
       "<style scoped>\n",
       "    .dataframe tbody tr th:only-of-type {\n",
       "        vertical-align: middle;\n",
       "    }\n",
       "\n",
       "    .dataframe tbody tr th {\n",
       "        vertical-align: top;\n",
       "    }\n",
       "\n",
       "    .dataframe thead th {\n",
       "        text-align: right;\n",
       "    }\n",
       "</style>\n",
       "<table border=\"1\" class=\"dataframe\">\n",
       "  <thead>\n",
       "    <tr style=\"text-align: right;\">\n",
       "      <th></th>\n",
       "      <th>Names</th>\n",
       "      <th>Degree</th>\n",
       "      <th>Age</th>\n",
       "      <th>CGPA</th>\n",
       "      <th>semester</th>\n",
       "    </tr>\n",
       "  </thead>\n",
       "  <tbody>\n",
       "    <tr>\n",
       "      <th>0</th>\n",
       "      <td>Faizan</td>\n",
       "      <td>CS</td>\n",
       "      <td>20</td>\n",
       "      <td>3.4</td>\n",
       "      <td>1</td>\n",
       "    </tr>\n",
       "    <tr>\n",
       "      <th>2</th>\n",
       "      <td>Hisham</td>\n",
       "      <td>CS</td>\n",
       "      <td>32</td>\n",
       "      <td>3.2</td>\n",
       "      <td>3</td>\n",
       "    </tr>\n",
       "  </tbody>\n",
       "</table>\n",
       "</div>"
      ],
      "text/plain": [
       "    Names Degree  Age  CGPA  semester\n",
       "0  Faizan     CS   20   3.4         1\n",
       "2  Hisham     CS   32   3.2         3"
      ]
     },
     "execution_count": 181,
     "metadata": {},
     "output_type": "execute_result"
    }
   ],
   "source": [
    "std[::2]"
   ]
  },
  {
   "cell_type": "markdown",
   "id": "3b44acf3",
   "metadata": {},
   "source": [
    "### Negative indexing:"
   ]
  },
  {
   "cell_type": "code",
   "execution_count": 182,
   "id": "6c3028a3",
   "metadata": {},
   "outputs": [
    {
     "data": {
      "text/plain": [
       "Names       Hisham\n",
       "Degree          CS\n",
       "Age             32\n",
       "CGPA           3.2\n",
       "semester         3\n",
       "Name: 2, dtype: object"
      ]
     },
     "execution_count": 182,
     "metadata": {},
     "output_type": "execute_result"
    }
   ],
   "source": [
    "std.iloc[-1] #returns a series (1 dimensional data)"
   ]
  },
  {
   "cell_type": "code",
   "execution_count": 183,
   "id": "7c796cfb",
   "metadata": {},
   "outputs": [
    {
     "data": {
      "text/plain": [
       "Names       Ali\n",
       "Degree       IT\n",
       "Age          24\n",
       "CGPA        3.9\n",
       "semester      2\n",
       "Name: 1, dtype: object"
      ]
     },
     "execution_count": 183,
     "metadata": {},
     "output_type": "execute_result"
    }
   ],
   "source": [
    "std.iloc[-2] #returns a series (1 dimensional data)"
   ]
  },
  {
   "cell_type": "markdown",
   "id": "fad2ccbc",
   "metadata": {},
   "source": [
    "### the data is in now numpy array and can be used in OpenCV and in ML model, we need to convert our data into numpy array for training"
   ]
  },
  {
   "cell_type": "code",
   "execution_count": 5,
   "id": "56eba711",
   "metadata": {},
   "outputs": [
    {
     "data": {
      "text/plain": [
       "array([['Faizan', 'CS', 20, 3.4],\n",
       "       ['Ali', 'IT', 24, 3.9],\n",
       "       ['Hisham', 'CS', 32, 3.2]], dtype=object)"
      ]
     },
     "execution_count": 5,
     "metadata": {},
     "output_type": "execute_result"
    }
   ],
   "source": [
    "# it's a numpy array\n",
    "std.values # the data is in now numpy array and can be used in OpenCV \n",
    "                #and in ML model, we need to convert our data into numpy array for training"
   ]
  },
  {
   "cell_type": "markdown",
   "id": "05c9af47",
   "metadata": {},
   "source": [
    "## Possible data inputs to DataFrame Constructor:"
   ]
  },
  {
   "cell_type": "markdown",
   "id": "0427d4a8",
   "metadata": {},
   "source": [
    "###  Indexing , slicing and filtering:"
   ]
  },
  {
   "cell_type": "code",
   "execution_count": 6,
   "id": "2284d24b",
   "metadata": {},
   "outputs": [
    {
     "data": {
      "text/plain": [
       "a     2\n",
       "b     4\n",
       "c     7\n",
       "d    25\n",
       "e     2\n",
       "dtype: int64"
      ]
     },
     "execution_count": 6,
     "metadata": {},
     "output_type": "execute_result"
    }
   ],
   "source": [
    "obj4 = pd.Series([2,4,7,25,2], index = ['a', 'b', 'c', 'd', 'e'])\n",
    "obj4"
   ]
  },
  {
   "cell_type": "code",
   "execution_count": 7,
   "id": "214b6dee",
   "metadata": {},
   "outputs": [
    {
     "data": {
      "text/plain": [
       "2"
      ]
     },
     "execution_count": 7,
     "metadata": {},
     "output_type": "execute_result"
    }
   ],
   "source": [
    "obj4['a'] #indexing"
   ]
  },
  {
   "cell_type": "code",
   "execution_count": 8,
   "id": "0a25f43e",
   "metadata": {},
   "outputs": [
    {
     "data": {
      "text/plain": [
       "a    2\n",
       "b    4\n",
       "e    2\n",
       "dtype: int64"
      ]
     },
     "execution_count": 8,
     "metadata": {},
     "output_type": "execute_result"
    }
   ],
   "source": [
    "obj4[['a','b','e']] #fancy indexing "
   ]
  },
  {
   "cell_type": "code",
   "execution_count": 10,
   "id": "78e23b0c",
   "metadata": {},
   "outputs": [
    {
     "data": {
      "text/plain": [
       "a     2\n",
       "b     4\n",
       "c     7\n",
       "d    25\n",
       "dtype: int64"
      ]
     },
     "execution_count": 10,
     "metadata": {},
     "output_type": "execute_result"
    }
   ],
   "source": [
    "obj4[0:4] #slicing (start,end,step)"
   ]
  },
  {
   "cell_type": "code",
   "execution_count": 11,
   "id": "f5059dea",
   "metadata": {},
   "outputs": [
    {
     "data": {
      "text/plain": [
       "a    2\n",
       "c    7\n",
       "e    2\n",
       "dtype: int64"
      ]
     },
     "execution_count": 11,
     "metadata": {},
     "output_type": "execute_result"
    }
   ],
   "source": [
    "obj4[::2] #slicing"
   ]
  },
  {
   "cell_type": "code",
   "execution_count": 12,
   "id": "09e2a222",
   "metadata": {},
   "outputs": [
    {
     "data": {
      "text/plain": [
       "e     2\n",
       "d    25\n",
       "c     7\n",
       "b     4\n",
       "a     2\n",
       "dtype: int64"
      ]
     },
     "execution_count": 12,
     "metadata": {},
     "output_type": "execute_result"
    }
   ],
   "source": [
    "obj4[::-1] # negative slicing (reversing the order)"
   ]
  },
  {
   "cell_type": "code",
   "execution_count": 19,
   "id": "92ee67c5",
   "metadata": {},
   "outputs": [
    {
     "data": {
      "text/plain": [
       "e    2\n",
       "dtype: int64"
      ]
     },
     "execution_count": 19,
     "metadata": {},
     "output_type": "execute_result"
    }
   ],
   "source": [
    "obj4[-1:] # negative slicing"
   ]
  },
  {
   "cell_type": "code",
   "execution_count": 20,
   "id": "4e8e0246",
   "metadata": {},
   "outputs": [
    {
     "data": {
      "text/plain": [
       "c     7\n",
       "d    25\n",
       "dtype: int64"
      ]
     },
     "execution_count": 20,
     "metadata": {},
     "output_type": "execute_result"
    }
   ],
   "source": [
    "obj4[obj4>5] #filtering"
   ]
  },
  {
   "cell_type": "code",
   "execution_count": 21,
   "id": "cb81cbfc",
   "metadata": {},
   "outputs": [
    {
     "data": {
      "text/plain": [
       "d    25\n",
       "dtype: int64"
      ]
     },
     "execution_count": 21,
     "metadata": {},
     "output_type": "execute_result"
    }
   ],
   "source": [
    "obj4[obj4>=20] #filtering"
   ]
  },
  {
   "cell_type": "markdown",
   "id": "e1560f9b",
   "metadata": {},
   "source": [
    "## Dropping entries from axis:\n",
    "\n",
    "* removing specific rows from the data:\n",
    "    * `variable.drop([index],axis=0,1)` \n",
    "         * where `axis= 0` means row-wise\n",
    "         * `axis=1` means column-wise"
   ]
  },
  {
   "cell_type": "code",
   "execution_count": 22,
   "id": "d96de1df",
   "metadata": {},
   "outputs": [
    {
     "data": {
      "text/html": [
       "<div>\n",
       "<style scoped>\n",
       "    .dataframe tbody tr th:only-of-type {\n",
       "        vertical-align: middle;\n",
       "    }\n",
       "\n",
       "    .dataframe tbody tr th {\n",
       "        vertical-align: top;\n",
       "    }\n",
       "\n",
       "    .dataframe thead th {\n",
       "        text-align: right;\n",
       "    }\n",
       "</style>\n",
       "<table border=\"1\" class=\"dataframe\">\n",
       "  <thead>\n",
       "    <tr style=\"text-align: right;\">\n",
       "      <th></th>\n",
       "      <th>Names</th>\n",
       "      <th>Degree</th>\n",
       "      <th>Age</th>\n",
       "      <th>CGPA</th>\n",
       "    </tr>\n",
       "  </thead>\n",
       "  <tbody>\n",
       "    <tr>\n",
       "      <th>0</th>\n",
       "      <td>Faizan</td>\n",
       "      <td>CS</td>\n",
       "      <td>20</td>\n",
       "      <td>3.4</td>\n",
       "    </tr>\n",
       "    <tr>\n",
       "      <th>1</th>\n",
       "      <td>Ali</td>\n",
       "      <td>IT</td>\n",
       "      <td>24</td>\n",
       "      <td>3.9</td>\n",
       "    </tr>\n",
       "    <tr>\n",
       "      <th>2</th>\n",
       "      <td>Hisham</td>\n",
       "      <td>CS</td>\n",
       "      <td>32</td>\n",
       "      <td>3.2</td>\n",
       "    </tr>\n",
       "  </tbody>\n",
       "</table>\n",
       "</div>"
      ],
      "text/plain": [
       "    Names Degree  Age  CGPA\n",
       "0  Faizan     CS   20   3.4\n",
       "1     Ali     IT   24   3.9\n",
       "2  Hisham     CS   32   3.2"
      ]
     },
     "execution_count": 22,
     "metadata": {},
     "output_type": "execute_result"
    }
   ],
   "source": [
    "std"
   ]
  },
  {
   "cell_type": "code",
   "execution_count": 23,
   "id": "3a96fe87",
   "metadata": {},
   "outputs": [],
   "source": [
    "new_std = std.drop([1],axis = 0) #the 2nd row having index 1 is deleted "
   ]
  },
  {
   "cell_type": "code",
   "execution_count": 24,
   "id": "1b3f1016",
   "metadata": {},
   "outputs": [
    {
     "data": {
      "text/html": [
       "<div>\n",
       "<style scoped>\n",
       "    .dataframe tbody tr th:only-of-type {\n",
       "        vertical-align: middle;\n",
       "    }\n",
       "\n",
       "    .dataframe tbody tr th {\n",
       "        vertical-align: top;\n",
       "    }\n",
       "\n",
       "    .dataframe thead th {\n",
       "        text-align: right;\n",
       "    }\n",
       "</style>\n",
       "<table border=\"1\" class=\"dataframe\">\n",
       "  <thead>\n",
       "    <tr style=\"text-align: right;\">\n",
       "      <th></th>\n",
       "      <th>Names</th>\n",
       "      <th>Degree</th>\n",
       "      <th>Age</th>\n",
       "      <th>CGPA</th>\n",
       "    </tr>\n",
       "  </thead>\n",
       "  <tbody>\n",
       "    <tr>\n",
       "      <th>0</th>\n",
       "      <td>Faizan</td>\n",
       "      <td>CS</td>\n",
       "      <td>20</td>\n",
       "      <td>3.4</td>\n",
       "    </tr>\n",
       "    <tr>\n",
       "      <th>2</th>\n",
       "      <td>Hisham</td>\n",
       "      <td>CS</td>\n",
       "      <td>32</td>\n",
       "      <td>3.2</td>\n",
       "    </tr>\n",
       "  </tbody>\n",
       "</table>\n",
       "</div>"
      ],
      "text/plain": [
       "    Names Degree  Age  CGPA\n",
       "0  Faizan     CS   20   3.4\n",
       "2  Hisham     CS   32   3.2"
      ]
     },
     "execution_count": 24,
     "metadata": {},
     "output_type": "execute_result"
    }
   ],
   "source": [
    "new_std"
   ]
  },
  {
   "cell_type": "code",
   "execution_count": 25,
   "id": "8913f42d",
   "metadata": {},
   "outputs": [],
   "source": [
    "# Creating DataFrames with different data Structures"
   ]
  },
  {
   "cell_type": "code",
   "execution_count": 26,
   "id": "a8efaf63",
   "metadata": {},
   "outputs": [
    {
     "data": {
      "text/plain": [
       "array([['Faizan', 'CS', 20, 3.4],\n",
       "       ['Ali', 'IT', 24, 3.9],\n",
       "       ['Hisham', 'CS', 32, 3.2]], dtype=object)"
      ]
     },
     "execution_count": 26,
     "metadata": {},
     "output_type": "execute_result"
    }
   ],
   "source": [
    "std.values"
   ]
  },
  {
   "cell_type": "code",
   "execution_count": 29,
   "id": "f69b6918",
   "metadata": {},
   "outputs": [],
   "source": [
    "import numpy as np"
   ]
  },
  {
   "cell_type": "markdown",
   "id": "8b106090",
   "metadata": {},
   "source": [
    "# from array to DataFrame"
   ]
  },
  {
   "cell_type": "code",
   "execution_count": 30,
   "id": "e7fc140e",
   "metadata": {},
   "outputs": [],
   "source": [
    "arr = np.array([['Faizan', 'CS', 20, 3.4],\n",
    "       ['Ali', 'IT', 24, 3.9],\n",
    "       ['Hisham', 'CS', 32, 3.2]])"
   ]
  },
  {
   "cell_type": "code",
   "execution_count": 32,
   "id": "309f11a8",
   "metadata": {},
   "outputs": [],
   "source": [
    "df = pd.DataFrame(arr)"
   ]
  },
  {
   "cell_type": "code",
   "execution_count": 33,
   "id": "60aa3a9d",
   "metadata": {},
   "outputs": [
    {
     "data": {
      "text/html": [
       "<div>\n",
       "<style scoped>\n",
       "    .dataframe tbody tr th:only-of-type {\n",
       "        vertical-align: middle;\n",
       "    }\n",
       "\n",
       "    .dataframe tbody tr th {\n",
       "        vertical-align: top;\n",
       "    }\n",
       "\n",
       "    .dataframe thead th {\n",
       "        text-align: right;\n",
       "    }\n",
       "</style>\n",
       "<table border=\"1\" class=\"dataframe\">\n",
       "  <thead>\n",
       "    <tr style=\"text-align: right;\">\n",
       "      <th></th>\n",
       "      <th>0</th>\n",
       "      <th>1</th>\n",
       "      <th>2</th>\n",
       "      <th>3</th>\n",
       "    </tr>\n",
       "  </thead>\n",
       "  <tbody>\n",
       "    <tr>\n",
       "      <th>0</th>\n",
       "      <td>Faizan</td>\n",
       "      <td>CS</td>\n",
       "      <td>20</td>\n",
       "      <td>3.4</td>\n",
       "    </tr>\n",
       "    <tr>\n",
       "      <th>1</th>\n",
       "      <td>Ali</td>\n",
       "      <td>IT</td>\n",
       "      <td>24</td>\n",
       "      <td>3.9</td>\n",
       "    </tr>\n",
       "    <tr>\n",
       "      <th>2</th>\n",
       "      <td>Hisham</td>\n",
       "      <td>CS</td>\n",
       "      <td>32</td>\n",
       "      <td>3.2</td>\n",
       "    </tr>\n",
       "  </tbody>\n",
       "</table>\n",
       "</div>"
      ],
      "text/plain": [
       "        0   1   2    3\n",
       "0  Faizan  CS  20  3.4\n",
       "1     Ali  IT  24  3.9\n",
       "2  Hisham  CS  32  3.2"
      ]
     },
     "execution_count": 33,
     "metadata": {},
     "output_type": "execute_result"
    }
   ],
   "source": [
    "df # but there are no column names specified..."
   ]
  },
  {
   "cell_type": "code",
   "execution_count": 34,
   "id": "f26630c6",
   "metadata": {},
   "outputs": [],
   "source": [
    "# so we can specify column names as :\n",
    "df = pd.DataFrame(arr, columns= [\"Name\",\"Degree\", \"Age\", \"CGPA\"])"
   ]
  },
  {
   "cell_type": "code",
   "execution_count": 35,
   "id": "ba14d29f",
   "metadata": {},
   "outputs": [
    {
     "data": {
      "text/html": [
       "<div>\n",
       "<style scoped>\n",
       "    .dataframe tbody tr th:only-of-type {\n",
       "        vertical-align: middle;\n",
       "    }\n",
       "\n",
       "    .dataframe tbody tr th {\n",
       "        vertical-align: top;\n",
       "    }\n",
       "\n",
       "    .dataframe thead th {\n",
       "        text-align: right;\n",
       "    }\n",
       "</style>\n",
       "<table border=\"1\" class=\"dataframe\">\n",
       "  <thead>\n",
       "    <tr style=\"text-align: right;\">\n",
       "      <th></th>\n",
       "      <th>Name</th>\n",
       "      <th>Degree</th>\n",
       "      <th>Age</th>\n",
       "      <th>CGPA</th>\n",
       "    </tr>\n",
       "  </thead>\n",
       "  <tbody>\n",
       "    <tr>\n",
       "      <th>0</th>\n",
       "      <td>Faizan</td>\n",
       "      <td>CS</td>\n",
       "      <td>20</td>\n",
       "      <td>3.4</td>\n",
       "    </tr>\n",
       "    <tr>\n",
       "      <th>1</th>\n",
       "      <td>Ali</td>\n",
       "      <td>IT</td>\n",
       "      <td>24</td>\n",
       "      <td>3.9</td>\n",
       "    </tr>\n",
       "    <tr>\n",
       "      <th>2</th>\n",
       "      <td>Hisham</td>\n",
       "      <td>CS</td>\n",
       "      <td>32</td>\n",
       "      <td>3.2</td>\n",
       "    </tr>\n",
       "  </tbody>\n",
       "</table>\n",
       "</div>"
      ],
      "text/plain": [
       "     Name Degree Age CGPA\n",
       "0  Faizan     CS  20  3.4\n",
       "1     Ali     IT  24  3.9\n",
       "2  Hisham     CS  32  3.2"
      ]
     },
     "execution_count": 35,
     "metadata": {},
     "output_type": "execute_result"
    }
   ],
   "source": [
    "df"
   ]
  },
  {
   "cell_type": "markdown",
   "id": "dc132a57",
   "metadata": {},
   "source": [
    "# from list to DataFrame"
   ]
  },
  {
   "cell_type": "code",
   "execution_count": 36,
   "id": "b3681238",
   "metadata": {},
   "outputs": [],
   "source": [
    "l1 = [['Faizan', 'CS', 20, 3.4],\n",
    "       ['Ali', 'IT', 24, 3.9],\n",
    "       ['Hisham', 'CS', 32, 3.2]]"
   ]
  },
  {
   "cell_type": "code",
   "execution_count": 40,
   "id": "33ea128b",
   "metadata": {},
   "outputs": [
    {
     "data": {
      "text/html": [
       "<div>\n",
       "<style scoped>\n",
       "    .dataframe tbody tr th:only-of-type {\n",
       "        vertical-align: middle;\n",
       "    }\n",
       "\n",
       "    .dataframe tbody tr th {\n",
       "        vertical-align: top;\n",
       "    }\n",
       "\n",
       "    .dataframe thead th {\n",
       "        text-align: right;\n",
       "    }\n",
       "</style>\n",
       "<table border=\"1\" class=\"dataframe\">\n",
       "  <thead>\n",
       "    <tr style=\"text-align: right;\">\n",
       "      <th></th>\n",
       "      <th>Name</th>\n",
       "      <th>Degree</th>\n",
       "      <th>Age</th>\n",
       "      <th>CGPA</th>\n",
       "    </tr>\n",
       "  </thead>\n",
       "  <tbody>\n",
       "    <tr>\n",
       "      <th>0</th>\n",
       "      <td>Faizan</td>\n",
       "      <td>CS</td>\n",
       "      <td>20</td>\n",
       "      <td>3.4</td>\n",
       "    </tr>\n",
       "    <tr>\n",
       "      <th>1</th>\n",
       "      <td>Ali</td>\n",
       "      <td>IT</td>\n",
       "      <td>24</td>\n",
       "      <td>3.9</td>\n",
       "    </tr>\n",
       "    <tr>\n",
       "      <th>2</th>\n",
       "      <td>Hisham</td>\n",
       "      <td>CS</td>\n",
       "      <td>32</td>\n",
       "      <td>3.2</td>\n",
       "    </tr>\n",
       "  </tbody>\n",
       "</table>\n",
       "</div>"
      ],
      "text/plain": [
       "     Name Degree  Age  CGPA\n",
       "0  Faizan     CS   20   3.4\n",
       "1     Ali     IT   24   3.9\n",
       "2  Hisham     CS   32   3.2"
      ]
     },
     "execution_count": 40,
     "metadata": {},
     "output_type": "execute_result"
    }
   ],
   "source": [
    "list_df = pd.DataFrame(l1,columns =[\"Name\",\"Degree\", \"Age\", \"CGPA\"])\n",
    "list_df"
   ]
  },
  {
   "cell_type": "markdown",
   "id": "1c17aad9",
   "metadata": {},
   "source": [
    "# assignment:\n",
    "   * try creating dataframes from different data structures..."
   ]
  },
  {
   "cell_type": "markdown",
   "id": "58a9aab6",
   "metadata": {},
   "source": [
    "# Drop:\n",
    "* `variable.drop([index], axis=0,1)`\n",
    "* axis parameter:\n",
    "    * 1 (column-wise)\n",
    "    * 0 (row-wise)"
   ]
  },
  {
   "cell_type": "code",
   "execution_count": 41,
   "id": "b0798cef",
   "metadata": {},
   "outputs": [
    {
     "data": {
      "text/html": [
       "<div>\n",
       "<style scoped>\n",
       "    .dataframe tbody tr th:only-of-type {\n",
       "        vertical-align: middle;\n",
       "    }\n",
       "\n",
       "    .dataframe tbody tr th {\n",
       "        vertical-align: top;\n",
       "    }\n",
       "\n",
       "    .dataframe thead th {\n",
       "        text-align: right;\n",
       "    }\n",
       "</style>\n",
       "<table border=\"1\" class=\"dataframe\">\n",
       "  <thead>\n",
       "    <tr style=\"text-align: right;\">\n",
       "      <th></th>\n",
       "      <th>Names</th>\n",
       "      <th>Degree</th>\n",
       "      <th>Age</th>\n",
       "      <th>CGPA</th>\n",
       "    </tr>\n",
       "  </thead>\n",
       "  <tbody>\n",
       "    <tr>\n",
       "      <th>0</th>\n",
       "      <td>Faizan</td>\n",
       "      <td>CS</td>\n",
       "      <td>20</td>\n",
       "      <td>3.4</td>\n",
       "    </tr>\n",
       "    <tr>\n",
       "      <th>1</th>\n",
       "      <td>Ali</td>\n",
       "      <td>IT</td>\n",
       "      <td>24</td>\n",
       "      <td>3.9</td>\n",
       "    </tr>\n",
       "    <tr>\n",
       "      <th>2</th>\n",
       "      <td>Hisham</td>\n",
       "      <td>CS</td>\n",
       "      <td>32</td>\n",
       "      <td>3.2</td>\n",
       "    </tr>\n",
       "  </tbody>\n",
       "</table>\n",
       "</div>"
      ],
      "text/plain": [
       "    Names Degree  Age  CGPA\n",
       "0  Faizan     CS   20   3.4\n",
       "1     Ali     IT   24   3.9\n",
       "2  Hisham     CS   32   3.2"
      ]
     },
     "execution_count": 41,
     "metadata": {},
     "output_type": "execute_result"
    }
   ],
   "source": [
    "std"
   ]
  },
  {
   "cell_type": "markdown",
   "id": "5da20f7e",
   "metadata": {},
   "source": [
    "# axis = 1 (delete column wise )"
   ]
  },
  {
   "cell_type": "code",
   "execution_count": 7,
   "id": "2374e4fc",
   "metadata": {},
   "outputs": [
    {
     "data": {
      "text/html": [
       "<div>\n",
       "<style scoped>\n",
       "    .dataframe tbody tr th:only-of-type {\n",
       "        vertical-align: middle;\n",
       "    }\n",
       "\n",
       "    .dataframe tbody tr th {\n",
       "        vertical-align: top;\n",
       "    }\n",
       "\n",
       "    .dataframe thead th {\n",
       "        text-align: right;\n",
       "    }\n",
       "</style>\n",
       "<table border=\"1\" class=\"dataframe\">\n",
       "  <thead>\n",
       "    <tr style=\"text-align: right;\">\n",
       "      <th></th>\n",
       "      <th>Names</th>\n",
       "      <th>Age</th>\n",
       "    </tr>\n",
       "  </thead>\n",
       "  <tbody>\n",
       "    <tr>\n",
       "      <th>0</th>\n",
       "      <td>Faizan</td>\n",
       "      <td>20</td>\n",
       "    </tr>\n",
       "    <tr>\n",
       "      <th>1</th>\n",
       "      <td>Ali</td>\n",
       "      <td>24</td>\n",
       "    </tr>\n",
       "    <tr>\n",
       "      <th>2</th>\n",
       "      <td>Hisham</td>\n",
       "      <td>32</td>\n",
       "    </tr>\n",
       "  </tbody>\n",
       "</table>\n",
       "</div>"
      ],
      "text/plain": [
       "    Names  Age\n",
       "0  Faizan   20\n",
       "1     Ali   24\n",
       "2  Hisham   32"
      ]
     },
     "execution_count": 7,
     "metadata": {},
     "output_type": "execute_result"
    }
   ],
   "source": [
    "frame =std.drop([\"Degree\",\"CGPA\"], axis = 1)\n",
    "frame"
   ]
  },
  {
   "cell_type": "markdown",
   "id": "c89095fc",
   "metadata": {},
   "source": [
    "# axis = 0 (delete row wise )"
   ]
  },
  {
   "cell_type": "code",
   "execution_count": 5,
   "id": "7c36d6a0",
   "metadata": {},
   "outputs": [
    {
     "data": {
      "text/html": [
       "<div>\n",
       "<style scoped>\n",
       "    .dataframe tbody tr th:only-of-type {\n",
       "        vertical-align: middle;\n",
       "    }\n",
       "\n",
       "    .dataframe tbody tr th {\n",
       "        vertical-align: top;\n",
       "    }\n",
       "\n",
       "    .dataframe thead th {\n",
       "        text-align: right;\n",
       "    }\n",
       "</style>\n",
       "<table border=\"1\" class=\"dataframe\">\n",
       "  <thead>\n",
       "    <tr style=\"text-align: right;\">\n",
       "      <th></th>\n",
       "      <th>Names</th>\n",
       "      <th>Degree</th>\n",
       "      <th>Age</th>\n",
       "      <th>CGPA</th>\n",
       "    </tr>\n",
       "  </thead>\n",
       "  <tbody>\n",
       "    <tr>\n",
       "      <th>0</th>\n",
       "      <td>Faizan</td>\n",
       "      <td>CS</td>\n",
       "      <td>20</td>\n",
       "      <td>3.4</td>\n",
       "    </tr>\n",
       "    <tr>\n",
       "      <th>1</th>\n",
       "      <td>Ali</td>\n",
       "      <td>IT</td>\n",
       "      <td>24</td>\n",
       "      <td>3.9</td>\n",
       "    </tr>\n",
       "  </tbody>\n",
       "</table>\n",
       "</div>"
      ],
      "text/plain": [
       "    Names Degree  Age  CGPA\n",
       "0  Faizan     CS   20   3.4\n",
       "1     Ali     IT   24   3.9"
      ]
     },
     "execution_count": 5,
     "metadata": {},
     "output_type": "execute_result"
    }
   ],
   "source": [
    "frame = std.drop([2],axis = 0)\n",
    "frame"
   ]
  },
  {
   "cell_type": "code",
   "execution_count": 6,
   "id": "1d5f734d",
   "metadata": {},
   "outputs": [
    {
     "data": {
      "text/html": [
       "<div>\n",
       "<style scoped>\n",
       "    .dataframe tbody tr th:only-of-type {\n",
       "        vertical-align: middle;\n",
       "    }\n",
       "\n",
       "    .dataframe tbody tr th {\n",
       "        vertical-align: top;\n",
       "    }\n",
       "\n",
       "    .dataframe thead th {\n",
       "        text-align: right;\n",
       "    }\n",
       "</style>\n",
       "<table border=\"1\" class=\"dataframe\">\n",
       "  <thead>\n",
       "    <tr style=\"text-align: right;\">\n",
       "      <th></th>\n",
       "      <th>Names</th>\n",
       "      <th>Degree</th>\n",
       "      <th>Age</th>\n",
       "      <th>CGPA</th>\n",
       "    </tr>\n",
       "  </thead>\n",
       "  <tbody>\n",
       "    <tr>\n",
       "      <th>0</th>\n",
       "      <td>Faizan</td>\n",
       "      <td>CS</td>\n",
       "      <td>20</td>\n",
       "      <td>3.4</td>\n",
       "    </tr>\n",
       "    <tr>\n",
       "      <th>1</th>\n",
       "      <td>Ali</td>\n",
       "      <td>IT</td>\n",
       "      <td>24</td>\n",
       "      <td>3.9</td>\n",
       "    </tr>\n",
       "  </tbody>\n",
       "</table>\n",
       "</div>"
      ],
      "text/plain": [
       "    Names Degree  Age  CGPA\n",
       "0  Faizan     CS   20   3.4\n",
       "1     Ali     IT   24   3.9"
      ]
     },
     "execution_count": 6,
     "metadata": {},
     "output_type": "execute_result"
    }
   ],
   "source": [
    " frame"
   ]
  },
  {
   "cell_type": "code",
   "execution_count": 8,
   "id": "f53cb2d9",
   "metadata": {},
   "outputs": [
    {
     "data": {
      "text/html": [
       "<div>\n",
       "<style scoped>\n",
       "    .dataframe tbody tr th:only-of-type {\n",
       "        vertical-align: middle;\n",
       "    }\n",
       "\n",
       "    .dataframe tbody tr th {\n",
       "        vertical-align: top;\n",
       "    }\n",
       "\n",
       "    .dataframe thead th {\n",
       "        text-align: right;\n",
       "    }\n",
       "</style>\n",
       "<table border=\"1\" class=\"dataframe\">\n",
       "  <thead>\n",
       "    <tr style=\"text-align: right;\">\n",
       "      <th></th>\n",
       "      <th>Names</th>\n",
       "      <th>Degree</th>\n",
       "      <th>Age</th>\n",
       "      <th>CGPA</th>\n",
       "    </tr>\n",
       "  </thead>\n",
       "  <tbody>\n",
       "    <tr>\n",
       "      <th>0</th>\n",
       "      <td>Faizan</td>\n",
       "      <td>CS</td>\n",
       "      <td>20</td>\n",
       "      <td>3.4</td>\n",
       "    </tr>\n",
       "    <tr>\n",
       "      <th>1</th>\n",
       "      <td>Ali</td>\n",
       "      <td>IT</td>\n",
       "      <td>24</td>\n",
       "      <td>3.9</td>\n",
       "    </tr>\n",
       "    <tr>\n",
       "      <th>2</th>\n",
       "      <td>Hisham</td>\n",
       "      <td>CS</td>\n",
       "      <td>32</td>\n",
       "      <td>3.2</td>\n",
       "    </tr>\n",
       "  </tbody>\n",
       "</table>\n",
       "</div>"
      ],
      "text/plain": [
       "    Names Degree  Age  CGPA\n",
       "0  Faizan     CS   20   3.4\n",
       "1     Ali     IT   24   3.9\n",
       "2  Hisham     CS   32   3.2"
      ]
     },
     "execution_count": 8,
     "metadata": {},
     "output_type": "execute_result"
    }
   ],
   "source": [
    "std"
   ]
  },
  {
   "cell_type": "code",
   "execution_count": 9,
   "id": "34e38ad7",
   "metadata": {},
   "outputs": [],
   "source": [
    "frame = std"
   ]
  },
  {
   "cell_type": "code",
   "execution_count": 10,
   "id": "e3c133bd",
   "metadata": {},
   "outputs": [
    {
     "data": {
      "text/html": [
       "<div>\n",
       "<style scoped>\n",
       "    .dataframe tbody tr th:only-of-type {\n",
       "        vertical-align: middle;\n",
       "    }\n",
       "\n",
       "    .dataframe tbody tr th {\n",
       "        vertical-align: top;\n",
       "    }\n",
       "\n",
       "    .dataframe thead th {\n",
       "        text-align: right;\n",
       "    }\n",
       "</style>\n",
       "<table border=\"1\" class=\"dataframe\">\n",
       "  <thead>\n",
       "    <tr style=\"text-align: right;\">\n",
       "      <th></th>\n",
       "      <th>Names</th>\n",
       "      <th>Degree</th>\n",
       "      <th>Age</th>\n",
       "      <th>CGPA</th>\n",
       "    </tr>\n",
       "  </thead>\n",
       "  <tbody>\n",
       "    <tr>\n",
       "      <th>0</th>\n",
       "      <td>Faizan</td>\n",
       "      <td>CS</td>\n",
       "      <td>20</td>\n",
       "      <td>3.4</td>\n",
       "    </tr>\n",
       "    <tr>\n",
       "      <th>1</th>\n",
       "      <td>Ali</td>\n",
       "      <td>IT</td>\n",
       "      <td>24</td>\n",
       "      <td>3.9</td>\n",
       "    </tr>\n",
       "    <tr>\n",
       "      <th>2</th>\n",
       "      <td>Hisham</td>\n",
       "      <td>CS</td>\n",
       "      <td>32</td>\n",
       "      <td>3.2</td>\n",
       "    </tr>\n",
       "  </tbody>\n",
       "</table>\n",
       "</div>"
      ],
      "text/plain": [
       "    Names Degree  Age  CGPA\n",
       "0  Faizan     CS   20   3.4\n",
       "1     Ali     IT   24   3.9\n",
       "2  Hisham     CS   32   3.2"
      ]
     },
     "execution_count": 10,
     "metadata": {},
     "output_type": "execute_result"
    }
   ],
   "source": [
    "frame\n"
   ]
  },
  {
   "cell_type": "code",
   "execution_count": 13,
   "id": "8b3b7240",
   "metadata": {},
   "outputs": [
    {
     "data": {
      "text/html": [
       "<div>\n",
       "<style scoped>\n",
       "    .dataframe tbody tr th:only-of-type {\n",
       "        vertical-align: middle;\n",
       "    }\n",
       "\n",
       "    .dataframe tbody tr th {\n",
       "        vertical-align: top;\n",
       "    }\n",
       "\n",
       "    .dataframe thead th {\n",
       "        text-align: right;\n",
       "    }\n",
       "</style>\n",
       "<table border=\"1\" class=\"dataframe\">\n",
       "  <thead>\n",
       "    <tr style=\"text-align: right;\">\n",
       "      <th></th>\n",
       "      <th>Names</th>\n",
       "      <th>Degree</th>\n",
       "      <th>Age</th>\n",
       "    </tr>\n",
       "  </thead>\n",
       "  <tbody>\n",
       "    <tr>\n",
       "      <th>0</th>\n",
       "      <td>Faizan</td>\n",
       "      <td>CS</td>\n",
       "      <td>20</td>\n",
       "    </tr>\n",
       "    <tr>\n",
       "      <th>1</th>\n",
       "      <td>Ali</td>\n",
       "      <td>IT</td>\n",
       "      <td>24</td>\n",
       "    </tr>\n",
       "    <tr>\n",
       "      <th>2</th>\n",
       "      <td>Hisham</td>\n",
       "      <td>CS</td>\n",
       "      <td>32</td>\n",
       "    </tr>\n",
       "  </tbody>\n",
       "</table>\n",
       "</div>"
      ],
      "text/plain": [
       "    Names Degree  Age\n",
       "0  Faizan     CS   20\n",
       "1     Ali     IT   24\n",
       "2  Hisham     CS   32"
      ]
     },
     "execution_count": 13,
     "metadata": {},
     "output_type": "execute_result"
    }
   ],
   "source": [
    "frame.loc[:,'Names':'Age'] #slicing with loc[rows,column names]"
   ]
  },
  {
   "cell_type": "markdown",
   "id": "ad0c7d49",
   "metadata": {},
   "source": [
    "# apply function\n",
    "* very important\n",
    "* how to apply any function on our dataset"
   ]
  },
  {
   "cell_type": "markdown",
   "id": "ed789f3a",
   "metadata": {},
   "source": [
    "### How to rename columns\n",
    "`frame.columns =[]` "
   ]
  },
  {
   "cell_type": "code",
   "execution_count": 14,
   "id": "fd417c18",
   "metadata": {},
   "outputs": [
    {
     "data": {
      "text/html": [
       "<div>\n",
       "<style scoped>\n",
       "    .dataframe tbody tr th:only-of-type {\n",
       "        vertical-align: middle;\n",
       "    }\n",
       "\n",
       "    .dataframe tbody tr th {\n",
       "        vertical-align: top;\n",
       "    }\n",
       "\n",
       "    .dataframe thead th {\n",
       "        text-align: right;\n",
       "    }\n",
       "</style>\n",
       "<table border=\"1\" class=\"dataframe\">\n",
       "  <thead>\n",
       "    <tr style=\"text-align: right;\">\n",
       "      <th></th>\n",
       "      <th>Names</th>\n",
       "      <th>Degree</th>\n",
       "      <th>Age</th>\n",
       "      <th>CGPA</th>\n",
       "    </tr>\n",
       "  </thead>\n",
       "  <tbody>\n",
       "    <tr>\n",
       "      <th>0</th>\n",
       "      <td>Faizan</td>\n",
       "      <td>CS</td>\n",
       "      <td>20</td>\n",
       "      <td>3.4</td>\n",
       "    </tr>\n",
       "    <tr>\n",
       "      <th>1</th>\n",
       "      <td>Ali</td>\n",
       "      <td>IT</td>\n",
       "      <td>24</td>\n",
       "      <td>3.9</td>\n",
       "    </tr>\n",
       "    <tr>\n",
       "      <th>2</th>\n",
       "      <td>Hisham</td>\n",
       "      <td>CS</td>\n",
       "      <td>32</td>\n",
       "      <td>3.2</td>\n",
       "    </tr>\n",
       "  </tbody>\n",
       "</table>\n",
       "</div>"
      ],
      "text/plain": [
       "    Names Degree  Age  CGPA\n",
       "0  Faizan     CS   20   3.4\n",
       "1     Ali     IT   24   3.9\n",
       "2  Hisham     CS   32   3.2"
      ]
     },
     "execution_count": 14,
     "metadata": {},
     "output_type": "execute_result"
    }
   ],
   "source": [
    "frame\n"
   ]
  },
  {
   "cell_type": "code",
   "execution_count": 26,
   "id": "24b7d9cc",
   "metadata": {},
   "outputs": [],
   "source": [
    "def Young_Old(age): #here age is a local variable\n",
    "     if age>30:\n",
    "        return \"Old\"\n",
    "     else:\n",
    "        return \"Young\""
   ]
  },
  {
   "cell_type": "code",
   "execution_count": 27,
   "id": "78882812",
   "metadata": {},
   "outputs": [
    {
     "data": {
      "text/plain": [
       "0    Young\n",
       "1    Young\n",
       "2      Old\n",
       "Name: Age, dtype: object"
      ]
     },
     "execution_count": 27,
     "metadata": {},
     "output_type": "execute_result"
    }
   ],
   "source": [
    "frame['Age'].apply(Young_Old)"
   ]
  },
  {
   "cell_type": "markdown",
   "id": "f25a10be",
   "metadata": {},
   "source": [
    "## How to add a column in dataFrame:"
   ]
  },
  {
   "cell_type": "code",
   "execution_count": 28,
   "id": "800b9793",
   "metadata": {},
   "outputs": [],
   "source": [
    "frame['Age_Status'] = frame['Age'].apply(Young_Old)"
   ]
  },
  {
   "cell_type": "code",
   "execution_count": 29,
   "id": "58bdfa10",
   "metadata": {},
   "outputs": [
    {
     "data": {
      "text/html": [
       "<div>\n",
       "<style scoped>\n",
       "    .dataframe tbody tr th:only-of-type {\n",
       "        vertical-align: middle;\n",
       "    }\n",
       "\n",
       "    .dataframe tbody tr th {\n",
       "        vertical-align: top;\n",
       "    }\n",
       "\n",
       "    .dataframe thead th {\n",
       "        text-align: right;\n",
       "    }\n",
       "</style>\n",
       "<table border=\"1\" class=\"dataframe\">\n",
       "  <thead>\n",
       "    <tr style=\"text-align: right;\">\n",
       "      <th></th>\n",
       "      <th>Names</th>\n",
       "      <th>Degree</th>\n",
       "      <th>Age</th>\n",
       "      <th>CGPA</th>\n",
       "      <th>Age_Status</th>\n",
       "    </tr>\n",
       "  </thead>\n",
       "  <tbody>\n",
       "    <tr>\n",
       "      <th>0</th>\n",
       "      <td>Faizan</td>\n",
       "      <td>CS</td>\n",
       "      <td>20</td>\n",
       "      <td>3.4</td>\n",
       "      <td>Young</td>\n",
       "    </tr>\n",
       "    <tr>\n",
       "      <th>1</th>\n",
       "      <td>Ali</td>\n",
       "      <td>IT</td>\n",
       "      <td>24</td>\n",
       "      <td>3.9</td>\n",
       "      <td>Young</td>\n",
       "    </tr>\n",
       "    <tr>\n",
       "      <th>2</th>\n",
       "      <td>Hisham</td>\n",
       "      <td>CS</td>\n",
       "      <td>32</td>\n",
       "      <td>3.2</td>\n",
       "      <td>Old</td>\n",
       "    </tr>\n",
       "  </tbody>\n",
       "</table>\n",
       "</div>"
      ],
      "text/plain": [
       "    Names Degree  Age  CGPA Age_Status\n",
       "0  Faizan     CS   20   3.4      Young\n",
       "1     Ali     IT   24   3.9      Young\n",
       "2  Hisham     CS   32   3.2        Old"
      ]
     },
     "execution_count": 29,
     "metadata": {},
     "output_type": "execute_result"
    }
   ],
   "source": [
    "frame"
   ]
  },
  {
   "cell_type": "code",
   "execution_count": 37,
   "id": "52259879",
   "metadata": {
    "scrolled": true
   },
   "outputs": [
    {
     "data": {
      "text/html": [
       "<div>\n",
       "<style scoped>\n",
       "    .dataframe tbody tr th:only-of-type {\n",
       "        vertical-align: middle;\n",
       "    }\n",
       "\n",
       "    .dataframe tbody tr th {\n",
       "        vertical-align: top;\n",
       "    }\n",
       "\n",
       "    .dataframe thead th {\n",
       "        text-align: right;\n",
       "    }\n",
       "</style>\n",
       "<table border=\"1\" class=\"dataframe\">\n",
       "  <thead>\n",
       "    <tr style=\"text-align: right;\">\n",
       "      <th></th>\n",
       "      <th>Names</th>\n",
       "      <th>Degree</th>\n",
       "      <th>Age</th>\n",
       "      <th>CGPA</th>\n",
       "    </tr>\n",
       "  </thead>\n",
       "  <tbody>\n",
       "    <tr>\n",
       "      <th>0</th>\n",
       "      <td>Faizan</td>\n",
       "      <td>CS</td>\n",
       "      <td>20</td>\n",
       "      <td>3.4</td>\n",
       "    </tr>\n",
       "    <tr>\n",
       "      <th>1</th>\n",
       "      <td>Ali</td>\n",
       "      <td>IT</td>\n",
       "      <td>24</td>\n",
       "      <td>3.9</td>\n",
       "    </tr>\n",
       "    <tr>\n",
       "      <th>2</th>\n",
       "      <td>Hisham</td>\n",
       "      <td>CS</td>\n",
       "      <td>32</td>\n",
       "      <td>3.2</td>\n",
       "    </tr>\n",
       "  </tbody>\n",
       "</table>\n",
       "</div>"
      ],
      "text/plain": [
       "    Names Degree  Age  CGPA\n",
       "0  Faizan     CS   20   3.4\n",
       "1     Ali     IT   24   3.9\n",
       "2  Hisham     CS   32   3.2"
      ]
     },
     "execution_count": 37,
     "metadata": {},
     "output_type": "execute_result"
    }
   ],
   "source": [
    "frame.drop([\"Age_Status\"], axis=1) # where axis =1 means column"
   ]
  },
  {
   "cell_type": "code",
   "execution_count": 38,
   "id": "96d023bd",
   "metadata": {},
   "outputs": [
    {
     "data": {
      "text/html": [
       "<div>\n",
       "<style scoped>\n",
       "    .dataframe tbody tr th:only-of-type {\n",
       "        vertical-align: middle;\n",
       "    }\n",
       "\n",
       "    .dataframe tbody tr th {\n",
       "        vertical-align: top;\n",
       "    }\n",
       "\n",
       "    .dataframe thead th {\n",
       "        text-align: right;\n",
       "    }\n",
       "</style>\n",
       "<table border=\"1\" class=\"dataframe\">\n",
       "  <thead>\n",
       "    <tr style=\"text-align: right;\">\n",
       "      <th></th>\n",
       "      <th>Names</th>\n",
       "      <th>Degree</th>\n",
       "      <th>Age</th>\n",
       "      <th>CGPA</th>\n",
       "      <th>Age_Status</th>\n",
       "    </tr>\n",
       "  </thead>\n",
       "  <tbody>\n",
       "    <tr>\n",
       "      <th>0</th>\n",
       "      <td>Faizan</td>\n",
       "      <td>CS</td>\n",
       "      <td>20</td>\n",
       "      <td>3.4</td>\n",
       "      <td>Young</td>\n",
       "    </tr>\n",
       "    <tr>\n",
       "      <th>1</th>\n",
       "      <td>Ali</td>\n",
       "      <td>IT</td>\n",
       "      <td>24</td>\n",
       "      <td>3.9</td>\n",
       "      <td>Young</td>\n",
       "    </tr>\n",
       "    <tr>\n",
       "      <th>2</th>\n",
       "      <td>Hisham</td>\n",
       "      <td>CS</td>\n",
       "      <td>32</td>\n",
       "      <td>3.2</td>\n",
       "      <td>Old</td>\n",
       "    </tr>\n",
       "  </tbody>\n",
       "</table>\n",
       "</div>"
      ],
      "text/plain": [
       "    Names Degree  Age  CGPA Age_Status\n",
       "0  Faizan     CS   20   3.4      Young\n",
       "1     Ali     IT   24   3.9      Young\n",
       "2  Hisham     CS   32   3.2        Old"
      ]
     },
     "execution_count": 38,
     "metadata": {},
     "output_type": "execute_result"
    }
   ],
   "source": [
    "frame"
   ]
  },
  {
   "cell_type": "markdown",
   "id": "ff14eff4",
   "metadata": {},
   "source": [
    "# Lambda function:\n",
    "* one line function\n",
    "* returns and compute in a single line\n",
    "* has no name"
   ]
  },
  {
   "cell_type": "code",
   "execution_count": 39,
   "id": "d5d998d7",
   "metadata": {},
   "outputs": [],
   "source": [
    "old_young = lambda age: \"Old\" if age>30 else \"Young\""
   ]
  },
  {
   "cell_type": "code",
   "execution_count": 40,
   "id": "55a290f5",
   "metadata": {},
   "outputs": [
    {
     "data": {
      "text/plain": [
       "0    Young\n",
       "1    Young\n",
       "2      Old\n",
       "Name: Age, dtype: object"
      ]
     },
     "execution_count": 40,
     "metadata": {},
     "output_type": "execute_result"
    }
   ],
   "source": [
    "frame[\"Age\"].apply(old_young)"
   ]
  },
  {
   "cell_type": "code",
   "execution_count": 41,
   "id": "e5440ead",
   "metadata": {},
   "outputs": [],
   "source": [
    "frame[\"status\"] = frame[\"Age\"].apply(old_young)"
   ]
  },
  {
   "cell_type": "code",
   "execution_count": 43,
   "id": "c9796392",
   "metadata": {},
   "outputs": [
    {
     "data": {
      "text/html": [
       "<div>\n",
       "<style scoped>\n",
       "    .dataframe tbody tr th:only-of-type {\n",
       "        vertical-align: middle;\n",
       "    }\n",
       "\n",
       "    .dataframe tbody tr th {\n",
       "        vertical-align: top;\n",
       "    }\n",
       "\n",
       "    .dataframe thead th {\n",
       "        text-align: right;\n",
       "    }\n",
       "</style>\n",
       "<table border=\"1\" class=\"dataframe\">\n",
       "  <thead>\n",
       "    <tr style=\"text-align: right;\">\n",
       "      <th></th>\n",
       "      <th>Names</th>\n",
       "      <th>Degree</th>\n",
       "      <th>Age</th>\n",
       "      <th>CGPA</th>\n",
       "      <th>Age_Status</th>\n",
       "      <th>status</th>\n",
       "    </tr>\n",
       "  </thead>\n",
       "  <tbody>\n",
       "    <tr>\n",
       "      <th>0</th>\n",
       "      <td>Faizan</td>\n",
       "      <td>CS</td>\n",
       "      <td>20</td>\n",
       "      <td>3.4</td>\n",
       "      <td>Young</td>\n",
       "      <td>Young</td>\n",
       "    </tr>\n",
       "    <tr>\n",
       "      <th>1</th>\n",
       "      <td>Ali</td>\n",
       "      <td>IT</td>\n",
       "      <td>24</td>\n",
       "      <td>3.9</td>\n",
       "      <td>Young</td>\n",
       "      <td>Young</td>\n",
       "    </tr>\n",
       "    <tr>\n",
       "      <th>2</th>\n",
       "      <td>Hisham</td>\n",
       "      <td>CS</td>\n",
       "      <td>32</td>\n",
       "      <td>3.2</td>\n",
       "      <td>Old</td>\n",
       "      <td>Old</td>\n",
       "    </tr>\n",
       "  </tbody>\n",
       "</table>\n",
       "</div>"
      ],
      "text/plain": [
       "    Names Degree  Age  CGPA Age_Status status\n",
       "0  Faizan     CS   20   3.4      Young  Young\n",
       "1     Ali     IT   24   3.9      Young  Young\n",
       "2  Hisham     CS   32   3.2        Old    Old"
      ]
     },
     "execution_count": 43,
     "metadata": {},
     "output_type": "execute_result"
    }
   ],
   "source": [
    "frame"
   ]
  },
  {
   "cell_type": "code",
   "execution_count": 44,
   "id": "8e6ef286",
   "metadata": {},
   "outputs": [
    {
     "data": {
      "text/html": [
       "<div>\n",
       "<style scoped>\n",
       "    .dataframe tbody tr th:only-of-type {\n",
       "        vertical-align: middle;\n",
       "    }\n",
       "\n",
       "    .dataframe tbody tr th {\n",
       "        vertical-align: top;\n",
       "    }\n",
       "\n",
       "    .dataframe thead th {\n",
       "        text-align: right;\n",
       "    }\n",
       "</style>\n",
       "<table border=\"1\" class=\"dataframe\">\n",
       "  <thead>\n",
       "    <tr style=\"text-align: right;\">\n",
       "      <th></th>\n",
       "      <th>Names</th>\n",
       "      <th>Degree</th>\n",
       "      <th>Age</th>\n",
       "      <th>CGPA</th>\n",
       "      <th>Age_Status</th>\n",
       "    </tr>\n",
       "  </thead>\n",
       "  <tbody>\n",
       "    <tr>\n",
       "      <th>0</th>\n",
       "      <td>Faizan</td>\n",
       "      <td>CS</td>\n",
       "      <td>20</td>\n",
       "      <td>3.4</td>\n",
       "      <td>Young</td>\n",
       "    </tr>\n",
       "    <tr>\n",
       "      <th>1</th>\n",
       "      <td>Ali</td>\n",
       "      <td>IT</td>\n",
       "      <td>24</td>\n",
       "      <td>3.9</td>\n",
       "      <td>Young</td>\n",
       "    </tr>\n",
       "    <tr>\n",
       "      <th>2</th>\n",
       "      <td>Hisham</td>\n",
       "      <td>CS</td>\n",
       "      <td>32</td>\n",
       "      <td>3.2</td>\n",
       "      <td>Old</td>\n",
       "    </tr>\n",
       "  </tbody>\n",
       "</table>\n",
       "</div>"
      ],
      "text/plain": [
       "    Names Degree  Age  CGPA Age_Status\n",
       "0  Faizan     CS   20   3.4      Young\n",
       "1     Ali     IT   24   3.9      Young\n",
       "2  Hisham     CS   32   3.2        Old"
      ]
     },
     "execution_count": 44,
     "metadata": {},
     "output_type": "execute_result"
    }
   ],
   "source": [
    "frame.drop(['status'], axis = 1)  # where axis =1 means column"
   ]
  },
  {
   "cell_type": "markdown",
   "id": "750fb656",
   "metadata": {},
   "source": [
    "## employee example:\n"
   ]
  },
  {
   "cell_type": "code",
   "execution_count": 47,
   "id": "bf680616",
   "metadata": {},
   "outputs": [],
   "source": [
    "employee = pd.DataFrame({\n",
    "    'Name' : [\"faizan\", \"ahmed\", \"ali\"],\n",
    "    \"salary\": [2000,6000,5000]\n",
    "})\n"
   ]
  },
  {
   "cell_type": "code",
   "execution_count": 48,
   "id": "7b978c93",
   "metadata": {},
   "outputs": [
    {
     "data": {
      "text/html": [
       "<div>\n",
       "<style scoped>\n",
       "    .dataframe tbody tr th:only-of-type {\n",
       "        vertical-align: middle;\n",
       "    }\n",
       "\n",
       "    .dataframe tbody tr th {\n",
       "        vertical-align: top;\n",
       "    }\n",
       "\n",
       "    .dataframe thead th {\n",
       "        text-align: right;\n",
       "    }\n",
       "</style>\n",
       "<table border=\"1\" class=\"dataframe\">\n",
       "  <thead>\n",
       "    <tr style=\"text-align: right;\">\n",
       "      <th></th>\n",
       "      <th>Name</th>\n",
       "      <th>salary</th>\n",
       "    </tr>\n",
       "  </thead>\n",
       "  <tbody>\n",
       "    <tr>\n",
       "      <th>0</th>\n",
       "      <td>faizan</td>\n",
       "      <td>2000</td>\n",
       "    </tr>\n",
       "    <tr>\n",
       "      <th>1</th>\n",
       "      <td>ahmed</td>\n",
       "      <td>6000</td>\n",
       "    </tr>\n",
       "    <tr>\n",
       "      <th>2</th>\n",
       "      <td>ali</td>\n",
       "      <td>5000</td>\n",
       "    </tr>\n",
       "  </tbody>\n",
       "</table>\n",
       "</div>"
      ],
      "text/plain": [
       "     Name  salary\n",
       "0  faizan    2000\n",
       "1   ahmed    6000\n",
       "2     ali    5000"
      ]
     },
     "execution_count": 48,
     "metadata": {},
     "output_type": "execute_result"
    }
   ],
   "source": [
    "employee"
   ]
  },
  {
   "cell_type": "code",
   "execution_count": 50,
   "id": "577d408a",
   "metadata": {},
   "outputs": [
    {
     "data": {
      "text/plain": [
       "0    50\n",
       "1    20\n",
       "2    20\n",
       "Name: salary, dtype: int64"
      ]
     },
     "execution_count": 50,
     "metadata": {},
     "output_type": "execute_result"
    }
   ],
   "source": [
    "employee['salary'].apply(lambda salary: 50 if salary<=2000 else 20)"
   ]
  },
  {
   "cell_type": "code",
   "execution_count": 51,
   "id": "6a4ad9c0",
   "metadata": {},
   "outputs": [],
   "source": [
    "employee[\"Increment percentage\"] =\\\n",
    "employee['salary'].apply(lambda salary: 50 if salary<=2000 else 20)"
   ]
  },
  {
   "cell_type": "code",
   "execution_count": 52,
   "id": "34df76c4",
   "metadata": {},
   "outputs": [
    {
     "data": {
      "text/html": [
       "<div>\n",
       "<style scoped>\n",
       "    .dataframe tbody tr th:only-of-type {\n",
       "        vertical-align: middle;\n",
       "    }\n",
       "\n",
       "    .dataframe tbody tr th {\n",
       "        vertical-align: top;\n",
       "    }\n",
       "\n",
       "    .dataframe thead th {\n",
       "        text-align: right;\n",
       "    }\n",
       "</style>\n",
       "<table border=\"1\" class=\"dataframe\">\n",
       "  <thead>\n",
       "    <tr style=\"text-align: right;\">\n",
       "      <th></th>\n",
       "      <th>Name</th>\n",
       "      <th>salary</th>\n",
       "      <th>Increment percentage</th>\n",
       "    </tr>\n",
       "  </thead>\n",
       "  <tbody>\n",
       "    <tr>\n",
       "      <th>0</th>\n",
       "      <td>faizan</td>\n",
       "      <td>2000</td>\n",
       "      <td>50</td>\n",
       "    </tr>\n",
       "    <tr>\n",
       "      <th>1</th>\n",
       "      <td>ahmed</td>\n",
       "      <td>6000</td>\n",
       "      <td>20</td>\n",
       "    </tr>\n",
       "    <tr>\n",
       "      <th>2</th>\n",
       "      <td>ali</td>\n",
       "      <td>5000</td>\n",
       "      <td>20</td>\n",
       "    </tr>\n",
       "  </tbody>\n",
       "</table>\n",
       "</div>"
      ],
      "text/plain": [
       "     Name  salary  Increment percentage\n",
       "0  faizan    2000                    50\n",
       "1   ahmed    6000                    20\n",
       "2     ali    5000                    20"
      ]
     },
     "execution_count": 52,
     "metadata": {},
     "output_type": "execute_result"
    }
   ],
   "source": [
    "employee"
   ]
  },
  {
   "cell_type": "markdown",
   "id": "904c4901",
   "metadata": {},
   "source": [
    "# function of numpy can be used on pandas too...."
   ]
  },
  {
   "cell_type": "code",
   "execution_count": 54,
   "id": "fd757019",
   "metadata": {},
   "outputs": [],
   "source": [
    "import numpy as np"
   ]
  },
  {
   "cell_type": "code",
   "execution_count": 55,
   "id": "f4adeabe",
   "metadata": {},
   "outputs": [
    {
     "data": {
      "text/plain": [
       "0    2000\n",
       "1    6000\n",
       "2    5000\n",
       "Name: salary, dtype: int64"
      ]
     },
     "execution_count": 55,
     "metadata": {},
     "output_type": "execute_result"
    }
   ],
   "source": [
    "np.abs(employee[\"salary\"])"
   ]
  },
  {
   "cell_type": "code",
   "execution_count": 56,
   "id": "d683070c",
   "metadata": {},
   "outputs": [
    {
     "data": {
      "text/plain": [
       "4333.333333333333"
      ]
     },
     "execution_count": 56,
     "metadata": {},
     "output_type": "execute_result"
    }
   ],
   "source": [
    "np.mean(employee[\"salary\"])"
   ]
  },
  {
   "cell_type": "markdown",
   "id": "cbfef8c3",
   "metadata": {},
   "source": [
    "# Assignment: apply numpy functions on dataFrame:"
   ]
  },
  {
   "cell_type": "code",
   "execution_count": null,
   "id": "e6ec8475",
   "metadata": {},
   "outputs": [],
   "source": []
  }
 ],
 "metadata": {
  "kernelspec": {
   "display_name": "Python 3 (ipykernel)",
   "language": "python",
   "name": "python3"
  },
  "language_info": {
   "codemirror_mode": {
    "name": "ipython",
    "version": 3
   },
   "file_extension": ".py",
   "mimetype": "text/x-python",
   "name": "python",
   "nbconvert_exporter": "python",
   "pygments_lexer": "ipython3",
   "version": "3.9.12"
  }
 },
 "nbformat": 4,
 "nbformat_minor": 5
}
