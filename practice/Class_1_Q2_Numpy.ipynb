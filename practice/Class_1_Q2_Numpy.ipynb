{
 "cells": [
  {
   "cell_type": "markdown",
   "id": "d87fcf00",
   "metadata": {},
   "source": [
    "# Quater 2: Class_1"
   ]
  },
  {
   "cell_type": "markdown",
   "id": "8db9fc68",
   "metadata": {},
   "source": [
    "## NUMPY:\n",
    "* `Numerical python`\n",
    "* used for numerical computations using arrays\n",
    "* ndarray - an n-dimensional array \n",
    "* Linear Algebric operartions\n",
    "* "
   ]
  },
  {
   "cell_type": "markdown",
   "id": "22f14b86",
   "metadata": {},
   "source": [
    "### Difference between an Array & List in python:\n",
    "   * Array:\n",
    "       * Faster\n",
    "       * Contiguous memory Allocation\n",
    "       * `Support vertorized operations`\n",
    "       * Store same data type \n",
    "       * If you want to increase the size of array, recreate the array\n",
    "       * It is easy to traverse through an array as all elements are stored in same location in memory\n",
    "       \n",
    "   * List:\n",
    "       * Slower\n",
    "       * Non contiguous memory Allocation (Sparse memory Allocation)\n",
    "       * Store different data types\n",
    "       * List has Dynamic size, it can grow \n",
    "       * Items are stored in different locations in memory and the list has to remember address of each item.\n",
    "       * It is difficult to traverse through a list as elements might be stored at different locations in memory.\n",
    "       "
   ]
  },
  {
   "cell_type": "markdown",
   "id": "1a3fa477",
   "metadata": {},
   "source": [
    "# A comparison of Array Vs. List in Python:"
   ]
  },
  {
   "cell_type": "markdown",
   "id": "cffe5ea3",
   "metadata": {},
   "source": [
    "`%time` is used to find the total time taken to execute operation in a cell.\n",
    "\n",
    "`wall time = Execution time`"
   ]
  },
  {
   "cell_type": "code",
   "execution_count": 9,
   "id": "a0d31d91",
   "metadata": {},
   "outputs": [],
   "source": [
    "import numpy as np"
   ]
  },
  {
   "cell_type": "code",
   "execution_count": 13,
   "id": "5f890ce2",
   "metadata": {},
   "outputs": [
    {
     "name": "stdout",
     "output_type": "stream",
     "text": [
      "range(0, 1000000)\n"
     ]
    }
   ],
   "source": [
    "list1 = range(1000000) # starts from 1\n",
    "print(list1)"
   ]
  },
  {
   "cell_type": "code",
   "execution_count": 14,
   "id": "91a51fce",
   "metadata": {},
   "outputs": [
    {
     "name": "stdout",
     "output_type": "stream",
     "text": [
      "[     0      1      2 ... 999997 999998 999999]\n"
     ]
    }
   ],
   "source": [
    "array1 = np.arange(1000000) # starts from 0\n",
    "print(array1)"
   ]
  },
  {
   "cell_type": "markdown",
   "id": "e0d5db79",
   "metadata": {},
   "source": [
    "# --> multiply list1 with 5:"
   ]
  },
  {
   "cell_type": "code",
   "execution_count": 18,
   "id": "d30a85c7",
   "metadata": {},
   "outputs": [
    {
     "name": "stderr",
     "output_type": "stream",
     "text": [
      "IOPub data rate exceeded.\n",
      "The notebook server will temporarily stop sending output\n",
      "to the client in order to avoid crashing it.\n",
      "To change this limit, set the config variable\n",
      "`--NotebookApp.iopub_data_rate_limit`.\n",
      "\n",
      "Current values:\n",
      "NotebookApp.iopub_data_rate_limit=1000000.0 (bytes/sec)\n",
      "NotebookApp.rate_limit_window=3.0 (secs)\n",
      "\n"
     ]
    }
   ],
   "source": [
    "results= []\n",
    "for i in list1:\n",
    "     results.append(i*5)\n",
    "    \n",
    "print(results)"
   ]
  },
  {
   "cell_type": "markdown",
   "id": "376c2c07",
   "metadata": {},
   "source": [
    "# list comprehension:"
   ]
  },
  {
   "cell_type": "code",
   "execution_count": 19,
   "id": "188606c5",
   "metadata": {},
   "outputs": [
    {
     "data": {
      "text/plain": [
       "[0,\n",
       " 5,\n",
       " 10,\n",
       " 15,\n",
       " 20,\n",
       " 25,\n",
       " 30,\n",
       " 35,\n",
       " 40,\n",
       " 45,\n",
       " 50,\n",
       " 55,\n",
       " 60,\n",
       " 65,\n",
       " 70,\n",
       " 75,\n",
       " 80,\n",
       " 85,\n",
       " 90,\n",
       " 95,\n",
       " 100,\n",
       " 105,\n",
       " 110,\n",
       " 115,\n",
       " 120,\n",
       " 125,\n",
       " 130,\n",
       " 135,\n",
       " 140,\n",
       " 145,\n",
       " 150,\n",
       " 155,\n",
       " 160,\n",
       " 165,\n",
       " 170,\n",
       " 175,\n",
       " 180,\n",
       " 185,\n",
       " 190,\n",
       " 195,\n",
       " 200,\n",
       " 205,\n",
       " 210,\n",
       " 215,\n",
       " 220,\n",
       " 225,\n",
       " 230,\n",
       " 235,\n",
       " 240,\n",
       " 245,\n",
       " 250,\n",
       " 255,\n",
       " 260,\n",
       " 265,\n",
       " 270,\n",
       " 275,\n",
       " 280,\n",
       " 285,\n",
       " 290,\n",
       " 295,\n",
       " 300,\n",
       " 305,\n",
       " 310,\n",
       " 315,\n",
       " 320,\n",
       " 325,\n",
       " 330,\n",
       " 335,\n",
       " 340,\n",
       " 345,\n",
       " 350,\n",
       " 355,\n",
       " 360,\n",
       " 365,\n",
       " 370,\n",
       " 375,\n",
       " 380,\n",
       " 385,\n",
       " 390,\n",
       " 395,\n",
       " 400,\n",
       " 405,\n",
       " 410,\n",
       " 415,\n",
       " 420,\n",
       " 425,\n",
       " 430,\n",
       " 435,\n",
       " 440,\n",
       " 445,\n",
       " 450,\n",
       " 455,\n",
       " 460,\n",
       " 465,\n",
       " 470,\n",
       " 475,\n",
       " 480,\n",
       " 485,\n",
       " 490,\n",
       " 495,\n",
       " 500,\n",
       " 505,\n",
       " 510,\n",
       " 515,\n",
       " 520,\n",
       " 525,\n",
       " 530,\n",
       " 535,\n",
       " 540,\n",
       " 545,\n",
       " 550,\n",
       " 555,\n",
       " 560,\n",
       " 565,\n",
       " 570,\n",
       " 575,\n",
       " 580,\n",
       " 585,\n",
       " 590,\n",
       " 595,\n",
       " 600,\n",
       " 605,\n",
       " 610,\n",
       " 615,\n",
       " 620,\n",
       " 625,\n",
       " 630,\n",
       " 635,\n",
       " 640,\n",
       " 645,\n",
       " 650,\n",
       " 655,\n",
       " 660,\n",
       " 665,\n",
       " 670,\n",
       " 675,\n",
       " 680,\n",
       " 685,\n",
       " 690,\n",
       " 695,\n",
       " 700,\n",
       " 705,\n",
       " 710,\n",
       " 715,\n",
       " 720,\n",
       " 725,\n",
       " 730,\n",
       " 735,\n",
       " 740,\n",
       " 745,\n",
       " 750,\n",
       " 755,\n",
       " 760,\n",
       " 765,\n",
       " 770,\n",
       " 775,\n",
       " 780,\n",
       " 785,\n",
       " 790,\n",
       " 795,\n",
       " 800,\n",
       " 805,\n",
       " 810,\n",
       " 815,\n",
       " 820,\n",
       " 825,\n",
       " 830,\n",
       " 835,\n",
       " 840,\n",
       " 845,\n",
       " 850,\n",
       " 855,\n",
       " 860,\n",
       " 865,\n",
       " 870,\n",
       " 875,\n",
       " 880,\n",
       " 885,\n",
       " 890,\n",
       " 895,\n",
       " 900,\n",
       " 905,\n",
       " 910,\n",
       " 915,\n",
       " 920,\n",
       " 925,\n",
       " 930,\n",
       " 935,\n",
       " 940,\n",
       " 945,\n",
       " 950,\n",
       " 955,\n",
       " 960,\n",
       " 965,\n",
       " 970,\n",
       " 975,\n",
       " 980,\n",
       " 985,\n",
       " 990,\n",
       " 995,\n",
       " 1000,\n",
       " 1005,\n",
       " 1010,\n",
       " 1015,\n",
       " 1020,\n",
       " 1025,\n",
       " 1030,\n",
       " 1035,\n",
       " 1040,\n",
       " 1045,\n",
       " 1050,\n",
       " 1055,\n",
       " 1060,\n",
       " 1065,\n",
       " 1070,\n",
       " 1075,\n",
       " 1080,\n",
       " 1085,\n",
       " 1090,\n",
       " 1095,\n",
       " 1100,\n",
       " 1105,\n",
       " 1110,\n",
       " 1115,\n",
       " 1120,\n",
       " 1125,\n",
       " 1130,\n",
       " 1135,\n",
       " 1140,\n",
       " 1145,\n",
       " 1150,\n",
       " 1155,\n",
       " 1160,\n",
       " 1165,\n",
       " 1170,\n",
       " 1175,\n",
       " 1180,\n",
       " 1185,\n",
       " 1190,\n",
       " 1195,\n",
       " 1200,\n",
       " 1205,\n",
       " 1210,\n",
       " 1215,\n",
       " 1220,\n",
       " 1225,\n",
       " 1230,\n",
       " 1235,\n",
       " 1240,\n",
       " 1245,\n",
       " 1250,\n",
       " 1255,\n",
       " 1260,\n",
       " 1265,\n",
       " 1270,\n",
       " 1275,\n",
       " 1280,\n",
       " 1285,\n",
       " 1290,\n",
       " 1295,\n",
       " 1300,\n",
       " 1305,\n",
       " 1310,\n",
       " 1315,\n",
       " 1320,\n",
       " 1325,\n",
       " 1330,\n",
       " 1335,\n",
       " 1340,\n",
       " 1345,\n",
       " 1350,\n",
       " 1355,\n",
       " 1360,\n",
       " 1365,\n",
       " 1370,\n",
       " 1375,\n",
       " 1380,\n",
       " 1385,\n",
       " 1390,\n",
       " 1395,\n",
       " 1400,\n",
       " 1405,\n",
       " 1410,\n",
       " 1415,\n",
       " 1420,\n",
       " 1425,\n",
       " 1430,\n",
       " 1435,\n",
       " 1440,\n",
       " 1445,\n",
       " 1450,\n",
       " 1455,\n",
       " 1460,\n",
       " 1465,\n",
       " 1470,\n",
       " 1475,\n",
       " 1480,\n",
       " 1485,\n",
       " 1490,\n",
       " 1495,\n",
       " 1500,\n",
       " 1505,\n",
       " 1510,\n",
       " 1515,\n",
       " 1520,\n",
       " 1525,\n",
       " 1530,\n",
       " 1535,\n",
       " 1540,\n",
       " 1545,\n",
       " 1550,\n",
       " 1555,\n",
       " 1560,\n",
       " 1565,\n",
       " 1570,\n",
       " 1575,\n",
       " 1580,\n",
       " 1585,\n",
       " 1590,\n",
       " 1595,\n",
       " 1600,\n",
       " 1605,\n",
       " 1610,\n",
       " 1615,\n",
       " 1620,\n",
       " 1625,\n",
       " 1630,\n",
       " 1635,\n",
       " 1640,\n",
       " 1645,\n",
       " 1650,\n",
       " 1655,\n",
       " 1660,\n",
       " 1665,\n",
       " 1670,\n",
       " 1675,\n",
       " 1680,\n",
       " 1685,\n",
       " 1690,\n",
       " 1695,\n",
       " 1700,\n",
       " 1705,\n",
       " 1710,\n",
       " 1715,\n",
       " 1720,\n",
       " 1725,\n",
       " 1730,\n",
       " 1735,\n",
       " 1740,\n",
       " 1745,\n",
       " 1750,\n",
       " 1755,\n",
       " 1760,\n",
       " 1765,\n",
       " 1770,\n",
       " 1775,\n",
       " 1780,\n",
       " 1785,\n",
       " 1790,\n",
       " 1795,\n",
       " 1800,\n",
       " 1805,\n",
       " 1810,\n",
       " 1815,\n",
       " 1820,\n",
       " 1825,\n",
       " 1830,\n",
       " 1835,\n",
       " 1840,\n",
       " 1845,\n",
       " 1850,\n",
       " 1855,\n",
       " 1860,\n",
       " 1865,\n",
       " 1870,\n",
       " 1875,\n",
       " 1880,\n",
       " 1885,\n",
       " 1890,\n",
       " 1895,\n",
       " 1900,\n",
       " 1905,\n",
       " 1910,\n",
       " 1915,\n",
       " 1920,\n",
       " 1925,\n",
       " 1930,\n",
       " 1935,\n",
       " 1940,\n",
       " 1945,\n",
       " 1950,\n",
       " 1955,\n",
       " 1960,\n",
       " 1965,\n",
       " 1970,\n",
       " 1975,\n",
       " 1980,\n",
       " 1985,\n",
       " 1990,\n",
       " 1995,\n",
       " 2000,\n",
       " 2005,\n",
       " 2010,\n",
       " 2015,\n",
       " 2020,\n",
       " 2025,\n",
       " 2030,\n",
       " 2035,\n",
       " 2040,\n",
       " 2045,\n",
       " 2050,\n",
       " 2055,\n",
       " 2060,\n",
       " 2065,\n",
       " 2070,\n",
       " 2075,\n",
       " 2080,\n",
       " 2085,\n",
       " 2090,\n",
       " 2095,\n",
       " 2100,\n",
       " 2105,\n",
       " 2110,\n",
       " 2115,\n",
       " 2120,\n",
       " 2125,\n",
       " 2130,\n",
       " 2135,\n",
       " 2140,\n",
       " 2145,\n",
       " 2150,\n",
       " 2155,\n",
       " 2160,\n",
       " 2165,\n",
       " 2170,\n",
       " 2175,\n",
       " 2180,\n",
       " 2185,\n",
       " 2190,\n",
       " 2195,\n",
       " 2200,\n",
       " 2205,\n",
       " 2210,\n",
       " 2215,\n",
       " 2220,\n",
       " 2225,\n",
       " 2230,\n",
       " 2235,\n",
       " 2240,\n",
       " 2245,\n",
       " 2250,\n",
       " 2255,\n",
       " 2260,\n",
       " 2265,\n",
       " 2270,\n",
       " 2275,\n",
       " 2280,\n",
       " 2285,\n",
       " 2290,\n",
       " 2295,\n",
       " 2300,\n",
       " 2305,\n",
       " 2310,\n",
       " 2315,\n",
       " 2320,\n",
       " 2325,\n",
       " 2330,\n",
       " 2335,\n",
       " 2340,\n",
       " 2345,\n",
       " 2350,\n",
       " 2355,\n",
       " 2360,\n",
       " 2365,\n",
       " 2370,\n",
       " 2375,\n",
       " 2380,\n",
       " 2385,\n",
       " 2390,\n",
       " 2395,\n",
       " 2400,\n",
       " 2405,\n",
       " 2410,\n",
       " 2415,\n",
       " 2420,\n",
       " 2425,\n",
       " 2430,\n",
       " 2435,\n",
       " 2440,\n",
       " 2445,\n",
       " 2450,\n",
       " 2455,\n",
       " 2460,\n",
       " 2465,\n",
       " 2470,\n",
       " 2475,\n",
       " 2480,\n",
       " 2485,\n",
       " 2490,\n",
       " 2495,\n",
       " 2500,\n",
       " 2505,\n",
       " 2510,\n",
       " 2515,\n",
       " 2520,\n",
       " 2525,\n",
       " 2530,\n",
       " 2535,\n",
       " 2540,\n",
       " 2545,\n",
       " 2550,\n",
       " 2555,\n",
       " 2560,\n",
       " 2565,\n",
       " 2570,\n",
       " 2575,\n",
       " 2580,\n",
       " 2585,\n",
       " 2590,\n",
       " 2595,\n",
       " 2600,\n",
       " 2605,\n",
       " 2610,\n",
       " 2615,\n",
       " 2620,\n",
       " 2625,\n",
       " 2630,\n",
       " 2635,\n",
       " 2640,\n",
       " 2645,\n",
       " 2650,\n",
       " 2655,\n",
       " 2660,\n",
       " 2665,\n",
       " 2670,\n",
       " 2675,\n",
       " 2680,\n",
       " 2685,\n",
       " 2690,\n",
       " 2695,\n",
       " 2700,\n",
       " 2705,\n",
       " 2710,\n",
       " 2715,\n",
       " 2720,\n",
       " 2725,\n",
       " 2730,\n",
       " 2735,\n",
       " 2740,\n",
       " 2745,\n",
       " 2750,\n",
       " 2755,\n",
       " 2760,\n",
       " 2765,\n",
       " 2770,\n",
       " 2775,\n",
       " 2780,\n",
       " 2785,\n",
       " 2790,\n",
       " 2795,\n",
       " 2800,\n",
       " 2805,\n",
       " 2810,\n",
       " 2815,\n",
       " 2820,\n",
       " 2825,\n",
       " 2830,\n",
       " 2835,\n",
       " 2840,\n",
       " 2845,\n",
       " 2850,\n",
       " 2855,\n",
       " 2860,\n",
       " 2865,\n",
       " 2870,\n",
       " 2875,\n",
       " 2880,\n",
       " 2885,\n",
       " 2890,\n",
       " 2895,\n",
       " 2900,\n",
       " 2905,\n",
       " 2910,\n",
       " 2915,\n",
       " 2920,\n",
       " 2925,\n",
       " 2930,\n",
       " 2935,\n",
       " 2940,\n",
       " 2945,\n",
       " 2950,\n",
       " 2955,\n",
       " 2960,\n",
       " 2965,\n",
       " 2970,\n",
       " 2975,\n",
       " 2980,\n",
       " 2985,\n",
       " 2990,\n",
       " 2995,\n",
       " 3000,\n",
       " 3005,\n",
       " 3010,\n",
       " 3015,\n",
       " 3020,\n",
       " 3025,\n",
       " 3030,\n",
       " 3035,\n",
       " 3040,\n",
       " 3045,\n",
       " 3050,\n",
       " 3055,\n",
       " 3060,\n",
       " 3065,\n",
       " 3070,\n",
       " 3075,\n",
       " 3080,\n",
       " 3085,\n",
       " 3090,\n",
       " 3095,\n",
       " 3100,\n",
       " 3105,\n",
       " 3110,\n",
       " 3115,\n",
       " 3120,\n",
       " 3125,\n",
       " 3130,\n",
       " 3135,\n",
       " 3140,\n",
       " 3145,\n",
       " 3150,\n",
       " 3155,\n",
       " 3160,\n",
       " 3165,\n",
       " 3170,\n",
       " 3175,\n",
       " 3180,\n",
       " 3185,\n",
       " 3190,\n",
       " 3195,\n",
       " 3200,\n",
       " 3205,\n",
       " 3210,\n",
       " 3215,\n",
       " 3220,\n",
       " 3225,\n",
       " 3230,\n",
       " 3235,\n",
       " 3240,\n",
       " 3245,\n",
       " 3250,\n",
       " 3255,\n",
       " 3260,\n",
       " 3265,\n",
       " 3270,\n",
       " 3275,\n",
       " 3280,\n",
       " 3285,\n",
       " 3290,\n",
       " 3295,\n",
       " 3300,\n",
       " 3305,\n",
       " 3310,\n",
       " 3315,\n",
       " 3320,\n",
       " 3325,\n",
       " 3330,\n",
       " 3335,\n",
       " 3340,\n",
       " 3345,\n",
       " 3350,\n",
       " 3355,\n",
       " 3360,\n",
       " 3365,\n",
       " 3370,\n",
       " 3375,\n",
       " 3380,\n",
       " 3385,\n",
       " 3390,\n",
       " 3395,\n",
       " 3400,\n",
       " 3405,\n",
       " 3410,\n",
       " 3415,\n",
       " 3420,\n",
       " 3425,\n",
       " 3430,\n",
       " 3435,\n",
       " 3440,\n",
       " 3445,\n",
       " 3450,\n",
       " 3455,\n",
       " 3460,\n",
       " 3465,\n",
       " 3470,\n",
       " 3475,\n",
       " 3480,\n",
       " 3485,\n",
       " 3490,\n",
       " 3495,\n",
       " 3500,\n",
       " 3505,\n",
       " 3510,\n",
       " 3515,\n",
       " 3520,\n",
       " 3525,\n",
       " 3530,\n",
       " 3535,\n",
       " 3540,\n",
       " 3545,\n",
       " 3550,\n",
       " 3555,\n",
       " 3560,\n",
       " 3565,\n",
       " 3570,\n",
       " 3575,\n",
       " 3580,\n",
       " 3585,\n",
       " 3590,\n",
       " 3595,\n",
       " 3600,\n",
       " 3605,\n",
       " 3610,\n",
       " 3615,\n",
       " 3620,\n",
       " 3625,\n",
       " 3630,\n",
       " 3635,\n",
       " 3640,\n",
       " 3645,\n",
       " 3650,\n",
       " 3655,\n",
       " 3660,\n",
       " 3665,\n",
       " 3670,\n",
       " 3675,\n",
       " 3680,\n",
       " 3685,\n",
       " 3690,\n",
       " 3695,\n",
       " 3700,\n",
       " 3705,\n",
       " 3710,\n",
       " 3715,\n",
       " 3720,\n",
       " 3725,\n",
       " 3730,\n",
       " 3735,\n",
       " 3740,\n",
       " 3745,\n",
       " 3750,\n",
       " 3755,\n",
       " 3760,\n",
       " 3765,\n",
       " 3770,\n",
       " 3775,\n",
       " 3780,\n",
       " 3785,\n",
       " 3790,\n",
       " 3795,\n",
       " 3800,\n",
       " 3805,\n",
       " 3810,\n",
       " 3815,\n",
       " 3820,\n",
       " 3825,\n",
       " 3830,\n",
       " 3835,\n",
       " 3840,\n",
       " 3845,\n",
       " 3850,\n",
       " 3855,\n",
       " 3860,\n",
       " 3865,\n",
       " 3870,\n",
       " 3875,\n",
       " 3880,\n",
       " 3885,\n",
       " 3890,\n",
       " 3895,\n",
       " 3900,\n",
       " 3905,\n",
       " 3910,\n",
       " 3915,\n",
       " 3920,\n",
       " 3925,\n",
       " 3930,\n",
       " 3935,\n",
       " 3940,\n",
       " 3945,\n",
       " 3950,\n",
       " 3955,\n",
       " 3960,\n",
       " 3965,\n",
       " 3970,\n",
       " 3975,\n",
       " 3980,\n",
       " 3985,\n",
       " 3990,\n",
       " 3995,\n",
       " 4000,\n",
       " 4005,\n",
       " 4010,\n",
       " 4015,\n",
       " 4020,\n",
       " 4025,\n",
       " 4030,\n",
       " 4035,\n",
       " 4040,\n",
       " 4045,\n",
       " 4050,\n",
       " 4055,\n",
       " 4060,\n",
       " 4065,\n",
       " 4070,\n",
       " 4075,\n",
       " 4080,\n",
       " 4085,\n",
       " 4090,\n",
       " 4095,\n",
       " 4100,\n",
       " 4105,\n",
       " 4110,\n",
       " 4115,\n",
       " 4120,\n",
       " 4125,\n",
       " 4130,\n",
       " 4135,\n",
       " 4140,\n",
       " 4145,\n",
       " 4150,\n",
       " 4155,\n",
       " 4160,\n",
       " 4165,\n",
       " 4170,\n",
       " 4175,\n",
       " 4180,\n",
       " 4185,\n",
       " 4190,\n",
       " 4195,\n",
       " 4200,\n",
       " 4205,\n",
       " 4210,\n",
       " 4215,\n",
       " 4220,\n",
       " 4225,\n",
       " 4230,\n",
       " 4235,\n",
       " 4240,\n",
       " 4245,\n",
       " 4250,\n",
       " 4255,\n",
       " 4260,\n",
       " 4265,\n",
       " 4270,\n",
       " 4275,\n",
       " 4280,\n",
       " 4285,\n",
       " 4290,\n",
       " 4295,\n",
       " 4300,\n",
       " 4305,\n",
       " 4310,\n",
       " 4315,\n",
       " 4320,\n",
       " 4325,\n",
       " 4330,\n",
       " 4335,\n",
       " 4340,\n",
       " 4345,\n",
       " 4350,\n",
       " 4355,\n",
       " 4360,\n",
       " 4365,\n",
       " 4370,\n",
       " 4375,\n",
       " 4380,\n",
       " 4385,\n",
       " 4390,\n",
       " 4395,\n",
       " 4400,\n",
       " 4405,\n",
       " 4410,\n",
       " 4415,\n",
       " 4420,\n",
       " 4425,\n",
       " 4430,\n",
       " 4435,\n",
       " 4440,\n",
       " 4445,\n",
       " 4450,\n",
       " 4455,\n",
       " 4460,\n",
       " 4465,\n",
       " 4470,\n",
       " 4475,\n",
       " 4480,\n",
       " 4485,\n",
       " 4490,\n",
       " 4495,\n",
       " 4500,\n",
       " 4505,\n",
       " 4510,\n",
       " 4515,\n",
       " 4520,\n",
       " 4525,\n",
       " 4530,\n",
       " 4535,\n",
       " 4540,\n",
       " 4545,\n",
       " 4550,\n",
       " 4555,\n",
       " 4560,\n",
       " 4565,\n",
       " 4570,\n",
       " 4575,\n",
       " 4580,\n",
       " 4585,\n",
       " 4590,\n",
       " 4595,\n",
       " 4600,\n",
       " 4605,\n",
       " 4610,\n",
       " 4615,\n",
       " 4620,\n",
       " 4625,\n",
       " 4630,\n",
       " 4635,\n",
       " 4640,\n",
       " 4645,\n",
       " 4650,\n",
       " 4655,\n",
       " 4660,\n",
       " 4665,\n",
       " 4670,\n",
       " 4675,\n",
       " 4680,\n",
       " 4685,\n",
       " 4690,\n",
       " 4695,\n",
       " 4700,\n",
       " 4705,\n",
       " 4710,\n",
       " 4715,\n",
       " 4720,\n",
       " 4725,\n",
       " 4730,\n",
       " 4735,\n",
       " 4740,\n",
       " 4745,\n",
       " 4750,\n",
       " 4755,\n",
       " 4760,\n",
       " 4765,\n",
       " 4770,\n",
       " 4775,\n",
       " 4780,\n",
       " 4785,\n",
       " 4790,\n",
       " 4795,\n",
       " 4800,\n",
       " 4805,\n",
       " 4810,\n",
       " 4815,\n",
       " 4820,\n",
       " 4825,\n",
       " 4830,\n",
       " 4835,\n",
       " 4840,\n",
       " 4845,\n",
       " 4850,\n",
       " 4855,\n",
       " 4860,\n",
       " 4865,\n",
       " 4870,\n",
       " 4875,\n",
       " 4880,\n",
       " 4885,\n",
       " 4890,\n",
       " 4895,\n",
       " 4900,\n",
       " 4905,\n",
       " 4910,\n",
       " 4915,\n",
       " 4920,\n",
       " 4925,\n",
       " 4930,\n",
       " 4935,\n",
       " 4940,\n",
       " 4945,\n",
       " 4950,\n",
       " 4955,\n",
       " 4960,\n",
       " 4965,\n",
       " 4970,\n",
       " 4975,\n",
       " 4980,\n",
       " 4985,\n",
       " 4990,\n",
       " 4995,\n",
       " ...]"
      ]
     },
     "execution_count": 19,
     "metadata": {},
     "output_type": "execute_result"
    }
   ],
   "source": [
    "results = [i * 5 for i in list1] ; results\n"
   ]
  },
  {
   "cell_type": "markdown",
   "id": "cf15b043",
   "metadata": {},
   "source": [
    "##  Time comparison in lists"
   ]
  },
  {
   "cell_type": "code",
   "execution_count": null,
   "id": "50e784da",
   "metadata": {
    "scrolled": true
   },
   "outputs": [],
   "source": [
    "%time for i in range(100): results=  [i * 5 for i in list1]"
   ]
  },
  {
   "cell_type": "markdown",
   "id": "b646a034",
   "metadata": {},
   "source": [
    "# --> multiply array1 with 5:"
   ]
  },
  {
   "cell_type": "code",
   "execution_count": 20,
   "id": "011f3318",
   "metadata": {},
   "outputs": [
    {
     "data": {
      "text/plain": [
       "array([      0,       5,      10, ..., 4999985, 4999990, 4999995])"
      ]
     },
     "execution_count": 20,
     "metadata": {},
     "output_type": "execute_result"
    }
   ],
   "source": [
    "array1 * 5 "
   ]
  },
  {
   "cell_type": "code",
   "execution_count": 21,
   "id": "5106a98c",
   "metadata": {},
   "outputs": [
    {
     "name": "stdout",
     "output_type": "stream",
     "text": [
      "CPU times: total: 0 ns\n",
      "Wall time: 1.99 ms\n"
     ]
    },
    {
     "data": {
      "text/plain": [
       "array([      0,       5,      10, ..., 4999985, 4999990, 4999995])"
      ]
     },
     "execution_count": 21,
     "metadata": {},
     "output_type": "execute_result"
    }
   ],
   "source": [
    "%time array1* 5"
   ]
  },
  {
   "cell_type": "markdown",
   "id": "1ef32bb4",
   "metadata": {},
   "source": [
    "##  Time comparison in arrays"
   ]
  },
  {
   "cell_type": "code",
   "execution_count": 24,
   "id": "3ca733c9",
   "metadata": {},
   "outputs": [
    {
     "name": "stdout",
     "output_type": "stream",
     "text": [
      "CPU times: total: 281 ms\n",
      "Wall time: 270 ms\n"
     ]
    }
   ],
   "source": [
    "%time for i in range(100): result = array1 * 5 "
   ]
  },
  {
   "cell_type": "code",
   "execution_count": 25,
   "id": "693309aa",
   "metadata": {},
   "outputs": [
    {
     "name": "stdout",
     "output_type": "stream",
     "text": [
      "[      0       5      10 ... 4999985 4999990 4999995]\n"
     ]
    }
   ],
   "source": [
    "print(result)"
   ]
  },
  {
   "cell_type": "markdown",
   "id": "2311c067",
   "metadata": {},
   "source": [
    "### So, we can see that list is slower than array"
   ]
  },
  {
   "cell_type": "markdown",
   "id": "9d7b8851",
   "metadata": {},
   "source": [
    "# Numpy array creation methods:\n",
    "* np.array()\n",
    "* np.zeros()\n",
    "* np.ones()\n",
    "* np.empty()\n",
    "* np.arange()"
   ]
  },
  {
   "cell_type": "markdown",
   "id": "27b901b5",
   "metadata": {},
   "source": [
    "### 1-D Array (One Dimensional array)"
   ]
  },
  {
   "cell_type": "code",
   "execution_count": 26,
   "id": "acad4061",
   "metadata": {},
   "outputs": [
    {
     "data": {
      "text/plain": [
       "array([0., 0., 0., 0., 0., 0., 0., 0., 0., 0.])"
      ]
     },
     "execution_count": 26,
     "metadata": {},
     "output_type": "execute_result"
    }
   ],
   "source": [
    "my_array = np.zeros((10))\n",
    "my_array"
   ]
  },
  {
   "cell_type": "code",
   "execution_count": 27,
   "id": "c28e237b",
   "metadata": {},
   "outputs": [
    {
     "data": {
      "text/plain": [
       "array([1., 1., 1., 1., 1., 1., 1., 1., 1., 1., 1., 1., 1., 1., 1.])"
      ]
     },
     "execution_count": 27,
     "metadata": {},
     "output_type": "execute_result"
    }
   ],
   "source": [
    "my_array1 = np.ones((15))\n",
    "my_array1 "
   ]
  },
  {
   "cell_type": "markdown",
   "id": "c924bf7a",
   "metadata": {},
   "source": [
    "### we can now make array of any number using np.zeros & np.ones array as:"
   ]
  },
  {
   "cell_type": "markdown",
   "id": "2660d97d",
   "metadata": {},
   "source": [
    "## ==> by using np.zeros()"
   ]
  },
  {
   "cell_type": "markdown",
   "id": "f1144979",
   "metadata": {},
   "source": [
    "* to make array of 2"
   ]
  },
  {
   "cell_type": "code",
   "execution_count": 28,
   "id": "0bb92e82",
   "metadata": {},
   "outputs": [
    {
     "data": {
      "text/plain": [
       "array([2., 2., 2., 2., 2., 2., 2., 2., 2., 2.])"
      ]
     },
     "execution_count": 28,
     "metadata": {},
     "output_type": "execute_result"
    }
   ],
   "source": [
    "x = np.zeros((10))\n",
    "x = x + 2\n",
    "x"
   ]
  },
  {
   "cell_type": "markdown",
   "id": "b5ac987c",
   "metadata": {},
   "source": [
    "### OR:"
   ]
  },
  {
   "cell_type": "code",
   "execution_count": 29,
   "id": "9e393fd7",
   "metadata": {},
   "outputs": [
    {
     "data": {
      "text/plain": [
       "array([2., 2., 2., 2., 2., 2., 2., 2., 2., 2.])"
      ]
     },
     "execution_count": 29,
     "metadata": {},
     "output_type": "execute_result"
    }
   ],
   "source": [
    "x = np.zeros((10)) + 2\n",
    "x"
   ]
  },
  {
   "cell_type": "markdown",
   "id": "172507a5",
   "metadata": {},
   "source": [
    "* to make array of 8:"
   ]
  },
  {
   "cell_type": "code",
   "execution_count": 30,
   "id": "850d70e0",
   "metadata": {},
   "outputs": [
    {
     "data": {
      "text/plain": [
       "array([8., 8., 8., 8., 8., 8., 8., 8., 8., 8.])"
      ]
     },
     "execution_count": 30,
     "metadata": {},
     "output_type": "execute_result"
    }
   ],
   "source": [
    "x = np.zeros((10)) + 8\n",
    "x"
   ]
  },
  {
   "cell_type": "markdown",
   "id": "f1d91904",
   "metadata": {},
   "source": [
    "## ==> by using np.ones()"
   ]
  },
  {
   "cell_type": "code",
   "execution_count": 31,
   "id": "f1622da4",
   "metadata": {},
   "outputs": [
    {
     "data": {
      "text/plain": [
       "array([2., 2., 2., 2., 2., 2., 2., 2., 2., 2.])"
      ]
     },
     "execution_count": 31,
     "metadata": {},
     "output_type": "execute_result"
    }
   ],
   "source": [
    "y = np.ones(10) \n",
    "y = y + 1\n",
    "y"
   ]
  },
  {
   "cell_type": "markdown",
   "id": "43b41d71",
   "metadata": {},
   "source": [
    "### OR"
   ]
  },
  {
   "cell_type": "code",
   "execution_count": 32,
   "id": "56d64d17",
   "metadata": {},
   "outputs": [
    {
     "data": {
      "text/plain": [
       "array([2., 2., 2., 2., 2., 2., 2., 2., 2., 2.])"
      ]
     },
     "execution_count": 32,
     "metadata": {},
     "output_type": "execute_result"
    }
   ],
   "source": [
    "y = np.ones(10) + 1\n",
    "y"
   ]
  },
  {
   "cell_type": "markdown",
   "id": "ba21284e",
   "metadata": {},
   "source": [
    "# shape of an array:\n",
    "* 1D = np.zeros(n)\n",
    "* 2D = np.zeros((each_row,each_column))\n",
    "* 3D = np.zeros((depth,each_row,each_column))"
   ]
  },
  {
   "cell_type": "code",
   "execution_count": 33,
   "id": "0c0c8ee9",
   "metadata": {},
   "outputs": [
    {
     "data": {
      "text/plain": [
       "array([0., 0., 0., 0., 0., 0., 0., 0., 0., 0., 0., 0., 0., 0., 0., 0., 0.,\n",
       "       0., 0., 0., 0., 0., 0., 0., 0., 0., 0., 0., 0., 0., 0., 0., 0., 0.,\n",
       "       0., 0., 0., 0., 0., 0., 0., 0., 0., 0., 0., 0., 0., 0., 0., 0.])"
      ]
     },
     "execution_count": 33,
     "metadata": {},
     "output_type": "execute_result"
    }
   ],
   "source": [
    "a = np.zeros(50)\n",
    "a"
   ]
  },
  {
   "cell_type": "code",
   "execution_count": 34,
   "id": "136618c9",
   "metadata": {},
   "outputs": [
    {
     "data": {
      "text/plain": [
       "array([[0., 0., 0., 0., 0., 0.],\n",
       "       [0., 0., 0., 0., 0., 0.],\n",
       "       [0., 0., 0., 0., 0., 0.],\n",
       "       [0., 0., 0., 0., 0., 0.],\n",
       "       [0., 0., 0., 0., 0., 0.],\n",
       "       [0., 0., 0., 0., 0., 0.],\n",
       "       [0., 0., 0., 0., 0., 0.],\n",
       "       [0., 0., 0., 0., 0., 0.],\n",
       "       [0., 0., 0., 0., 0., 0.],\n",
       "       [0., 0., 0., 0., 0., 0.]])"
      ]
     },
     "execution_count": 34,
     "metadata": {},
     "output_type": "execute_result"
    }
   ],
   "source": [
    "b = np.zeros((10,6))\n",
    "b"
   ]
  },
  {
   "cell_type": "code",
   "execution_count": 35,
   "id": "335f2137",
   "metadata": {},
   "outputs": [
    {
     "data": {
      "text/plain": [
       "array([[[0., 0., 0., 0., 0., 0.],\n",
       "        [0., 0., 0., 0., 0., 0.]],\n",
       "\n",
       "       [[0., 0., 0., 0., 0., 0.],\n",
       "        [0., 0., 0., 0., 0., 0.]],\n",
       "\n",
       "       [[0., 0., 0., 0., 0., 0.],\n",
       "        [0., 0., 0., 0., 0., 0.]]])"
      ]
     },
     "execution_count": 35,
     "metadata": {},
     "output_type": "execute_result"
    }
   ],
   "source": [
    "c = np.zeros((3,2,6))\n",
    "c"
   ]
  },
  {
   "cell_type": "markdown",
   "id": "303df73e",
   "metadata": {},
   "source": [
    "### To find the shape of the array: \n",
    "`.shape`"
   ]
  },
  {
   "cell_type": "code",
   "execution_count": 36,
   "id": "aa004ac7",
   "metadata": {},
   "outputs": [
    {
     "data": {
      "text/plain": [
       "(3, 2, 6)"
      ]
     },
     "execution_count": 36,
     "metadata": {},
     "output_type": "execute_result"
    }
   ],
   "source": [
    "c.shape"
   ]
  },
  {
   "cell_type": "markdown",
   "id": "08ba6fe8",
   "metadata": {},
   "source": [
    "# Empty array: `np.empty(( ))`"
   ]
  },
  {
   "cell_type": "code",
   "execution_count": 161,
   "id": "bdad0edc",
   "metadata": {},
   "outputs": [
    {
     "data": {
      "text/plain": [
       "array([[0.00000000e+000, 0.00000000e+000, 0.00000000e+000,\n",
       "        6.95187281e-310, 1.63041663e-322, 1.17378282e-311,\n",
       "        1.17379703e-311, 1.17373741e-311, 1.17377982e-311],\n",
       "       [0.00000000e+000, 1.17377081e-311, 0.00000000e+000,\n",
       "        0.00000000e+000, 1.17373741e-311, 0.00000000e+000,\n",
       "        4.24399159e-314, 1.08646184e-311, 4.32887141e-312],\n",
       "       [1.17346367e-311, 1.17373741e-311, 1.17373741e-311,\n",
       "        1.17373741e-311, 1.17373741e-311, 1.17373741e-311,\n",
       "        1.17373741e-311, 1.17373730e-311, 1.17373741e-311],\n",
       "       [1.17373741e-311, 1.17373741e-311, 1.17373741e-311,\n",
       "        1.17373741e-311, 1.17373726e-311, 1.17373741e-311,\n",
       "        1.17373741e-311, 1.17373741e-311, 1.17373741e-311],\n",
       "       [1.17373741e-311, 1.17373741e-311, 1.17373741e-311,\n",
       "        1.17373741e-311, 1.17373741e-311, 1.17373741e-311,\n",
       "        1.17373737e-311, 1.17373741e-311, 1.17373738e-311],\n",
       "       [1.17373741e-311, 1.17373736e-311, 6.95187282e-310,\n",
       "        1.17380244e-311, 1.17380988e-311, 0.00000000e+000,\n",
       "        0.00000000e+000, 6.95187281e-310, 6.95187281e-310],\n",
       "       [1.17377974e-311, 6.95187282e-310, 1.17377980e-311,\n",
       "        1.17373726e-311, 6.95187281e-310, 6.95187281e-310,\n",
       "        1.17374407e-311, 0.00000000e+000, 0.00000000e+000],\n",
       "       [0.00000000e+000, 0.00000000e+000, 0.00000000e+000,\n",
       "        0.00000000e+000, 0.00000000e+000, 0.00000000e+000,\n",
       "        0.00000000e+000, 0.00000000e+000, 0.00000000e+000],\n",
       "       [1.17380750e-311, 1.17374020e-311, 1.17381990e-311,\n",
       "        6.95187282e-310, 1.17373735e-311, 1.17380763e-311,\n",
       "        6.95187281e-310, 6.95187281e-310, 1.69273959e-139]])"
      ]
     },
     "execution_count": 161,
     "metadata": {},
     "output_type": "execute_result"
    }
   ],
   "source": [
    "empty_arr = np.empty((9,9))\n",
    "empty_arr"
   ]
  },
  {
   "cell_type": "code",
   "execution_count": 37,
   "id": "07c1baa9",
   "metadata": {},
   "outputs": [
    {
     "data": {
      "text/plain": [
       "array([], dtype=float64)"
      ]
     },
     "execution_count": 37,
     "metadata": {},
     "output_type": "execute_result"
    }
   ],
   "source": [
    "e = np.empty(0)\n",
    "e"
   ]
  },
  {
   "cell_type": "markdown",
   "id": "6169185a",
   "metadata": {},
   "source": [
    "# we can't add elements at runtime in arrays"
   ]
  },
  {
   "cell_type": "markdown",
   "id": "993ca22b",
   "metadata": {},
   "source": [
    "# Attributes of Numpy array:"
   ]
  },
  {
   "cell_type": "markdown",
   "id": "d405bc83",
   "metadata": {},
   "source": [
    "* `shape` : a tuple indicating the size of each dimension\n",
    "* `dtype` : data type of the array\n",
    "* `ndim`  : number of dimensions of the array"
   ]
  },
  {
   "cell_type": "markdown",
   "id": "976cb8ff",
   "metadata": {},
   "source": [
    "### Array of custom elements:"
   ]
  },
  {
   "cell_type": "code",
   "execution_count": 38,
   "id": "e07578c5",
   "metadata": {},
   "outputs": [
    {
     "data": {
      "text/plain": [
       "array([ 1,  3, 54, 67, 98, 34, 23, 70])"
      ]
     },
     "execution_count": 38,
     "metadata": {},
     "output_type": "execute_result"
    }
   ],
   "source": [
    "arr = np.array([1,3,54,67,98,34,23,70])\n",
    "arr"
   ]
  },
  {
   "cell_type": "code",
   "execution_count": 39,
   "id": "2c3a3090",
   "metadata": {},
   "outputs": [
    {
     "data": {
      "text/plain": [
       "(8,)"
      ]
     },
     "execution_count": 39,
     "metadata": {},
     "output_type": "execute_result"
    }
   ],
   "source": [
    "arr.shape"
   ]
  },
  {
   "cell_type": "code",
   "execution_count": 40,
   "id": "48b4a3f4",
   "metadata": {},
   "outputs": [
    {
     "data": {
      "text/plain": [
       "1"
      ]
     },
     "execution_count": 40,
     "metadata": {},
     "output_type": "execute_result"
    }
   ],
   "source": [
    "arr.ndim"
   ]
  },
  {
   "cell_type": "code",
   "execution_count": 41,
   "id": "f9391eaa",
   "metadata": {},
   "outputs": [],
   "source": [
    "arr = arr.reshape(4,2)"
   ]
  },
  {
   "cell_type": "code",
   "execution_count": 42,
   "id": "6668e2e5",
   "metadata": {},
   "outputs": [
    {
     "data": {
      "text/plain": [
       "(4, 2)"
      ]
     },
     "execution_count": 42,
     "metadata": {},
     "output_type": "execute_result"
    }
   ],
   "source": [
    "arr.shape"
   ]
  },
  {
   "cell_type": "code",
   "execution_count": 43,
   "id": "dd4f29f4",
   "metadata": {},
   "outputs": [
    {
     "data": {
      "text/plain": [
       "array([[ 1,  3],\n",
       "       [54, 67],\n",
       "       [98, 34],\n",
       "       [23, 70]])"
      ]
     },
     "execution_count": 43,
     "metadata": {},
     "output_type": "execute_result"
    }
   ],
   "source": [
    "arr"
   ]
  },
  {
   "cell_type": "code",
   "execution_count": 44,
   "id": "0982a563",
   "metadata": {},
   "outputs": [
    {
     "data": {
      "text/plain": [
       "2"
      ]
     },
     "execution_count": 44,
     "metadata": {},
     "output_type": "execute_result"
    }
   ],
   "source": [
    "arr.ndim"
   ]
  },
  {
   "cell_type": "code",
   "execution_count": 45,
   "id": "63b0cf39",
   "metadata": {},
   "outputs": [
    {
     "data": {
      "text/plain": [
       "dtype('int32')"
      ]
     },
     "execution_count": 45,
     "metadata": {},
     "output_type": "execute_result"
    }
   ],
   "source": [
    "arr.dtype"
   ]
  },
  {
   "cell_type": "markdown",
   "id": "7ca26d2d",
   "metadata": {},
   "source": [
    "# accessing indivisual elements of an array:"
   ]
  },
  {
   "cell_type": "code",
   "execution_count": 46,
   "id": "5d920fc7",
   "metadata": {},
   "outputs": [
    {
     "data": {
      "text/plain": [
       "array([[ 1,  3],\n",
       "       [54, 67],\n",
       "       [98, 34],\n",
       "       [23, 70]])"
      ]
     },
     "execution_count": 46,
     "metadata": {},
     "output_type": "execute_result"
    }
   ],
   "source": [
    " arr"
   ]
  },
  {
   "cell_type": "code",
   "execution_count": 47,
   "id": "5ee5a9ce",
   "metadata": {},
   "outputs": [
    {
     "data": {
      "text/plain": [
       "34"
      ]
     },
     "execution_count": 47,
     "metadata": {},
     "output_type": "execute_result"
    }
   ],
   "source": [
    "#34\n",
    "arr[2,1]"
   ]
  },
  {
   "cell_type": "code",
   "execution_count": 48,
   "id": "b018577c",
   "metadata": {},
   "outputs": [
    {
     "data": {
      "text/plain": [
       "23"
      ]
     },
     "execution_count": 48,
     "metadata": {},
     "output_type": "execute_result"
    }
   ],
   "source": [
    "#23\n",
    "arr[3,0]"
   ]
  },
  {
   "cell_type": "code",
   "execution_count": 49,
   "id": "82fa8686",
   "metadata": {},
   "outputs": [
    {
     "data": {
      "text/plain": [
       "67"
      ]
     },
     "execution_count": 49,
     "metadata": {},
     "output_type": "execute_result"
    }
   ],
   "source": [
    "#67\n",
    "arr[1,1]"
   ]
  },
  {
   "cell_type": "code",
   "execution_count": 50,
   "id": "137e6c43",
   "metadata": {},
   "outputs": [
    {
     "data": {
      "text/plain": [
       "2"
      ]
     },
     "execution_count": 50,
     "metadata": {},
     "output_type": "execute_result"
    }
   ],
   "source": [
    "arr.ndim"
   ]
  },
  {
   "cell_type": "markdown",
   "id": "31931002",
   "metadata": {},
   "source": [
    "### reshape arr into 3D array & practice how to access indivisual elements of an array:"
   ]
  },
  {
   "cell_type": "code",
   "execution_count": 51,
   "id": "78dd28be",
   "metadata": {},
   "outputs": [
    {
     "data": {
      "text/plain": [
       "array([[[ 1,  3],\n",
       "        [54, 67]],\n",
       "\n",
       "       [[98, 34],\n",
       "        [23, 70]]])"
      ]
     },
     "execution_count": 51,
     "metadata": {},
     "output_type": "execute_result"
    }
   ],
   "source": [
    "arr.reshape((2,2,2))"
   ]
  },
  {
   "cell_type": "markdown",
   "id": "e23b4742",
   "metadata": {},
   "source": [
    "# Slicing:\n",
    "* start (included)\n",
    "* end   (excluded)\n",
    "* step  (sequence, gap)"
   ]
  },
  {
   "cell_type": "code",
   "execution_count": 52,
   "id": "bddbb525",
   "metadata": {},
   "outputs": [
    {
     "data": {
      "text/plain": [
       "(4, 2)"
      ]
     },
     "execution_count": 52,
     "metadata": {},
     "output_type": "execute_result"
    }
   ],
   "source": [
    "arr.shape"
   ]
  },
  {
   "cell_type": "code",
   "execution_count": 53,
   "id": "19429c8e",
   "metadata": {},
   "outputs": [
    {
     "data": {
      "text/plain": [
       "array([[ 1,  3],\n",
       "       [54, 67],\n",
       "       [98, 34],\n",
       "       [23, 70]])"
      ]
     },
     "execution_count": 53,
     "metadata": {},
     "output_type": "execute_result"
    }
   ],
   "source": [
    "arr\n"
   ]
  },
  {
   "cell_type": "code",
   "execution_count": 54,
   "id": "8f598d87",
   "metadata": {},
   "outputs": [
    {
     "data": {
      "text/plain": [
       "array([[ 1,  3],\n",
       "       [54, 67],\n",
       "       [98, 34]])"
      ]
     },
     "execution_count": 54,
     "metadata": {},
     "output_type": "execute_result"
    }
   ],
   "source": [
    "arr[0:3]"
   ]
  },
  {
   "cell_type": "markdown",
   "id": "bc3bb580",
   "metadata": {},
   "source": [
    " ## we can use slicing & indexing.."
   ]
  },
  {
   "cell_type": "code",
   "execution_count": 55,
   "id": "262d36aa",
   "metadata": {},
   "outputs": [
    {
     "data": {
      "text/plain": [
       "array([[ 1,  3],\n",
       "       [54, 67],\n",
       "       [98, 34],\n",
       "       [23, 70]])"
      ]
     },
     "execution_count": 55,
     "metadata": {},
     "output_type": "execute_result"
    }
   ],
   "source": [
    "arr"
   ]
  },
  {
   "cell_type": "code",
   "execution_count": 56,
   "id": "ab50bdcf",
   "metadata": {},
   "outputs": [
    {
     "data": {
      "text/plain": [
       "array([ 1, 54, 98, 23])"
      ]
     },
     "execution_count": 56,
     "metadata": {},
     "output_type": "execute_result"
    }
   ],
   "source": [
    "arr[0:4,0] # starting from row 0 to row 3 as end is excluded & 0th indexed column of the slicing!"
   ]
  },
  {
   "cell_type": "code",
   "execution_count": 57,
   "id": "cc5a729d",
   "metadata": {},
   "outputs": [
    {
     "data": {
      "text/plain": [
       "array([ 3, 67, 34])"
      ]
     },
     "execution_count": 57,
     "metadata": {},
     "output_type": "execute_result"
    }
   ],
   "source": [
    " arr[0:3,1] # starting from row 0 to row 2 as end is excluded & 1st indexed column of the slicing!"
   ]
  },
  {
   "cell_type": "code",
   "execution_count": 58,
   "id": "3290bd48",
   "metadata": {},
   "outputs": [
    {
     "data": {
      "text/plain": [
       "array([[ 1,  3],\n",
       "       [54, 67],\n",
       "       [98, 34],\n",
       "       [23, 70]])"
      ]
     },
     "execution_count": 58,
     "metadata": {},
     "output_type": "execute_result"
    }
   ],
   "source": [
    "arr"
   ]
  },
  {
   "cell_type": "markdown",
   "id": "a8e1e8b7",
   "metadata": {},
   "source": [
    "## Indexing in 3D array:"
   ]
  },
  {
   "cell_type": "code",
   "execution_count": 68,
   "id": "5ad71a18",
   "metadata": {
    "scrolled": true
   },
   "outputs": [
    {
     "data": {
      "text/plain": [
       "array([[[ 1,  3],\n",
       "        [54, 67]],\n",
       "\n",
       "       [[98, 34],\n",
       "        [23, 70]]])"
      ]
     },
     "execution_count": 68,
     "metadata": {},
     "output_type": "execute_result"
    }
   ],
   "source": [
    "arr.reshape(2,2,2)"
   ]
  },
  {
   "cell_type": "code",
   "execution_count": 71,
   "id": "c9640b48",
   "metadata": {},
   "outputs": [
    {
     "data": {
      "text/plain": [
       "array([[ 1,  3],\n",
       "       [54, 67],\n",
       "       [98, 34],\n",
       "       [23, 70]])"
      ]
     },
     "execution_count": 71,
     "metadata": {},
     "output_type": "execute_result"
    }
   ],
   "source": [
    "arr[0:4]"
   ]
  },
  {
   "cell_type": "code",
   "execution_count": 72,
   "id": "0f91e7d7",
   "metadata": {},
   "outputs": [
    {
     "data": {
      "text/plain": [
       "array([[ 1,  3],\n",
       "       [54, 67]])"
      ]
     },
     "execution_count": 72,
     "metadata": {},
     "output_type": "execute_result"
    }
   ],
   "source": [
    "arr[0:2]"
   ]
  },
  {
   "cell_type": "code",
   "execution_count": 73,
   "id": "418527f4",
   "metadata": {},
   "outputs": [
    {
     "data": {
      "text/plain": [
       "3"
      ]
     },
     "execution_count": 73,
     "metadata": {},
     "output_type": "execute_result"
    }
   ],
   "source": [
    "#3\n",
    "arr[0,1]"
   ]
  },
  {
   "cell_type": "code",
   "execution_count": 75,
   "id": "f3819fc7",
   "metadata": {},
   "outputs": [
    {
     "data": {
      "text/plain": [
       "98"
      ]
     },
     "execution_count": 75,
     "metadata": {},
     "output_type": "execute_result"
    }
   ],
   "source": [
    "#98\n",
    "arr[2,0]"
   ]
  },
  {
   "cell_type": "code",
   "execution_count": 76,
   "id": "d20aa054",
   "metadata": {},
   "outputs": [
    {
     "data": {
      "text/plain": [
       "70"
      ]
     },
     "execution_count": 76,
     "metadata": {},
     "output_type": "execute_result"
    }
   ],
   "source": [
    "#70\n",
    "arr[3,1]"
   ]
  },
  {
   "cell_type": "code",
   "execution_count": 77,
   "id": "03b84526",
   "metadata": {},
   "outputs": [
    {
     "data": {
      "text/plain": [
       "67"
      ]
     },
     "execution_count": 77,
     "metadata": {},
     "output_type": "execute_result"
    }
   ],
   "source": [
    "#67\n",
    "arr[1,1]"
   ]
  },
  {
   "cell_type": "markdown",
   "id": "bff82d5e",
   "metadata": {},
   "source": [
    "# Row Wise:"
   ]
  },
  {
   "cell_type": "code",
   "execution_count": 59,
   "id": "9da49044",
   "metadata": {},
   "outputs": [
    {
     "data": {
      "text/plain": [
       "array([[ 1,  3],\n",
       "       [98, 34]])"
      ]
     },
     "execution_count": 59,
     "metadata": {},
     "output_type": "execute_result"
    }
   ],
   "source": [
    "arr[::2] # (Row wise) step size is 2 so 0th and 2nd row will be displayed"
   ]
  },
  {
   "cell_type": "markdown",
   "id": "419c1fd3",
   "metadata": {},
   "source": [
    "# Column wise:"
   ]
  },
  {
   "cell_type": "code",
   "execution_count": 1,
   "id": "0f6df1f7",
   "metadata": {},
   "outputs": [
    {
     "ename": "NameError",
     "evalue": "name 'arr' is not defined",
     "output_type": "error",
     "traceback": [
      "\u001b[1;31m---------------------------------------------------------------------------\u001b[0m",
      "\u001b[1;31mNameError\u001b[0m                                 Traceback (most recent call last)",
      "Input \u001b[1;32mIn [1]\u001b[0m, in \u001b[0;36m<cell line: 1>\u001b[1;34m()\u001b[0m\n\u001b[1;32m----> 1\u001b[0m \u001b[43marr\u001b[49m[::\u001b[38;5;241m2\u001b[39m,\u001b[38;5;241m1\u001b[39m]\n",
      "\u001b[1;31mNameError\u001b[0m: name 'arr' is not defined"
     ]
    }
   ],
   "source": [
    "arr[::2,1] # (Column wise) step size is 2 so 0th and 2nd row will be displayed"
   ]
  },
  {
   "cell_type": "markdown",
   "id": "f4512c89",
   "metadata": {},
   "source": [
    "# fancy indexing:\n",
    "* only pass the index number of the required values as `array[ [i1,i2,i3...in] ]` where i = index number\n",
    "* array[ [required indexes] ]"
   ]
  },
  {
   "cell_type": "code",
   "execution_count": 61,
   "id": "546261eb",
   "metadata": {},
   "outputs": [
    {
     "data": {
      "text/plain": [
       "2"
      ]
     },
     "execution_count": 61,
     "metadata": {},
     "output_type": "execute_result"
    }
   ],
   "source": [
    "arr.ndim"
   ]
  },
  {
   "cell_type": "code",
   "execution_count": 62,
   "id": "83d27a33",
   "metadata": {},
   "outputs": [
    {
     "data": {
      "text/plain": [
       "array([[ 1,  3],\n",
       "       [54, 67],\n",
       "       [98, 34],\n",
       "       [23, 70]])"
      ]
     },
     "execution_count": 62,
     "metadata": {},
     "output_type": "execute_result"
    }
   ],
   "source": [
    "arr  # arr is 2D array"
   ]
  },
  {
   "cell_type": "code",
   "execution_count": 63,
   "id": "b378e726",
   "metadata": {},
   "outputs": [],
   "source": [
    "j =arr.reshape(8) # converting into 1D array"
   ]
  },
  {
   "cell_type": "code",
   "execution_count": 64,
   "id": "0937d0f5",
   "metadata": {},
   "outputs": [
    {
     "data": {
      "text/plain": [
       "array([ 1,  3, 54, 67, 98, 34, 23, 70])"
      ]
     },
     "execution_count": 64,
     "metadata": {},
     "output_type": "execute_result"
    }
   ],
   "source": [
    "j"
   ]
  },
  {
   "cell_type": "code",
   "execution_count": 65,
   "id": "669af8cb",
   "metadata": {},
   "outputs": [
    {
     "data": {
      "text/plain": [
       "array([54, 98, 34, 70])"
      ]
     },
     "execution_count": 65,
     "metadata": {},
     "output_type": "execute_result"
    }
   ],
   "source": [
    "j[[2,4,5,7]]"
   ]
  },
  {
   "cell_type": "code",
   "execution_count": 66,
   "id": "dc8d564a",
   "metadata": {},
   "outputs": [
    {
     "data": {
      "text/plain": [
       "array([[ 1,  3],\n",
       "       [54, 67],\n",
       "       [98, 34],\n",
       "       [23, 70]])"
      ]
     },
     "execution_count": 66,
     "metadata": {},
     "output_type": "execute_result"
    }
   ],
   "source": [
    "arr"
   ]
  },
  {
   "cell_type": "code",
   "execution_count": 78,
   "id": "e8190a7b",
   "metadata": {},
   "outputs": [
    {
     "data": {
      "text/plain": [
       "array([ 1, 54, 98, 23])"
      ]
     },
     "execution_count": 78,
     "metadata": {},
     "output_type": "execute_result"
    }
   ],
   "source": [
    "arr[::,0]"
   ]
  },
  {
   "cell_type": "code",
   "execution_count": 79,
   "id": "e1d5b8cb",
   "metadata": {},
   "outputs": [
    {
     "data": {
      "text/plain": [
       "array([ 3, 67, 34, 70])"
      ]
     },
     "execution_count": 79,
     "metadata": {},
     "output_type": "execute_result"
    }
   ],
   "source": [
    "arr[::,1]"
   ]
  },
  {
   "cell_type": "markdown",
   "id": "1298b0f8",
   "metadata": {},
   "source": [
    "# fancy indexing:\n",
    "* only pass the index number of the required values as `array[ [i1,i2,i3...in] ]` where i = index number"
   ]
  },
  {
   "cell_type": "code",
   "execution_count": 82,
   "id": "c153f35d",
   "metadata": {},
   "outputs": [
    {
     "data": {
      "text/plain": [
       "2"
      ]
     },
     "execution_count": 82,
     "metadata": {},
     "output_type": "execute_result"
    }
   ],
   "source": [
    "arr.ndim\n"
   ]
  },
  {
   "cell_type": "code",
   "execution_count": 83,
   "id": "e9e5d720",
   "metadata": {},
   "outputs": [
    {
     "data": {
      "text/plain": [
       "array([ 1,  3, 54, 67, 98, 34, 23, 70])"
      ]
     },
     "execution_count": 83,
     "metadata": {},
     "output_type": "execute_result"
    }
   ],
   "source": [
    "arr.reshape(8)"
   ]
  },
  {
   "cell_type": "code",
   "execution_count": 87,
   "id": "d200bbbd",
   "metadata": {},
   "outputs": [
    {
     "data": {
      "text/plain": [
       "2"
      ]
     },
     "execution_count": 87,
     "metadata": {},
     "output_type": "execute_result"
    }
   ],
   "source": [
    "arr.ndim"
   ]
  },
  {
   "cell_type": "code",
   "execution_count": 101,
   "id": "a2ad871b",
   "metadata": {},
   "outputs": [],
   "source": [
    "k =arr.reshape(8)"
   ]
  },
  {
   "cell_type": "code",
   "execution_count": 102,
   "id": "b7c77336",
   "metadata": {
    "scrolled": true
   },
   "outputs": [
    {
     "data": {
      "text/plain": [
       "1"
      ]
     },
     "execution_count": 102,
     "metadata": {},
     "output_type": "execute_result"
    }
   ],
   "source": [
    "k.ndim"
   ]
  },
  {
   "cell_type": "code",
   "execution_count": 103,
   "id": "3bb5139c",
   "metadata": {},
   "outputs": [
    {
     "data": {
      "text/plain": [
       "(8,)"
      ]
     },
     "execution_count": 103,
     "metadata": {},
     "output_type": "execute_result"
    }
   ],
   "source": [
    "k.shape"
   ]
  },
  {
   "cell_type": "code",
   "execution_count": 104,
   "id": "2fb9bc7e",
   "metadata": {},
   "outputs": [
    {
     "data": {
      "text/plain": [
       "array([98, 70])"
      ]
     },
     "execution_count": 104,
     "metadata": {},
     "output_type": "execute_result"
    }
   ],
   "source": [
    "# 98 70\n",
    "k[[4,7]]"
   ]
  },
  {
   "cell_type": "code",
   "execution_count": 106,
   "id": "19aab79c",
   "metadata": {},
   "outputs": [
    {
     "data": {
      "text/plain": [
       "array([ 3, 67, 34, 23])"
      ]
     },
     "execution_count": 106,
     "metadata": {},
     "output_type": "execute_result"
    }
   ],
   "source": [
    "# 3 67 34 23 \n",
    "\n",
    "k[[1,3,5,6]]"
   ]
  },
  {
   "cell_type": "markdown",
   "id": "8dc771b6",
   "metadata": {},
   "source": [
    "# Vectorized operations:"
   ]
  },
  {
   "cell_type": "markdown",
   "id": "92f921c9",
   "metadata": {},
   "source": [
    "* to create a custom array: `np.array([comma sperated elements])` \n",
    "* ALL the operations will be performed element wise\n",
    "* it is much more faster in numpy arrays as compared to list operations"
   ]
  },
  {
   "cell_type": "code",
   "execution_count": 110,
   "id": "34ff1af4",
   "metadata": {},
   "outputs": [],
   "source": [
    "x = np.array([1,7,3])\n",
    "y = np.array([5,2,8])"
   ]
  },
  {
   "cell_type": "code",
   "execution_count": 111,
   "id": "6dbc0762",
   "metadata": {},
   "outputs": [
    {
     "data": {
      "text/plain": [
       "array([ 6,  9, 11])"
      ]
     },
     "execution_count": 111,
     "metadata": {},
     "output_type": "execute_result"
    }
   ],
   "source": [
    "x + y"
   ]
  },
  {
   "cell_type": "code",
   "execution_count": 112,
   "id": "71f1fdb4",
   "metadata": {},
   "outputs": [
    {
     "data": {
      "text/plain": [
       "array([-4,  5, -5])"
      ]
     },
     "execution_count": 112,
     "metadata": {},
     "output_type": "execute_result"
    }
   ],
   "source": [
    "x - y"
   ]
  },
  {
   "cell_type": "code",
   "execution_count": 113,
   "id": "db8b9716",
   "metadata": {},
   "outputs": [
    {
     "data": {
      "text/plain": [
       "array([ 5, 14, 24])"
      ]
     },
     "execution_count": 113,
     "metadata": {},
     "output_type": "execute_result"
    }
   ],
   "source": [
    "x * y"
   ]
  },
  {
   "cell_type": "code",
   "execution_count": 114,
   "id": "079bd798",
   "metadata": {},
   "outputs": [
    {
     "data": {
      "text/plain": [
       "array([0.2  , 3.5  , 0.375])"
      ]
     },
     "execution_count": 114,
     "metadata": {},
     "output_type": "execute_result"
    }
   ],
   "source": [
    "x / y"
   ]
  },
  {
   "cell_type": "code",
   "execution_count": 115,
   "id": "ebd465ee",
   "metadata": {},
   "outputs": [
    {
     "data": {
      "text/plain": [
       "array([1.        , 0.14285714, 0.33333333])"
      ]
     },
     "execution_count": 115,
     "metadata": {},
     "output_type": "execute_result"
    }
   ],
   "source": [
    "1/x\n"
   ]
  },
  {
   "cell_type": "code",
   "execution_count": 116,
   "id": "b9f8be5f",
   "metadata": {},
   "outputs": [
    {
     "data": {
      "text/plain": [
       "array([0.2  , 0.5  , 0.125])"
      ]
     },
     "execution_count": 116,
     "metadata": {},
     "output_type": "execute_result"
    }
   ],
   "source": [
    "1/y"
   ]
  },
  {
   "cell_type": "code",
   "execution_count": 118,
   "id": "c638802f",
   "metadata": {},
   "outputs": [
    {
     "data": {
      "text/plain": [
       "array([ 5, 14, 24])"
      ]
     },
     "execution_count": 118,
     "metadata": {},
     "output_type": "execute_result"
    }
   ],
   "source": [
    "x * y"
   ]
  },
  {
   "cell_type": "code",
   "execution_count": 117,
   "id": "ea4fa0be",
   "metadata": {
    "scrolled": true
   },
   "outputs": [
    {
     "data": {
      "text/plain": [
       "array([ 25,  28, 192])"
      ]
     },
     "execution_count": 117,
     "metadata": {},
     "output_type": "execute_result"
    }
   ],
   "source": [
    "x*y**2"
   ]
  },
  {
   "cell_type": "markdown",
   "id": "8bfc597e",
   "metadata": {},
   "source": [
    "# Shapes:"
   ]
  },
  {
   "cell_type": "markdown",
   "id": "619edff7",
   "metadata": {},
   "source": [
    "###### 00000\n",
    "###### 11111\n",
    "###### 11111\n",
    "###### 11111\n",
    "###### 00000"
   ]
  },
  {
   "cell_type": "code",
   "execution_count": 119,
   "id": "31bc4c47",
   "metadata": {},
   "outputs": [
    {
     "data": {
      "text/plain": [
       "array([[1., 1., 1., 1., 1.],\n",
       "       [1., 1., 1., 1., 1.],\n",
       "       [1., 1., 1., 1., 1.],\n",
       "       [1., 1., 1., 1., 1.],\n",
       "       [1., 1., 1., 1., 1.]])"
      ]
     },
     "execution_count": 119,
     "metadata": {},
     "output_type": "execute_result"
    }
   ],
   "source": [
    "a = np.ones((5,5))\n",
    "a"
   ]
  },
  {
   "cell_type": "code",
   "execution_count": 124,
   "id": "f270dd77",
   "metadata": {},
   "outputs": [],
   "source": [
    "a[0]= 0\n",
    "a[-1]= 0 "
   ]
  },
  {
   "cell_type": "code",
   "execution_count": 125,
   "id": "9420778e",
   "metadata": {},
   "outputs": [
    {
     "data": {
      "text/plain": [
       "array([[0., 0., 0., 0., 0.],\n",
       "       [1., 1., 1., 1., 1.],\n",
       "       [1., 1., 1., 1., 1.],\n",
       "       [1., 1., 1., 1., 1.],\n",
       "       [0., 0., 0., 0., 0.]])"
      ]
     },
     "execution_count": 125,
     "metadata": {},
     "output_type": "execute_result"
    }
   ],
   "source": [
    "a"
   ]
  },
  {
   "cell_type": "markdown",
   "id": "68187971",
   "metadata": {},
   "source": [
    "###### 00000\n",
    "###### 01110\n",
    "###### 01110\n",
    "###### 01110\n",
    "###### 00000"
   ]
  },
  {
   "cell_type": "code",
   "execution_count": 130,
   "id": "e3a98145",
   "metadata": {},
   "outputs": [
    {
     "data": {
      "text/plain": [
       "array([[0., 0., 0., 0., 0.],\n",
       "       [0., 0., 0., 0., 0.],\n",
       "       [0., 0., 0., 0., 0.],\n",
       "       [0., 0., 0., 0., 0.],\n",
       "       [0., 0., 0., 0., 0.]])"
      ]
     },
     "execution_count": 130,
     "metadata": {},
     "output_type": "execute_result"
    }
   ],
   "source": [
    "a = np.zeros((5,5))\n",
    "a"
   ]
  },
  {
   "cell_type": "code",
   "execution_count": 131,
   "id": "22564443",
   "metadata": {},
   "outputs": [],
   "source": [
    "a[1] = 1\n",
    "a[2] = 1\n",
    "a[3] = 1"
   ]
  },
  {
   "cell_type": "code",
   "execution_count": 132,
   "id": "04b8b86a",
   "metadata": {},
   "outputs": [
    {
     "data": {
      "text/plain": [
       "array([[0., 0., 0., 0., 0.],\n",
       "       [1., 1., 1., 1., 1.],\n",
       "       [1., 1., 1., 1., 1.],\n",
       "       [1., 1., 1., 1., 1.],\n",
       "       [0., 0., 0., 0., 0.]])"
      ]
     },
     "execution_count": 132,
     "metadata": {},
     "output_type": "execute_result"
    }
   ],
   "source": [
    "a"
   ]
  },
  {
   "cell_type": "code",
   "execution_count": 133,
   "id": "c0b15d59",
   "metadata": {},
   "outputs": [
    {
     "data": {
      "text/plain": [
       "array([[0., 0., 0., 0., 0.],\n",
       "       [0., 1., 1., 1., 1.],\n",
       "       [0., 1., 1., 1., 1.],\n",
       "       [0., 1., 1., 1., 1.],\n",
       "       [0., 0., 0., 0., 0.]])"
      ]
     },
     "execution_count": 133,
     "metadata": {},
     "output_type": "execute_result"
    }
   ],
   "source": [
    "a[1,0] = 0\n",
    "a[2,0] = 0\n",
    "a[3,0] = 0\n",
    "a"
   ]
  },
  {
   "cell_type": "code",
   "execution_count": 134,
   "id": "ec25e02a",
   "metadata": {},
   "outputs": [
    {
     "data": {
      "text/plain": [
       "array([[0., 0., 0., 0., 0.],\n",
       "       [0., 1., 1., 1., 0.],\n",
       "       [0., 1., 1., 1., 0.],\n",
       "       [0., 1., 1., 1., 0.],\n",
       "       [0., 0., 0., 0., 0.]])"
      ]
     },
     "execution_count": 134,
     "metadata": {},
     "output_type": "execute_result"
    }
   ],
   "source": [
    "a[1,4] = 0\n",
    "a[2,4] = 0\n",
    "a[3,4] = 0\n",
    "a"
   ]
  },
  {
   "cell_type": "markdown",
   "id": "83a0ba56",
   "metadata": {},
   "source": [
    "# it is the required shape"
   ]
  },
  {
   "cell_type": "code",
   "execution_count": 136,
   "id": "6e2c605a",
   "metadata": {},
   "outputs": [
    {
     "data": {
      "text/plain": [
       "array([[0., 0., 0., 0., 0.],\n",
       "       [0., 1., 1., 1., 0.],\n",
       "       [0., 1., 1., 1., 0.],\n",
       "       [0., 1., 1., 1., 0.],\n",
       "       [0., 0., 0., 0., 0.]])"
      ]
     },
     "execution_count": 136,
     "metadata": {},
     "output_type": "execute_result"
    }
   ],
   "source": [
    "a \n"
   ]
  },
  {
   "cell_type": "markdown",
   "id": "edc56dec",
   "metadata": {},
   "source": [
    "## OR , smarter approach"
   ]
  },
  {
   "cell_type": "code",
   "execution_count": 137,
   "id": "3937798f",
   "metadata": {},
   "outputs": [
    {
     "data": {
      "text/plain": [
       "array([[0., 0., 0., 0., 0.],\n",
       "       [0., 0., 0., 0., 0.],\n",
       "       [0., 0., 0., 0., 0.],\n",
       "       [0., 0., 0., 0., 0.],\n",
       "       [0., 0., 0., 0., 0.]])"
      ]
     },
     "execution_count": 137,
     "metadata": {},
     "output_type": "execute_result"
    }
   ],
   "source": [
    "b = np.zeros((5,5))\n",
    "b"
   ]
  },
  {
   "cell_type": "code",
   "execution_count": 138,
   "id": "8d885253",
   "metadata": {},
   "outputs": [
    {
     "data": {
      "text/plain": [
       "array([[0., 0., 0., 0., 0.],\n",
       "       [0., 1., 1., 1., 0.],\n",
       "       [0., 1., 1., 1., 0.],\n",
       "       [0., 1., 1., 1., 0.],\n",
       "       [0., 0., 0., 0., 0.]])"
      ]
     },
     "execution_count": 138,
     "metadata": {},
     "output_type": "execute_result"
    }
   ],
   "source": [
    "b[1:-1, 1:-1] = 1\n",
    "b"
   ]
  },
  {
   "cell_type": "markdown",
   "id": "7d747af7",
   "metadata": {},
   "source": [
    "# Checkerboard pattern:"
   ]
  },
  {
   "cell_type": "code",
   "execution_count": 154,
   "id": "452acbd0",
   "metadata": {},
   "outputs": [
    {
     "data": {
      "text/plain": [
       "array([[1., 1., 1., 1., 1.],\n",
       "       [1., 1., 1., 1., 1.],\n",
       "       [1., 1., 1., 1., 1.],\n",
       "       [1., 1., 1., 1., 1.],\n",
       "       [1., 1., 1., 1., 1.]])"
      ]
     },
     "execution_count": 154,
     "metadata": {},
     "output_type": "execute_result"
    }
   ],
   "source": [
    "chkboard = np.ones((5,5))\n",
    "chkboard"
   ]
  },
  {
   "cell_type": "code",
   "execution_count": 156,
   "id": "bb05d1c4",
   "metadata": {},
   "outputs": [
    {
     "data": {
      "text/plain": [
       "array([[1., 0., 1., 0., 1.],\n",
       "       [0., 1., 0., 1., 0.],\n",
       "       [1., 0., 1., 0., 1.],\n",
       "       [0., 1., 0., 1., 0.],\n",
       "       [1., 0., 1., 0., 1.]])"
      ]
     },
     "execution_count": 156,
     "metadata": {},
     "output_type": "execute_result"
    }
   ],
   "source": [
    "chkboard[0,1] = 0\n",
    "chkboard[0,3] = 0\n",
    "chkboard[1,0] = 0\n",
    "chkboard[1,2] = 0\n",
    "chkboard[1,4] = 0\n",
    "chkboard[2,1] = 0\n",
    "chkboard[2,3] = 0\n",
    "chkboard[3,0] = 0\n",
    "chkboard[3,2] = 0\n",
    "chkboard[3,4] = 0\n",
    "chkboard[4,1] = 0\n",
    "chkboard[4,3] = 0\n",
    "\n",
    "\n",
    "chkboard"
   ]
  },
  {
   "cell_type": "code",
   "execution_count": null,
   "id": "52c054f7",
   "metadata": {},
   "outputs": [],
   "source": []
  },
  {
   "cell_type": "markdown",
   "id": "52b07c21",
   "metadata": {},
   "source": [
    "# Football ground:"
   ]
  },
  {
   "cell_type": "code",
   "execution_count": 139,
   "id": "cf7eca38",
   "metadata": {},
   "outputs": [
    {
     "data": {
      "text/plain": [
       "array([[0., 0., 0., 0., 0., 0., 0., 0., 0., 0.],\n",
       "       [0., 0., 0., 0., 0., 0., 0., 0., 0., 0.],\n",
       "       [0., 0., 0., 0., 0., 0., 0., 0., 0., 0.],\n",
       "       [0., 0., 0., 0., 0., 0., 0., 0., 0., 0.],\n",
       "       [0., 0., 0., 0., 0., 0., 0., 0., 0., 0.],\n",
       "       [0., 0., 0., 0., 0., 0., 0., 0., 0., 0.],\n",
       "       [0., 0., 0., 0., 0., 0., 0., 0., 0., 0.],\n",
       "       [0., 0., 0., 0., 0., 0., 0., 0., 0., 0.],\n",
       "       [0., 0., 0., 0., 0., 0., 0., 0., 0., 0.],\n",
       "       [0., 0., 0., 0., 0., 0., 0., 0., 0., 0.]])"
      ]
     },
     "execution_count": 139,
     "metadata": {},
     "output_type": "execute_result"
    }
   ],
   "source": [
    "football_ground = np.zeros((10,10))\n",
    "football_ground"
   ]
  },
  {
   "cell_type": "code",
   "execution_count": 140,
   "id": "d5440abf",
   "metadata": {},
   "outputs": [
    {
     "data": {
      "text/plain": [
       "array([[1., 1., 1., 1., 1., 1., 1., 1., 1., 1.],\n",
       "       [0., 0., 0., 0., 0., 0., 0., 0., 0., 0.],\n",
       "       [1., 1., 1., 1., 1., 1., 1., 1., 1., 1.],\n",
       "       [0., 0., 0., 0., 0., 0., 0., 0., 0., 0.],\n",
       "       [1., 1., 1., 1., 1., 1., 1., 1., 1., 1.],\n",
       "       [0., 0., 0., 0., 0., 0., 0., 0., 0., 0.],\n",
       "       [1., 1., 1., 1., 1., 1., 1., 1., 1., 1.],\n",
       "       [0., 0., 0., 0., 0., 0., 0., 0., 0., 0.],\n",
       "       [1., 1., 1., 1., 1., 1., 1., 1., 1., 1.],\n",
       "       [0., 0., 0., 0., 0., 0., 0., 0., 0., 0.]])"
      ]
     },
     "execution_count": 140,
     "metadata": {},
     "output_type": "execute_result"
    }
   ],
   "source": [
    "football_ground[::2]= 1\n",
    "football_ground"
   ]
  },
  {
   "cell_type": "code",
   "execution_count": 141,
   "id": "b0e4b134",
   "metadata": {},
   "outputs": [
    {
     "data": {
      "text/plain": [
       "array([[1., 1., 1., 1., 1., 1., 1., 1., 1., 1.],\n",
       "       [1., 1., 1., 1., 1., 1., 1., 1., 1., 1.],\n",
       "       [1., 1., 1., 1., 1., 1., 1., 1., 1., 1.],\n",
       "       [1., 1., 1., 1., 1., 1., 1., 1., 1., 1.],\n",
       "       [1., 1., 1., 1., 1., 1., 1., 1., 1., 1.],\n",
       "       [1., 1., 1., 1., 1., 1., 1., 1., 1., 1.],\n",
       "       [1., 1., 1., 1., 1., 1., 1., 1., 1., 1.],\n",
       "       [1., 1., 1., 1., 1., 1., 1., 1., 1., 1.],\n",
       "       [1., 1., 1., 1., 1., 1., 1., 1., 1., 1.],\n",
       "       [1., 1., 1., 1., 1., 1., 1., 1., 1., 1.]])"
      ]
     },
     "execution_count": 141,
     "metadata": {},
     "output_type": "execute_result"
    }
   ],
   "source": [
    "football_ground = np.ones((10,10))\n",
    "football_ground"
   ]
  },
  {
   "cell_type": "code",
   "execution_count": 142,
   "id": "043d06bc",
   "metadata": {},
   "outputs": [
    {
     "data": {
      "text/plain": [
       "array([[0., 0., 0., 0., 0., 0., 0., 0., 0., 0.],\n",
       "       [1., 1., 1., 1., 1., 1., 1., 1., 1., 1.],\n",
       "       [0., 0., 0., 0., 0., 0., 0., 0., 0., 0.],\n",
       "       [1., 1., 1., 1., 1., 1., 1., 1., 1., 1.],\n",
       "       [0., 0., 0., 0., 0., 0., 0., 0., 0., 0.],\n",
       "       [1., 1., 1., 1., 1., 1., 1., 1., 1., 1.],\n",
       "       [0., 0., 0., 0., 0., 0., 0., 0., 0., 0.],\n",
       "       [1., 1., 1., 1., 1., 1., 1., 1., 1., 1.],\n",
       "       [0., 0., 0., 0., 0., 0., 0., 0., 0., 0.],\n",
       "       [1., 1., 1., 1., 1., 1., 1., 1., 1., 1.]])"
      ]
     },
     "execution_count": 142,
     "metadata": {},
     "output_type": "execute_result"
    }
   ],
   "source": [
    "football_ground[::2]= 0\n",
    "football_ground"
   ]
  },
  {
   "cell_type": "markdown",
   "id": "8417c6a3",
   "metadata": {},
   "source": [
    "# comparison between metrices:\n"
   ]
  },
  {
   "cell_type": "code",
   "execution_count": 162,
   "id": "ff612b17",
   "metadata": {},
   "outputs": [],
   "source": [
    "salary = np.array([100,540,220,560,340,260,1100])\n"
   ]
  },
  {
   "cell_type": "code",
   "execution_count": 163,
   "id": "c0aec361",
   "metadata": {},
   "outputs": [
    {
     "data": {
      "text/plain": [
       "array([ 100,  540,  220,  560,  340,  260, 1100])"
      ]
     },
     "execution_count": 163,
     "metadata": {},
     "output_type": "execute_result"
    }
   ],
   "source": [
    "salary"
   ]
  },
  {
   "cell_type": "code",
   "execution_count": 164,
   "id": "dc298118",
   "metadata": {},
   "outputs": [
    {
     "data": {
      "text/plain": [
       "array([False,  True, False,  True, False, False,  True])"
      ]
     },
     "execution_count": 164,
     "metadata": {},
     "output_type": "execute_result"
    }
   ],
   "source": [
    "salary > 500"
   ]
  },
  {
   "cell_type": "markdown",
   "id": "53da1023",
   "metadata": {},
   "source": [
    "# for getting the values instead of True/False:"
   ]
  },
  {
   "cell_type": "code",
   "execution_count": 165,
   "id": "212c0b46",
   "metadata": {},
   "outputs": [
    {
     "data": {
      "text/plain": [
       "array([ 540,  560, 1100])"
      ]
     },
     "execution_count": 165,
     "metadata": {},
     "output_type": "execute_result"
    }
   ],
   "source": [
    "salary [salary > 500]"
   ]
  },
  {
   "cell_type": "markdown",
   "id": "dc1a0c5f",
   "metadata": {},
   "source": [
    "# Try all functions of array:"
   ]
  },
  {
   "cell_type": "code",
   "execution_count": null,
   "id": "570516dc",
   "metadata": {},
   "outputs": [],
   "source": []
  }
 ],
 "metadata": {
  "kernelspec": {
   "display_name": "Python 3 (ipykernel)",
   "language": "python",
   "name": "python3"
  },
  "language_info": {
   "codemirror_mode": {
    "name": "ipython",
    "version": 3
   },
   "file_extension": ".py",
   "mimetype": "text/x-python",
   "name": "python",
   "nbconvert_exporter": "python",
   "pygments_lexer": "ipython3",
   "version": "3.9.12"
  }
 },
 "nbformat": 4,
 "nbformat_minor": 5
}
