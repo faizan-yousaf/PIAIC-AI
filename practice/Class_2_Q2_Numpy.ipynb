{
 "cells": [
  {
   "cell_type": "markdown",
   "id": "5bf40a53",
   "metadata": {},
   "source": [
    "# Class2_Numpy"
   ]
  },
  {
   "cell_type": "markdown",
   "id": "2240fa54",
   "metadata": {},
   "source": [
    "* We can't do vectorized opertions on lists and also we have to use loops for doing basic calculations."
   ]
  },
  {
   "cell_type": "code",
   "execution_count": 3,
   "id": "1fd3f74d",
   "metadata": {},
   "outputs": [
    {
     "data": {
      "text/plain": [
       "array([ 3,  8, 14])"
      ]
     },
     "execution_count": 3,
     "metadata": {},
     "output_type": "execute_result"
    }
   ],
   "source": [
    "a = np.array([1,5,8])\n",
    "b = np.array([2,3,6])\n",
    "a+b"
   ]
  },
  {
   "cell_type": "markdown",
   "id": "fd15390e",
   "metadata": {},
   "source": [
    "### But in lists:"
   ]
  },
  {
   "cell_type": "code",
   "execution_count": 4,
   "id": "cea1c2b2",
   "metadata": {},
   "outputs": [
    {
     "data": {
      "text/plain": [
       "[1, 5, 8, 2, 3, 6]"
      ]
     },
     "execution_count": 4,
     "metadata": {},
     "output_type": "execute_result"
    }
   ],
   "source": [
    "a = [1,5,8]\n",
    "b = [2,3,6]\n",
    "\n",
    "a+b # it will concatinate the both lists.."
   ]
  },
  {
   "cell_type": "markdown",
   "id": "0705eef0",
   "metadata": {},
   "source": [
    "# Use of enumerate funtion:"
   ]
  },
  {
   "cell_type": "code",
   "execution_count": 5,
   "id": "88967271",
   "metadata": {},
   "outputs": [
    {
     "name": "stdout",
     "output_type": "stream",
     "text": [
      "[3, 8, 14]\n"
     ]
    }
   ],
   "source": [
    "#to add both lists we will use loops:\n",
    "sum = []\n",
    "for i,e in enumerate(a):\n",
    "    sum.append(a[i]+b[i])\n",
    "    \n",
    "print(sum)"
   ]
  },
  {
   "cell_type": "markdown",
   "id": "d7b59e56",
   "metadata": {},
   "source": [
    "# ==> where funtion in numpy:\n",
    "\n",
    "   * `np.where(condition, option A, option B)`"
   ]
  },
  {
   "cell_type": "code",
   "execution_count": 1,
   "id": "e781e0e4",
   "metadata": {},
   "outputs": [],
   "source": [
    "import numpy as np"
   ]
  },
  {
   "cell_type": "code",
   "execution_count": 4,
   "id": "54ed90a5",
   "metadata": {},
   "outputs": [],
   "source": [
    "Marks = np.array([29,54,76,34,21,58,24,64])\n",
    "m = np.where(Marks >= 50, \"Pass\", \"Fail\")\n"
   ]
  },
  {
   "cell_type": "code",
   "execution_count": 5,
   "id": "08e960ae",
   "metadata": {},
   "outputs": [
    {
     "data": {
      "text/plain": [
       "array(['Fail', 'Pass', 'Pass', 'Fail', 'Fail', 'Pass', 'Fail', 'Pass'],\n",
       "      dtype='<U4')"
      ]
     },
     "execution_count": 5,
     "metadata": {},
     "output_type": "execute_result"
    }
   ],
   "source": [
    "m"
   ]
  },
  {
   "cell_type": "code",
   "execution_count": 9,
   "id": "f7a047cc",
   "metadata": {},
   "outputs": [],
   "source": [
    "salary = np.array([20,65,23,86,50,76,])\n",
    "incremented_salary = np.where(salary <50, salary*5.0, salary*2.5)\n"
   ]
  },
  {
   "cell_type": "code",
   "execution_count": 10,
   "id": "5f54018b",
   "metadata": {},
   "outputs": [
    {
     "data": {
      "text/plain": [
       "array([100. , 162.5, 115. , 215. , 125. , 190. ])"
      ]
     },
     "execution_count": 10,
     "metadata": {},
     "output_type": "execute_result"
    }
   ],
   "source": [
    "incremented_salary"
   ]
  },
  {
   "cell_type": "code",
   "execution_count": 11,
   "id": "043cf221",
   "metadata": {},
   "outputs": [
    {
     "data": {
      "text/plain": [
       "dtype('float64')"
      ]
     },
     "execution_count": 11,
     "metadata": {},
     "output_type": "execute_result"
    }
   ],
   "source": [
    "incremented_salary.dtype"
   ]
  },
  {
   "cell_type": "markdown",
   "id": "40248e51",
   "metadata": {},
   "source": [
    "# Transpose of an array:\n",
    "* changing rows into columns\n",
    "* `array.T` OR `array.transpose()`"
   ]
  },
  {
   "cell_type": "code",
   "execution_count": 17,
   "id": "4504c8cf",
   "metadata": {},
   "outputs": [],
   "source": [
    "arr = np.arange(1,101).reshape((10,10))"
   ]
  },
  {
   "cell_type": "code",
   "execution_count": 13,
   "id": "3f3fbb10",
   "metadata": {},
   "outputs": [
    {
     "data": {
      "text/plain": [
       "array([[  1,   2,   3,   4,   5,   6,   7,   8,   9,  10],\n",
       "       [ 11,  12,  13,  14,  15,  16,  17,  18,  19,  20],\n",
       "       [ 21,  22,  23,  24,  25,  26,  27,  28,  29,  30],\n",
       "       [ 31,  32,  33,  34,  35,  36,  37,  38,  39,  40],\n",
       "       [ 41,  42,  43,  44,  45,  46,  47,  48,  49,  50],\n",
       "       [ 51,  52,  53,  54,  55,  56,  57,  58,  59,  60],\n",
       "       [ 61,  62,  63,  64,  65,  66,  67,  68,  69,  70],\n",
       "       [ 71,  72,  73,  74,  75,  76,  77,  78,  79,  80],\n",
       "       [ 81,  82,  83,  84,  85,  86,  87,  88,  89,  90],\n",
       "       [ 91,  92,  93,  94,  95,  96,  97,  98,  99, 100]])"
      ]
     },
     "execution_count": 13,
     "metadata": {},
     "output_type": "execute_result"
    }
   ],
   "source": [
    "arr"
   ]
  },
  {
   "cell_type": "code",
   "execution_count": 18,
   "id": "0710b601",
   "metadata": {},
   "outputs": [
    {
     "data": {
      "text/plain": [
       "array([[  1,  11,  21,  31,  41,  51,  61,  71,  81,  91],\n",
       "       [  2,  12,  22,  32,  42,  52,  62,  72,  82,  92],\n",
       "       [  3,  13,  23,  33,  43,  53,  63,  73,  83,  93],\n",
       "       [  4,  14,  24,  34,  44,  54,  64,  74,  84,  94],\n",
       "       [  5,  15,  25,  35,  45,  55,  65,  75,  85,  95],\n",
       "       [  6,  16,  26,  36,  46,  56,  66,  76,  86,  96],\n",
       "       [  7,  17,  27,  37,  47,  57,  67,  77,  87,  97],\n",
       "       [  8,  18,  28,  38,  48,  58,  68,  78,  88,  98],\n",
       "       [  9,  19,  29,  39,  49,  59,  69,  79,  89,  99],\n",
       "       [ 10,  20,  30,  40,  50,  60,  70,  80,  90, 100]])"
      ]
     },
     "execution_count": 18,
     "metadata": {},
     "output_type": "execute_result"
    }
   ],
   "source": [
    "arr.T"
   ]
  },
  {
   "cell_type": "code",
   "execution_count": 19,
   "id": "d983b396",
   "metadata": {},
   "outputs": [
    {
     "data": {
      "text/plain": [
       "array([[  1,  11,  21,  31,  41,  51,  61,  71,  81,  91],\n",
       "       [  2,  12,  22,  32,  42,  52,  62,  72,  82,  92],\n",
       "       [  3,  13,  23,  33,  43,  53,  63,  73,  83,  93],\n",
       "       [  4,  14,  24,  34,  44,  54,  64,  74,  84,  94],\n",
       "       [  5,  15,  25,  35,  45,  55,  65,  75,  85,  95],\n",
       "       [  6,  16,  26,  36,  46,  56,  66,  76,  86,  96],\n",
       "       [  7,  17,  27,  37,  47,  57,  67,  77,  87,  97],\n",
       "       [  8,  18,  28,  38,  48,  58,  68,  78,  88,  98],\n",
       "       [  9,  19,  29,  39,  49,  59,  69,  79,  89,  99],\n",
       "       [ 10,  20,  30,  40,  50,  60,  70,  80,  90, 100]])"
      ]
     },
     "execution_count": 19,
     "metadata": {},
     "output_type": "execute_result"
    }
   ],
   "source": [
    "arr.transpose()"
   ]
  },
  {
   "cell_type": "markdown",
   "id": "31f112bc",
   "metadata": {},
   "source": []
  },
  {
   "cell_type": "markdown",
   "id": "0cacf640",
   "metadata": {},
   "source": [
    "# Mathematical & statistical methods in array: \n",
    "* Mean = `array.mean()` add all number and divide by total number.\n",
    "* Cumsum = `array.cumsum()` add previous number with the next one. \n",
    "* Cumprod = `array.cumprod()` multiply previous number with the next one."
   ]
  },
  {
   "cell_type": "code",
   "execution_count": 20,
   "id": "2c2c6039",
   "metadata": {},
   "outputs": [
    {
     "data": {
      "text/plain": [
       "4.166666666666667"
      ]
     },
     "execution_count": 20,
     "metadata": {},
     "output_type": "execute_result"
    }
   ],
   "source": [
    "arr = np.array([1,4,6,7,2,5])\n",
    "arr.mean()"
   ]
  },
  {
   "cell_type": "code",
   "execution_count": 21,
   "id": "4ec53f9c",
   "metadata": {},
   "outputs": [
    {
     "data": {
      "text/plain": [
       "array([ 1,  5, 11, 18, 20, 25], dtype=int32)"
      ]
     },
     "execution_count": 21,
     "metadata": {},
     "output_type": "execute_result"
    }
   ],
   "source": [
    "arr.cumsum() "
   ]
  },
  {
   "cell_type": "code",
   "execution_count": 22,
   "id": "4995053d",
   "metadata": {},
   "outputs": [
    {
     "data": {
      "text/plain": [
       "array([   1,    4,   24,  168,  336, 1680], dtype=int32)"
      ]
     },
     "execution_count": 22,
     "metadata": {},
     "output_type": "execute_result"
    }
   ],
   "source": [
    "arr.cumprod()"
   ]
  },
  {
   "cell_type": "markdown",
   "id": "36f6f6d7",
   "metadata": {},
   "source": [
    "# Procedure Vs. Function:\n",
    "* Procedures don't return any value\n",
    "* Function return any value\n",
    "* Function made within class can be called a Method."
   ]
  },
  {
   "cell_type": "markdown",
   "id": "b4e3313a",
   "metadata": {},
   "source": [
    "# Mehtods for boolean array:\n",
    "* array.any()\n",
    "* array.all()"
   ]
  },
  {
   "cell_type": "code",
   "execution_count": 8,
   "id": "f6452ddb",
   "metadata": {},
   "outputs": [],
   "source": [
    "gender = np.array(['Male', 'Female', 'Male', 'Male', 'Female', 'Male'])\n"
   ]
  },
  {
   "cell_type": "code",
   "execution_count": 9,
   "id": "9becf222",
   "metadata": {},
   "outputs": [
    {
     "data": {
      "text/plain": [
       "array(['Male', 'Female', 'Male', 'Male', 'Female', 'Male'], dtype='<U6')"
      ]
     },
     "execution_count": 9,
     "metadata": {},
     "output_type": "execute_result"
    }
   ],
   "source": [
    "gender"
   ]
  },
  {
   "cell_type": "code",
   "execution_count": 15,
   "id": "82d46bd6",
   "metadata": {},
   "outputs": [
    {
     "data": {
      "text/plain": [
       "array([ True, False,  True,  True, False,  True])"
      ]
     },
     "execution_count": 15,
     "metadata": {},
     "output_type": "execute_result"
    }
   ],
   "source": [
    "a = gender == 'Male'\n",
    "a"
   ]
  },
  {
   "cell_type": "code",
   "execution_count": 11,
   "id": "e4ff556b",
   "metadata": {},
   "outputs": [
    {
     "data": {
      "text/plain": [
       "array(['Male', 'Male', 'Male', 'Male'], dtype='<U6')"
      ]
     },
     "execution_count": 11,
     "metadata": {},
     "output_type": "execute_result"
    }
   ],
   "source": [
    "gender[gender == 'Male']"
   ]
  },
  {
   "cell_type": "code",
   "execution_count": 26,
   "id": "9d613896",
   "metadata": {},
   "outputs": [
    {
     "data": {
      "text/plain": [
       "4"
      ]
     },
     "execution_count": 26,
     "metadata": {},
     "output_type": "execute_result"
    }
   ],
   "source": [
    "a.sum() #.sum function is simply adding the boolean values stored in variable 'a'."
   ]
  },
  {
   "cell_type": "code",
   "execution_count": 23,
   "id": "a1370903",
   "metadata": {},
   "outputs": [],
   "source": [
    "b = gender == 'Female'"
   ]
  },
  {
   "cell_type": "code",
   "execution_count": 24,
   "id": "a65b3601",
   "metadata": {},
   "outputs": [
    {
     "data": {
      "text/plain": [
       "array([False,  True, False, False,  True, False])"
      ]
     },
     "execution_count": 24,
     "metadata": {},
     "output_type": "execute_result"
    }
   ],
   "source": [
    "b"
   ]
  },
  {
   "cell_type": "code",
   "execution_count": 22,
   "id": "50f651b4",
   "metadata": {},
   "outputs": [
    {
     "data": {
      "text/plain": [
       "array(['Female', 'Female'], dtype='<U6')"
      ]
     },
     "execution_count": 22,
     "metadata": {},
     "output_type": "execute_result"
    }
   ],
   "source": [
    "gender[gender == 'Female']"
   ]
  },
  {
   "cell_type": "code",
   "execution_count": 27,
   "id": "edbc871f",
   "metadata": {},
   "outputs": [
    {
     "data": {
      "text/plain": [
       "2"
      ]
     },
     "execution_count": 27,
     "metadata": {},
     "output_type": "execute_result"
    }
   ],
   "source": [
    "b.sum() #.sum function is simply adding the boolean values stored in variable 'b'."
   ]
  },
  {
   "cell_type": "markdown",
   "id": "cd14c208",
   "metadata": {},
   "source": [
    "# -> array.any():\n",
    "* it is used to tell if there is any true value in the variable or not.\n",
    "* it will work only on boolean "
   ]
  },
  {
   "cell_type": "markdown",
   "id": "962f3877",
   "metadata": {},
   "source": [
    "# -> array.all():\n",
    "* it will be true if all values of a variable is true.\n",
    "* it will work only on boolean "
   ]
  },
  {
   "cell_type": "markdown",
   "id": "306b5396",
   "metadata": {},
   "source": [
    "#### Let's apply any() function on our previous variables of Male and Female data."
   ]
  },
  {
   "cell_type": "code",
   "execution_count": 28,
   "id": "0ffa9936",
   "metadata": {},
   "outputs": [
    {
     "data": {
      "text/plain": [
       "True"
      ]
     },
     "execution_count": 28,
     "metadata": {},
     "output_type": "execute_result"
    }
   ],
   "source": [
    "a.any()"
   ]
  },
  {
   "cell_type": "code",
   "execution_count": 29,
   "id": "ccf837ca",
   "metadata": {},
   "outputs": [
    {
     "data": {
      "text/plain": [
       "True"
      ]
     },
     "execution_count": 29,
     "metadata": {},
     "output_type": "execute_result"
    }
   ],
   "source": [
    "b.any()"
   ]
  },
  {
   "cell_type": "code",
   "execution_count": 30,
   "id": "25680927",
   "metadata": {},
   "outputs": [
    {
     "data": {
      "text/plain": [
       "False"
      ]
     },
     "execution_count": 30,
     "metadata": {},
     "output_type": "execute_result"
    }
   ],
   "source": [
    "a.all()"
   ]
  },
  {
   "cell_type": "code",
   "execution_count": 49,
   "id": "10244379",
   "metadata": {},
   "outputs": [],
   "source": [
    "# let's make another np array with all true values:\n",
    "gender_male = np.array(['Male','Male', 'Male', 'Male'])"
   ]
  },
  {
   "cell_type": "code",
   "execution_count": 50,
   "id": "c12ce086",
   "metadata": {},
   "outputs": [
    {
     "data": {
      "text/plain": [
       "array(['Male', 'Male', 'Male', 'Male'], dtype='<U4')"
      ]
     },
     "execution_count": 50,
     "metadata": {},
     "output_type": "execute_result"
    }
   ],
   "source": [
    "gender_male"
   ]
  },
  {
   "cell_type": "code",
   "execution_count": 51,
   "id": "11ec4d31",
   "metadata": {},
   "outputs": [
    {
     "data": {
      "text/plain": [
       "array([ True,  True,  True,  True])"
      ]
     },
     "execution_count": 51,
     "metadata": {},
     "output_type": "execute_result"
    }
   ],
   "source": [
    "gender_male == \"Male\""
   ]
  },
  {
   "cell_type": "code",
   "execution_count": 45,
   "id": "8dd349c0",
   "metadata": {},
   "outputs": [
    {
     "data": {
      "text/plain": [
       "array([ True,  True,  True,  True])"
      ]
     },
     "execution_count": 45,
     "metadata": {},
     "output_type": "execute_result"
    }
   ],
   "source": [
    "gender_m"
   ]
  },
  {
   "cell_type": "code",
   "execution_count": 56,
   "id": "c010f371",
   "metadata": {
    "scrolled": true
   },
   "outputs": [
    {
     "data": {
      "text/plain": [
       "True"
      ]
     },
     "execution_count": 56,
     "metadata": {},
     "output_type": "execute_result"
    }
   ],
   "source": [
    "gender_m.any() # to find if there is any true value."
   ]
  },
  {
   "cell_type": "code",
   "execution_count": 59,
   "id": "5fc5f2dd",
   "metadata": {},
   "outputs": [
    {
     "data": {
      "text/plain": [
       "True"
      ]
     },
     "execution_count": 59,
     "metadata": {},
     "output_type": "execute_result"
    }
   ],
   "source": [
    "gender_m.all() # to find out if all values are true."
   ]
  },
  {
   "cell_type": "code",
   "execution_count": 58,
   "id": "15aec034",
   "metadata": {},
   "outputs": [
    {
     "data": {
      "text/plain": [
       "4"
      ]
     },
     "execution_count": 58,
     "metadata": {},
     "output_type": "execute_result"
    }
   ],
   "source": [
    "gender_m.sum() # to find how many true values we have in our vairable."
   ]
  },
  {
   "cell_type": "code",
   "execution_count": 60,
   "id": "121b4571",
   "metadata": {},
   "outputs": [],
   "source": [
    "arr = np.array([2,5,7,8,9])\n",
    "x = arr%2 == 0"
   ]
  },
  {
   "cell_type": "code",
   "execution_count": 61,
   "id": "ace1132c",
   "metadata": {},
   "outputs": [
    {
     "data": {
      "text/plain": [
       "array([ True, False, False,  True, False])"
      ]
     },
     "execution_count": 61,
     "metadata": {},
     "output_type": "execute_result"
    }
   ],
   "source": [
    "x"
   ]
  },
  {
   "cell_type": "code",
   "execution_count": 63,
   "id": "72a19aa2",
   "metadata": {},
   "outputs": [
    {
     "data": {
      "text/plain": [
       "array([2, 8])"
      ]
     },
     "execution_count": 63,
     "metadata": {},
     "output_type": "execute_result"
    }
   ],
   "source": [
    "arr[arr%2 == 0] # to get the exact true values."
   ]
  },
  {
   "cell_type": "code",
   "execution_count": 64,
   "id": "89f56b6c",
   "metadata": {},
   "outputs": [
    {
     "data": {
      "text/plain": [
       "2"
      ]
     },
     "execution_count": 64,
     "metadata": {},
     "output_type": "execute_result"
    }
   ],
   "source": [
    "x.sum() # it means the sum of true values is 2. so we've 2 true values."
   ]
  },
  {
   "cell_type": "code",
   "execution_count": 65,
   "id": "204d0328",
   "metadata": {},
   "outputs": [
    {
     "data": {
      "text/plain": [
       "True"
      ]
     },
     "execution_count": 65,
     "metadata": {},
     "output_type": "execute_result"
    }
   ],
   "source": [
    "x.any() # to find if there is any true value."
   ]
  },
  {
   "cell_type": "code",
   "execution_count": 66,
   "id": "9c0e01ab",
   "metadata": {},
   "outputs": [
    {
     "data": {
      "text/plain": [
       "False"
      ]
     },
     "execution_count": 66,
     "metadata": {},
     "output_type": "execute_result"
    }
   ],
   "source": [
    "x.all() # to find out if all values are true."
   ]
  },
  {
   "cell_type": "markdown",
   "id": "e44fca29",
   "metadata": {},
   "source": [
    "# Universal Quantifier:\n",
    "* check if all the values exit.\n",
    "# Existantial Quantifier:\n",
    "* check if any one value exist."
   ]
  },
  {
   "cell_type": "markdown",
   "id": "d3f590bd",
   "metadata": {},
   "source": [
    "# .sort()"
   ]
  },
  {
   "cell_type": "code",
   "execution_count": 84,
   "id": "d22616a1",
   "metadata": {},
   "outputs": [],
   "source": [
    "arr1 = np.array([1,6,3,6,2,15,7,4,2])"
   ]
  },
  {
   "cell_type": "code",
   "execution_count": 85,
   "id": "bf822837",
   "metadata": {},
   "outputs": [],
   "source": [
    "arr1.sort()"
   ]
  },
  {
   "cell_type": "code",
   "execution_count": 86,
   "id": "f1444c7c",
   "metadata": {},
   "outputs": [
    {
     "data": {
      "text/plain": [
       "array([ 1,  2,  2,  3,  4,  6,  6,  7, 15])"
      ]
     },
     "execution_count": 86,
     "metadata": {},
     "output_type": "execute_result"
    }
   ],
   "source": [
    "arr1"
   ]
  },
  {
   "cell_type": "code",
   "execution_count": 87,
   "id": "043f2dff",
   "metadata": {},
   "outputs": [],
   "source": [
    "arr1.sort() # inplace"
   ]
  },
  {
   "cell_type": "code",
   "execution_count": 88,
   "id": "c14ee05e",
   "metadata": {},
   "outputs": [
    {
     "data": {
      "text/plain": [
       "array([15,  7,  6,  6,  4,  3,  2,  2,  1])"
      ]
     },
     "execution_count": 88,
     "metadata": {},
     "output_type": "execute_result"
    }
   ],
   "source": [
    "arr1[::-1]"
   ]
  },
  {
   "cell_type": "markdown",
   "id": "94b9b186",
   "metadata": {},
   "source": [
    "# arr.unique():\n",
    "* it is used to get the unique values (not repeated values)"
   ]
  },
  {
   "cell_type": "code",
   "execution_count": 90,
   "id": "c23b1163",
   "metadata": {},
   "outputs": [
    {
     "data": {
      "text/plain": [
       "array([ 1,  2,  3,  4,  6,  7, 15])"
      ]
     },
     "execution_count": 90,
     "metadata": {},
     "output_type": "execute_result"
    }
   ],
   "source": [
    "np.unique(arr1)  "
   ]
  },
  {
   "cell_type": "code",
   "execution_count": 92,
   "id": "c06ceed6",
   "metadata": {},
   "outputs": [],
   "source": [
    "a = np.unique(arr1)  "
   ]
  },
  {
   "cell_type": "markdown",
   "id": "21394d79",
   "metadata": {},
   "source": [
    "# File Input Output:"
   ]
  },
  {
   "cell_type": "markdown",
   "id": "0b81bb7c",
   "metadata": {},
   "source": [
    "* `np.save()` is used to save an array in a file. <br>\n",
    "    * syntax : `np.save(\"filename\", array)` <br>\n",
    "        * it's extension is `.npy`"
   ]
  },
  {
   "cell_type": "markdown",
   "id": "172997d4",
   "metadata": {},
   "source": [
    "* `np.load()` is used to load the save file. <br>\n",
    "     * syntax : `np.load(\"filename.extension\")` <br>\n",
    "         * it's important to write extension with file name."
   ]
  },
  {
   "cell_type": "markdown",
   "id": "091f4243",
   "metadata": {},
   "source": [
    "* `np.savez()` is used to save multiple arrays in a file. <br>\n",
    "    \n",
    "    * syntax : `np.savez(\"filename\", kwrg1=arr1 , kwrg2=arr2)`\n",
    "        * it's extension is `.npz`\n",
    "            "
   ]
  },
  {
   "cell_type": "markdown",
   "id": "a2461d7f",
   "metadata": {},
   "source": [
    "# => save array"
   ]
  },
  {
   "cell_type": "code",
   "execution_count": 93,
   "id": "e055877b",
   "metadata": {},
   "outputs": [],
   "source": [
    "np.save(\"data\", a) # the file is saved in the current directory"
   ]
  },
  {
   "cell_type": "markdown",
   "id": "a8cfe8da",
   "metadata": {},
   "source": [
    "# => load array"
   ]
  },
  {
   "cell_type": "code",
   "execution_count": 95,
   "id": "b4f6ba57",
   "metadata": {},
   "outputs": [],
   "source": [
    "content = np.load(\"data.npy\")"
   ]
  },
  {
   "cell_type": "code",
   "execution_count": 96,
   "id": "e528d112",
   "metadata": {},
   "outputs": [
    {
     "data": {
      "text/plain": [
       "array([ 1,  2,  3,  4,  6,  7, 15])"
      ]
     },
     "execution_count": 96,
     "metadata": {},
     "output_type": "execute_result"
    }
   ],
   "source": [
    "content"
   ]
  },
  {
   "cell_type": "markdown",
   "id": "99d1e39a",
   "metadata": {},
   "source": [
    "# => saving multiple arrays:"
   ]
  },
  {
   "cell_type": "code",
   "execution_count": 97,
   "id": "52be7081",
   "metadata": {},
   "outputs": [],
   "source": [
    "students = np.array(['ali', 'ahmed', 'subhan'])\n",
    "marks    = np.array([30 , 24 , 65])"
   ]
  },
  {
   "cell_type": "code",
   "execution_count": 98,
   "id": "f3f46751",
   "metadata": {},
   "outputs": [],
   "source": [
    "np.savez(\"arrays\", stu= students, m= marks) #stu & m are keyword arguments"
   ]
  },
  {
   "cell_type": "markdown",
   "id": "f96b7f34",
   "metadata": {},
   "source": [
    "### * we can't view the saved data in normal file but we can use the saved numpy data in our notebooks for further procesing"
   ]
  },
  {
   "cell_type": "markdown",
   "id": "b9d7af6b",
   "metadata": {},
   "source": [
    "# => load array"
   ]
  },
  {
   "cell_type": "code",
   "execution_count": 3,
   "id": "47f3a450",
   "metadata": {},
   "outputs": [
    {
     "data": {
      "text/plain": [
       "<numpy.lib.npyio.NpzFile at 0x16aff15aeb0>"
      ]
     },
     "execution_count": 3,
     "metadata": {},
     "output_type": "execute_result"
    }
   ],
   "source": [
    "np.load(\"arrays.npz\")"
   ]
  },
  {
   "cell_type": "code",
   "execution_count": 4,
   "id": "88e77d34",
   "metadata": {},
   "outputs": [],
   "source": [
    "results = np.load(\"arrays.npz\") "
   ]
  },
  {
   "cell_type": "code",
   "execution_count": 5,
   "id": "390b11c8",
   "metadata": {},
   "outputs": [
    {
     "data": {
      "text/plain": [
       "<numpy.lib.npyio.NpzFile at 0x16aff3401c0>"
      ]
     },
     "execution_count": 5,
     "metadata": {},
     "output_type": "execute_result"
    }
   ],
   "source": [
    "results"
   ]
  },
  {
   "cell_type": "code",
   "execution_count": 106,
   "id": "ca607d74",
   "metadata": {},
   "outputs": [
    {
     "data": {
      "text/plain": [
       "array(['ali', 'ahmed', 'subhan'], dtype='<U6')"
      ]
     },
     "execution_count": 106,
     "metadata": {},
     "output_type": "execute_result"
    }
   ],
   "source": [
    "results[\"stu\"] # it works like a dictionary where we use keys to get the respective values."
   ]
  },
  {
   "cell_type": "code",
   "execution_count": 107,
   "id": "bfd1db3d",
   "metadata": {},
   "outputs": [
    {
     "data": {
      "text/plain": [
       "array([30, 24, 65])"
      ]
     },
     "execution_count": 107,
     "metadata": {},
     "output_type": "execute_result"
    }
   ],
   "source": [
    "results[\"m\"]"
   ]
  },
  {
   "cell_type": "markdown",
   "id": "620c415a",
   "metadata": {},
   "source": [
    "# Linear Algebra operations:"
   ]
  },
  {
   "cell_type": "code",
   "execution_count": null,
   "id": "16870b2c",
   "metadata": {},
   "outputs": [],
   "source": []
  }
 ],
 "metadata": {
  "kernelspec": {
   "display_name": "Python 3 (ipykernel)",
   "language": "python",
   "name": "python3"
  },
  "language_info": {
   "codemirror_mode": {
    "name": "ipython",
    "version": 3
   },
   "file_extension": ".py",
   "mimetype": "text/x-python",
   "name": "python",
   "nbconvert_exporter": "python",
   "pygments_lexer": "ipython3",
   "version": "3.9.12"
  }
 },
 "nbformat": 4,
 "nbformat_minor": 5
}
